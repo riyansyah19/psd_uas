{
  "nbformat": 4,
  "nbformat_minor": 0,
  "metadata": {
    "colab": {
      "provenance": []
    },
    "kernelspec": {
      "name": "python3",
      "display_name": "Python 3"
    },
    "language_info": {
      "name": "python"
    }
  },
  "cells": [
    {
      "cell_type": "markdown",
      "source": [
        "#Prediksi Harga Saham 7 Hari ke Depan"
      ],
      "metadata": {
        "id": "8iDVfBDm6TAN"
      }
    },
    {
      "cell_type": "markdown",
      "source": [
        "#business understanding"
      ],
      "metadata": {
        "id": "hcMwj5WD_VRJ"
      }
    },
    {
      "cell_type": "markdown",
      "source": [
        "Proyek ini bertujuan untuk menyediakan prediksi harga saham PT Bank Central Asia Tbk (BCA) untuk 7 hari ke depan secara akurat, sehingga dapat memberikan manfaat strategis bagi investor, trader, manajer portofolio, dan pengambil kebijakan di sektor keuangan.\n",
        "\n",
        "Investor dapat memanfaatkan prediksi harga untuk merencanakan keputusan investasi dengan lebih baik, seperti menentukan waktu yang tepat untuk membeli atau menjual saham BCA. Dengan informasi prediksi yang akurat, investor dapat meminimalkan risiko dan mengoptimalkan pengembalian investasi mereka berdasarkan potensi pergerakan harga.\n",
        "\n",
        "Trader dapat menggunakan prediksi ini sebagai bagian dari strategi trading jangka pendek. Prediksi harga membantu trader dalam mengambil posisi (buy atau sell) yang lebih terarah, meningkatkan peluang profit dalam kondisi pasar yang fluktuatif, serta mendukung pengambilan keputusan yang cepat dan data-driven.\n",
        "\n",
        "Manajer portofolio dapat mengintegrasikan prediksi harga saham BCA ke dalam strategi pengelolaan portofolio mereka. Informasi ini membantu mereka mengalokasikan aset dengan lebih efisien, menyeimbangkan risiko portofolio, dan memberikan rekomendasi investasi yang lebih tepat kepada klien mereka."
      ],
      "metadata": {
        "id": "EDrACcX7_aV9"
      }
    },
    {
      "cell_type": "markdown",
      "source": [
        "#Data Understanding"
      ],
      "metadata": {
        "id": "5rGd_hSc_Rx_"
      }
    },
    {
      "cell_type": "markdown",
      "source": [
        "data yang saya ambil merupakan data time series multivariate yaitu data harga saham BCA perhari yang diambil dari tanggal 02 Januari 2023 sampai 04 Desember 2024 pada provinsi jawa timur dengan jumlah data 456"
      ],
      "metadata": {
        "id": "wDN398vy8Ng5"
      }
    },
    {
      "cell_type": "code",
      "source": [
        "import pandas as pd\n",
        "\n",
        "# Membaca file Excel\n",
        "file_path = '/content/sample_data/Data Historis BBCA.xlsx'  # Ganti dengan path file Excel Anda\n",
        "df = pd.read_excel(file_path)\n",
        "\n",
        "df.head()"
      ],
      "metadata": {
        "colab": {
          "base_uri": "https://localhost:8080/",
          "height": 206
        },
        "id": "gLhK2W3u5u1u",
        "outputId": "3af899f2-6f24-4ddd-d588-e696e2558c6f"
      },
      "execution_count": 1,
      "outputs": [
        {
          "output_type": "execute_result",
          "data": {
            "text/plain": [
              "      Tanggal  Terakhir  Pembukaan  Tertinggi  Terendah    Vol. Perubahan%\n",
              "0  02/01/2023      8.55      8.575      8.600     8.500   11.41      0,00%\n",
              "1  03/01/2023      8.55      8.550      8.600     8.525   27.43      0,00%\n",
              "2  04/01/2023      8.35      8.525      8.575     8.350   90.99     -2,34%\n",
              "3  05/01/2023      8.25      8.350      8.375     8.150  128.84     -1,20%\n",
              "4  06/01/2023      8.30      8.100      8.325     8.100   69.29      0,61%"
            ],
            "text/html": [
              "\n",
              "  <div id=\"df-0a114360-6887-47c9-8bec-41741f78430b\" class=\"colab-df-container\">\n",
              "    <div>\n",
              "<style scoped>\n",
              "    .dataframe tbody tr th:only-of-type {\n",
              "        vertical-align: middle;\n",
              "    }\n",
              "\n",
              "    .dataframe tbody tr th {\n",
              "        vertical-align: top;\n",
              "    }\n",
              "\n",
              "    .dataframe thead th {\n",
              "        text-align: right;\n",
              "    }\n",
              "</style>\n",
              "<table border=\"1\" class=\"dataframe\">\n",
              "  <thead>\n",
              "    <tr style=\"text-align: right;\">\n",
              "      <th></th>\n",
              "      <th>Tanggal</th>\n",
              "      <th>Terakhir</th>\n",
              "      <th>Pembukaan</th>\n",
              "      <th>Tertinggi</th>\n",
              "      <th>Terendah</th>\n",
              "      <th>Vol.</th>\n",
              "      <th>Perubahan%</th>\n",
              "    </tr>\n",
              "  </thead>\n",
              "  <tbody>\n",
              "    <tr>\n",
              "      <th>0</th>\n",
              "      <td>02/01/2023</td>\n",
              "      <td>8.55</td>\n",
              "      <td>8.575</td>\n",
              "      <td>8.600</td>\n",
              "      <td>8.500</td>\n",
              "      <td>11.41</td>\n",
              "      <td>0,00%</td>\n",
              "    </tr>\n",
              "    <tr>\n",
              "      <th>1</th>\n",
              "      <td>03/01/2023</td>\n",
              "      <td>8.55</td>\n",
              "      <td>8.550</td>\n",
              "      <td>8.600</td>\n",
              "      <td>8.525</td>\n",
              "      <td>27.43</td>\n",
              "      <td>0,00%</td>\n",
              "    </tr>\n",
              "    <tr>\n",
              "      <th>2</th>\n",
              "      <td>04/01/2023</td>\n",
              "      <td>8.35</td>\n",
              "      <td>8.525</td>\n",
              "      <td>8.575</td>\n",
              "      <td>8.350</td>\n",
              "      <td>90.99</td>\n",
              "      <td>-2,34%</td>\n",
              "    </tr>\n",
              "    <tr>\n",
              "      <th>3</th>\n",
              "      <td>05/01/2023</td>\n",
              "      <td>8.25</td>\n",
              "      <td>8.350</td>\n",
              "      <td>8.375</td>\n",
              "      <td>8.150</td>\n",
              "      <td>128.84</td>\n",
              "      <td>-1,20%</td>\n",
              "    </tr>\n",
              "    <tr>\n",
              "      <th>4</th>\n",
              "      <td>06/01/2023</td>\n",
              "      <td>8.30</td>\n",
              "      <td>8.100</td>\n",
              "      <td>8.325</td>\n",
              "      <td>8.100</td>\n",
              "      <td>69.29</td>\n",
              "      <td>0,61%</td>\n",
              "    </tr>\n",
              "  </tbody>\n",
              "</table>\n",
              "</div>\n",
              "    <div class=\"colab-df-buttons\">\n",
              "\n",
              "  <div class=\"colab-df-container\">\n",
              "    <button class=\"colab-df-convert\" onclick=\"convertToInteractive('df-0a114360-6887-47c9-8bec-41741f78430b')\"\n",
              "            title=\"Convert this dataframe to an interactive table.\"\n",
              "            style=\"display:none;\">\n",
              "\n",
              "  <svg xmlns=\"http://www.w3.org/2000/svg\" height=\"24px\" viewBox=\"0 -960 960 960\">\n",
              "    <path d=\"M120-120v-720h720v720H120Zm60-500h600v-160H180v160Zm220 220h160v-160H400v160Zm0 220h160v-160H400v160ZM180-400h160v-160H180v160Zm440 0h160v-160H620v160ZM180-180h160v-160H180v160Zm440 0h160v-160H620v160Z\"/>\n",
              "  </svg>\n",
              "    </button>\n",
              "\n",
              "  <style>\n",
              "    .colab-df-container {\n",
              "      display:flex;\n",
              "      gap: 12px;\n",
              "    }\n",
              "\n",
              "    .colab-df-convert {\n",
              "      background-color: #E8F0FE;\n",
              "      border: none;\n",
              "      border-radius: 50%;\n",
              "      cursor: pointer;\n",
              "      display: none;\n",
              "      fill: #1967D2;\n",
              "      height: 32px;\n",
              "      padding: 0 0 0 0;\n",
              "      width: 32px;\n",
              "    }\n",
              "\n",
              "    .colab-df-convert:hover {\n",
              "      background-color: #E2EBFA;\n",
              "      box-shadow: 0px 1px 2px rgba(60, 64, 67, 0.3), 0px 1px 3px 1px rgba(60, 64, 67, 0.15);\n",
              "      fill: #174EA6;\n",
              "    }\n",
              "\n",
              "    .colab-df-buttons div {\n",
              "      margin-bottom: 4px;\n",
              "    }\n",
              "\n",
              "    [theme=dark] .colab-df-convert {\n",
              "      background-color: #3B4455;\n",
              "      fill: #D2E3FC;\n",
              "    }\n",
              "\n",
              "    [theme=dark] .colab-df-convert:hover {\n",
              "      background-color: #434B5C;\n",
              "      box-shadow: 0px 1px 3px 1px rgba(0, 0, 0, 0.15);\n",
              "      filter: drop-shadow(0px 1px 2px rgba(0, 0, 0, 0.3));\n",
              "      fill: #FFFFFF;\n",
              "    }\n",
              "  </style>\n",
              "\n",
              "    <script>\n",
              "      const buttonEl =\n",
              "        document.querySelector('#df-0a114360-6887-47c9-8bec-41741f78430b button.colab-df-convert');\n",
              "      buttonEl.style.display =\n",
              "        google.colab.kernel.accessAllowed ? 'block' : 'none';\n",
              "\n",
              "      async function convertToInteractive(key) {\n",
              "        const element = document.querySelector('#df-0a114360-6887-47c9-8bec-41741f78430b');\n",
              "        const dataTable =\n",
              "          await google.colab.kernel.invokeFunction('convertToInteractive',\n",
              "                                                    [key], {});\n",
              "        if (!dataTable) return;\n",
              "\n",
              "        const docLinkHtml = 'Like what you see? Visit the ' +\n",
              "          '<a target=\"_blank\" href=https://colab.research.google.com/notebooks/data_table.ipynb>data table notebook</a>'\n",
              "          + ' to learn more about interactive tables.';\n",
              "        element.innerHTML = '';\n",
              "        dataTable['output_type'] = 'display_data';\n",
              "        await google.colab.output.renderOutput(dataTable, element);\n",
              "        const docLink = document.createElement('div');\n",
              "        docLink.innerHTML = docLinkHtml;\n",
              "        element.appendChild(docLink);\n",
              "      }\n",
              "    </script>\n",
              "  </div>\n",
              "\n",
              "\n",
              "<div id=\"df-b7d6fade-29e0-4312-b1f0-9b53c962c653\">\n",
              "  <button class=\"colab-df-quickchart\" onclick=\"quickchart('df-b7d6fade-29e0-4312-b1f0-9b53c962c653')\"\n",
              "            title=\"Suggest charts\"\n",
              "            style=\"display:none;\">\n",
              "\n",
              "<svg xmlns=\"http://www.w3.org/2000/svg\" height=\"24px\"viewBox=\"0 0 24 24\"\n",
              "     width=\"24px\">\n",
              "    <g>\n",
              "        <path d=\"M19 3H5c-1.1 0-2 .9-2 2v14c0 1.1.9 2 2 2h14c1.1 0 2-.9 2-2V5c0-1.1-.9-2-2-2zM9 17H7v-7h2v7zm4 0h-2V7h2v10zm4 0h-2v-4h2v4z\"/>\n",
              "    </g>\n",
              "</svg>\n",
              "  </button>\n",
              "\n",
              "<style>\n",
              "  .colab-df-quickchart {\n",
              "      --bg-color: #E8F0FE;\n",
              "      --fill-color: #1967D2;\n",
              "      --hover-bg-color: #E2EBFA;\n",
              "      --hover-fill-color: #174EA6;\n",
              "      --disabled-fill-color: #AAA;\n",
              "      --disabled-bg-color: #DDD;\n",
              "  }\n",
              "\n",
              "  [theme=dark] .colab-df-quickchart {\n",
              "      --bg-color: #3B4455;\n",
              "      --fill-color: #D2E3FC;\n",
              "      --hover-bg-color: #434B5C;\n",
              "      --hover-fill-color: #FFFFFF;\n",
              "      --disabled-bg-color: #3B4455;\n",
              "      --disabled-fill-color: #666;\n",
              "  }\n",
              "\n",
              "  .colab-df-quickchart {\n",
              "    background-color: var(--bg-color);\n",
              "    border: none;\n",
              "    border-radius: 50%;\n",
              "    cursor: pointer;\n",
              "    display: none;\n",
              "    fill: var(--fill-color);\n",
              "    height: 32px;\n",
              "    padding: 0;\n",
              "    width: 32px;\n",
              "  }\n",
              "\n",
              "  .colab-df-quickchart:hover {\n",
              "    background-color: var(--hover-bg-color);\n",
              "    box-shadow: 0 1px 2px rgba(60, 64, 67, 0.3), 0 1px 3px 1px rgba(60, 64, 67, 0.15);\n",
              "    fill: var(--button-hover-fill-color);\n",
              "  }\n",
              "\n",
              "  .colab-df-quickchart-complete:disabled,\n",
              "  .colab-df-quickchart-complete:disabled:hover {\n",
              "    background-color: var(--disabled-bg-color);\n",
              "    fill: var(--disabled-fill-color);\n",
              "    box-shadow: none;\n",
              "  }\n",
              "\n",
              "  .colab-df-spinner {\n",
              "    border: 2px solid var(--fill-color);\n",
              "    border-color: transparent;\n",
              "    border-bottom-color: var(--fill-color);\n",
              "    animation:\n",
              "      spin 1s steps(1) infinite;\n",
              "  }\n",
              "\n",
              "  @keyframes spin {\n",
              "    0% {\n",
              "      border-color: transparent;\n",
              "      border-bottom-color: var(--fill-color);\n",
              "      border-left-color: var(--fill-color);\n",
              "    }\n",
              "    20% {\n",
              "      border-color: transparent;\n",
              "      border-left-color: var(--fill-color);\n",
              "      border-top-color: var(--fill-color);\n",
              "    }\n",
              "    30% {\n",
              "      border-color: transparent;\n",
              "      border-left-color: var(--fill-color);\n",
              "      border-top-color: var(--fill-color);\n",
              "      border-right-color: var(--fill-color);\n",
              "    }\n",
              "    40% {\n",
              "      border-color: transparent;\n",
              "      border-right-color: var(--fill-color);\n",
              "      border-top-color: var(--fill-color);\n",
              "    }\n",
              "    60% {\n",
              "      border-color: transparent;\n",
              "      border-right-color: var(--fill-color);\n",
              "    }\n",
              "    80% {\n",
              "      border-color: transparent;\n",
              "      border-right-color: var(--fill-color);\n",
              "      border-bottom-color: var(--fill-color);\n",
              "    }\n",
              "    90% {\n",
              "      border-color: transparent;\n",
              "      border-bottom-color: var(--fill-color);\n",
              "    }\n",
              "  }\n",
              "</style>\n",
              "\n",
              "  <script>\n",
              "    async function quickchart(key) {\n",
              "      const quickchartButtonEl =\n",
              "        document.querySelector('#' + key + ' button');\n",
              "      quickchartButtonEl.disabled = true;  // To prevent multiple clicks.\n",
              "      quickchartButtonEl.classList.add('colab-df-spinner');\n",
              "      try {\n",
              "        const charts = await google.colab.kernel.invokeFunction(\n",
              "            'suggestCharts', [key], {});\n",
              "      } catch (error) {\n",
              "        console.error('Error during call to suggestCharts:', error);\n",
              "      }\n",
              "      quickchartButtonEl.classList.remove('colab-df-spinner');\n",
              "      quickchartButtonEl.classList.add('colab-df-quickchart-complete');\n",
              "    }\n",
              "    (() => {\n",
              "      let quickchartButtonEl =\n",
              "        document.querySelector('#df-b7d6fade-29e0-4312-b1f0-9b53c962c653 button');\n",
              "      quickchartButtonEl.style.display =\n",
              "        google.colab.kernel.accessAllowed ? 'block' : 'none';\n",
              "    })();\n",
              "  </script>\n",
              "</div>\n",
              "\n",
              "    </div>\n",
              "  </div>\n"
            ],
            "application/vnd.google.colaboratory.intrinsic+json": {
              "type": "dataframe",
              "variable_name": "df",
              "summary": "{\n  \"name\": \"df\",\n  \"rows\": 456,\n  \"fields\": [\n    {\n      \"column\": \"Tanggal\",\n      \"properties\": {\n        \"dtype\": \"string\",\n        \"num_unique_values\": 456,\n        \"samples\": [\n          \"08/08/2024\",\n          \"03/03/2023\",\n          \"24/06/2024\"\n        ],\n        \"semantic_type\": \"\",\n        \"description\": \"\"\n      }\n    },\n    {\n      \"column\": \"Terakhir\",\n      \"properties\": {\n        \"dtype\": \"number\",\n        \"std\": 0.6297733830907327,\n        \"min\": 8.175,\n        \"max\": 10.95,\n        \"num_unique_values\": 104,\n        \"samples\": [\n          9.025,\n          9.975,\n          10.025\n        ],\n        \"semantic_type\": \"\",\n        \"description\": \"\"\n      }\n    },\n    {\n      \"column\": \"Pembukaan\",\n      \"properties\": {\n        \"dtype\": \"number\",\n        \"std\": 0.6278984819530181,\n        \"min\": 8.1,\n        \"max\": 10.9,\n        \"num_unique_values\": 103,\n        \"samples\": [\n          9.0,\n          10.2,\n          10.0\n        ],\n        \"semantic_type\": \"\",\n        \"description\": \"\"\n      }\n    },\n    {\n      \"column\": \"Tertinggi\",\n      \"properties\": {\n        \"dtype\": \"number\",\n        \"std\": 0.6338831698728126,\n        \"min\": 8.3,\n        \"max\": 10.95,\n        \"num_unique_values\": 101,\n        \"samples\": [\n          10.45,\n          9.8,\n          10.4\n        ],\n        \"semantic_type\": \"\",\n        \"description\": \"\"\n      }\n    },\n    {\n      \"column\": \"Terendah\",\n      \"properties\": {\n        \"dtype\": \"number\",\n        \"std\": 0.6182080322001084,\n        \"min\": 8.1,\n        \"max\": 10.775,\n        \"num_unique_values\": 101,\n        \"samples\": [\n          10.275,\n          9.525,\n          10.0\n        ],\n        \"semantic_type\": \"\",\n        \"description\": \"\"\n      }\n    },\n    {\n      \"column\": \"Vol.\",\n      \"properties\": {\n        \"dtype\": \"number\",\n        \"std\": 49.68924578887456,\n        \"min\": 11.41,\n        \"max\": 756.43,\n        \"num_unique_values\": 443,\n        \"samples\": [\n          166.17,\n          59.3,\n          105.73\n        ],\n        \"semantic_type\": \"\",\n        \"description\": \"\"\n      }\n    },\n    {\n      \"column\": \"Perubahan%\",\n      \"properties\": {\n        \"dtype\": \"category\",\n        \"num_unique_values\": 208,\n        \"samples\": [\n          \"3,06%\",\n          \"2,96%\",\n          \"2,83%\"\n        ],\n        \"semantic_type\": \"\",\n        \"description\": \"\"\n      }\n    }\n  ]\n}"
            }
          },
          "metadata": {},
          "execution_count": 1
        }
      ]
    },
    {
      "cell_type": "code",
      "source": [
        "df.info()"
      ],
      "metadata": {
        "colab": {
          "base_uri": "https://localhost:8080/"
        },
        "id": "j8zRAJfd7yev",
        "outputId": "dc3da59d-6542-4419-c29f-f75545c596cc"
      },
      "execution_count": 3,
      "outputs": [
        {
          "output_type": "stream",
          "name": "stdout",
          "text": [
            "<class 'pandas.core.frame.DataFrame'>\n",
            "RangeIndex: 456 entries, 0 to 455\n",
            "Data columns (total 7 columns):\n",
            " #   Column      Non-Null Count  Dtype  \n",
            "---  ------      --------------  -----  \n",
            " 0   Tanggal     456 non-null    object \n",
            " 1   Terakhir    456 non-null    float64\n",
            " 2   Pembukaan   456 non-null    float64\n",
            " 3   Tertinggi   456 non-null    float64\n",
            " 4   Terendah    456 non-null    float64\n",
            " 5   Vol.        456 non-null    float64\n",
            " 6   Perubahan%  456 non-null    object \n",
            "dtypes: float64(5), object(2)\n",
            "memory usage: 25.1+ KB\n"
          ]
        }
      ]
    },
    {
      "cell_type": "markdown",
      "source": [
        "**Deskripsi Data**:\n",
        "\n",
        "Tanggal = merupakan tanggal diambilnya nilai pembukaan,tertinggi,terendah,vol,perubahan,terakhir\n",
        "\n",
        "Terakhir = Harga terakhir saham yang diperdagangkan saat pasar tutup pada hari itu.\n",
        "\n",
        "Pembukaan = Harga pertama saham yang diperdagangkan saat pasar dibuka pada hari itu\n",
        "\n",
        "Tertinggi = Harga tertinggi saham yang dicapai selama periode perdagangan\n",
        "\n",
        "Terendah =  Harga terendah saham yang dicapai selama periode perdagangan\n",
        "\n",
        "Vol. = Jumlah total saham yang diperdagangkan selama periode tertentu\n",
        "\n",
        "Perubahan% = Persentase perubahan harga saham dari harga penutupan hari sebelumnya ke harga penutupan hari ini"
      ],
      "metadata": {
        "id": "rqhyfpi49Do8"
      }
    },
    {
      "cell_type": "code",
      "source": [
        "df.isna().sum()"
      ],
      "metadata": {
        "colab": {
          "base_uri": "https://localhost:8080/",
          "height": 303
        },
        "id": "iErfe7qW5oqW",
        "outputId": "b3cf82e3-391f-40a5-bb23-b1b68d47a0b0"
      },
      "execution_count": 2,
      "outputs": [
        {
          "output_type": "execute_result",
          "data": {
            "text/plain": [
              "Tanggal       0\n",
              "Terakhir      0\n",
              "Pembukaan     0\n",
              "Tertinggi     0\n",
              "Terendah      0\n",
              "Vol.          0\n",
              "Perubahan%    0\n",
              "dtype: int64"
            ],
            "text/html": [
              "<div>\n",
              "<style scoped>\n",
              "    .dataframe tbody tr th:only-of-type {\n",
              "        vertical-align: middle;\n",
              "    }\n",
              "\n",
              "    .dataframe tbody tr th {\n",
              "        vertical-align: top;\n",
              "    }\n",
              "\n",
              "    .dataframe thead th {\n",
              "        text-align: right;\n",
              "    }\n",
              "</style>\n",
              "<table border=\"1\" class=\"dataframe\">\n",
              "  <thead>\n",
              "    <tr style=\"text-align: right;\">\n",
              "      <th></th>\n",
              "      <th>0</th>\n",
              "    </tr>\n",
              "  </thead>\n",
              "  <tbody>\n",
              "    <tr>\n",
              "      <th>Tanggal</th>\n",
              "      <td>0</td>\n",
              "    </tr>\n",
              "    <tr>\n",
              "      <th>Terakhir</th>\n",
              "      <td>0</td>\n",
              "    </tr>\n",
              "    <tr>\n",
              "      <th>Pembukaan</th>\n",
              "      <td>0</td>\n",
              "    </tr>\n",
              "    <tr>\n",
              "      <th>Tertinggi</th>\n",
              "      <td>0</td>\n",
              "    </tr>\n",
              "    <tr>\n",
              "      <th>Terendah</th>\n",
              "      <td>0</td>\n",
              "    </tr>\n",
              "    <tr>\n",
              "      <th>Vol.</th>\n",
              "      <td>0</td>\n",
              "    </tr>\n",
              "    <tr>\n",
              "      <th>Perubahan%</th>\n",
              "      <td>0</td>\n",
              "    </tr>\n",
              "  </tbody>\n",
              "</table>\n",
              "</div><br><label><b>dtype:</b> int64</label>"
            ]
          },
          "metadata": {},
          "execution_count": 2
        }
      ]
    },
    {
      "cell_type": "markdown",
      "source": [
        "menunjukkan bahwa tidak ada missing value"
      ],
      "metadata": {
        "id": "31RS6pSr6bKO"
      }
    },
    {
      "cell_type": "code",
      "source": [
        "df.describe()"
      ],
      "metadata": {
        "colab": {
          "base_uri": "https://localhost:8080/",
          "height": 300
        },
        "id": "rrChR72q-Og6",
        "outputId": "e880e6da-d787-46f7-9690-d16329f28a00"
      },
      "execution_count": 4,
      "outputs": [
        {
          "output_type": "execute_result",
          "data": {
            "text/plain": [
              "         Terakhir   Pembukaan   Tertinggi    Terendah        Vol.\n",
              "count  456.000000  456.000000  456.000000  456.000000  456.000000\n",
              "mean     9.438432    9.441064    9.510197    9.369134   77.693969\n",
              "std      0.629773    0.627898    0.633883    0.618208   49.689246\n",
              "min      8.175000    8.100000    8.300000    8.100000   11.410000\n",
              "25%      8.975000    8.950000    9.025000    8.900000   52.997500\n",
              "50%      9.287500    9.275000    9.325000    9.212500   67.040000\n",
              "75%     10.000000   10.000000   10.050000    9.900000   89.367500\n",
              "max     10.950000   10.900000   10.950000   10.775000  756.430000"
            ],
            "text/html": [
              "\n",
              "  <div id=\"df-46931d78-6d6d-43c9-9c4d-dbaff12407ce\" class=\"colab-df-container\">\n",
              "    <div>\n",
              "<style scoped>\n",
              "    .dataframe tbody tr th:only-of-type {\n",
              "        vertical-align: middle;\n",
              "    }\n",
              "\n",
              "    .dataframe tbody tr th {\n",
              "        vertical-align: top;\n",
              "    }\n",
              "\n",
              "    .dataframe thead th {\n",
              "        text-align: right;\n",
              "    }\n",
              "</style>\n",
              "<table border=\"1\" class=\"dataframe\">\n",
              "  <thead>\n",
              "    <tr style=\"text-align: right;\">\n",
              "      <th></th>\n",
              "      <th>Terakhir</th>\n",
              "      <th>Pembukaan</th>\n",
              "      <th>Tertinggi</th>\n",
              "      <th>Terendah</th>\n",
              "      <th>Vol.</th>\n",
              "    </tr>\n",
              "  </thead>\n",
              "  <tbody>\n",
              "    <tr>\n",
              "      <th>count</th>\n",
              "      <td>456.000000</td>\n",
              "      <td>456.000000</td>\n",
              "      <td>456.000000</td>\n",
              "      <td>456.000000</td>\n",
              "      <td>456.000000</td>\n",
              "    </tr>\n",
              "    <tr>\n",
              "      <th>mean</th>\n",
              "      <td>9.438432</td>\n",
              "      <td>9.441064</td>\n",
              "      <td>9.510197</td>\n",
              "      <td>9.369134</td>\n",
              "      <td>77.693969</td>\n",
              "    </tr>\n",
              "    <tr>\n",
              "      <th>std</th>\n",
              "      <td>0.629773</td>\n",
              "      <td>0.627898</td>\n",
              "      <td>0.633883</td>\n",
              "      <td>0.618208</td>\n",
              "      <td>49.689246</td>\n",
              "    </tr>\n",
              "    <tr>\n",
              "      <th>min</th>\n",
              "      <td>8.175000</td>\n",
              "      <td>8.100000</td>\n",
              "      <td>8.300000</td>\n",
              "      <td>8.100000</td>\n",
              "      <td>11.410000</td>\n",
              "    </tr>\n",
              "    <tr>\n",
              "      <th>25%</th>\n",
              "      <td>8.975000</td>\n",
              "      <td>8.950000</td>\n",
              "      <td>9.025000</td>\n",
              "      <td>8.900000</td>\n",
              "      <td>52.997500</td>\n",
              "    </tr>\n",
              "    <tr>\n",
              "      <th>50%</th>\n",
              "      <td>9.287500</td>\n",
              "      <td>9.275000</td>\n",
              "      <td>9.325000</td>\n",
              "      <td>9.212500</td>\n",
              "      <td>67.040000</td>\n",
              "    </tr>\n",
              "    <tr>\n",
              "      <th>75%</th>\n",
              "      <td>10.000000</td>\n",
              "      <td>10.000000</td>\n",
              "      <td>10.050000</td>\n",
              "      <td>9.900000</td>\n",
              "      <td>89.367500</td>\n",
              "    </tr>\n",
              "    <tr>\n",
              "      <th>max</th>\n",
              "      <td>10.950000</td>\n",
              "      <td>10.900000</td>\n",
              "      <td>10.950000</td>\n",
              "      <td>10.775000</td>\n",
              "      <td>756.430000</td>\n",
              "    </tr>\n",
              "  </tbody>\n",
              "</table>\n",
              "</div>\n",
              "    <div class=\"colab-df-buttons\">\n",
              "\n",
              "  <div class=\"colab-df-container\">\n",
              "    <button class=\"colab-df-convert\" onclick=\"convertToInteractive('df-46931d78-6d6d-43c9-9c4d-dbaff12407ce')\"\n",
              "            title=\"Convert this dataframe to an interactive table.\"\n",
              "            style=\"display:none;\">\n",
              "\n",
              "  <svg xmlns=\"http://www.w3.org/2000/svg\" height=\"24px\" viewBox=\"0 -960 960 960\">\n",
              "    <path d=\"M120-120v-720h720v720H120Zm60-500h600v-160H180v160Zm220 220h160v-160H400v160Zm0 220h160v-160H400v160ZM180-400h160v-160H180v160Zm440 0h160v-160H620v160ZM180-180h160v-160H180v160Zm440 0h160v-160H620v160Z\"/>\n",
              "  </svg>\n",
              "    </button>\n",
              "\n",
              "  <style>\n",
              "    .colab-df-container {\n",
              "      display:flex;\n",
              "      gap: 12px;\n",
              "    }\n",
              "\n",
              "    .colab-df-convert {\n",
              "      background-color: #E8F0FE;\n",
              "      border: none;\n",
              "      border-radius: 50%;\n",
              "      cursor: pointer;\n",
              "      display: none;\n",
              "      fill: #1967D2;\n",
              "      height: 32px;\n",
              "      padding: 0 0 0 0;\n",
              "      width: 32px;\n",
              "    }\n",
              "\n",
              "    .colab-df-convert:hover {\n",
              "      background-color: #E2EBFA;\n",
              "      box-shadow: 0px 1px 2px rgba(60, 64, 67, 0.3), 0px 1px 3px 1px rgba(60, 64, 67, 0.15);\n",
              "      fill: #174EA6;\n",
              "    }\n",
              "\n",
              "    .colab-df-buttons div {\n",
              "      margin-bottom: 4px;\n",
              "    }\n",
              "\n",
              "    [theme=dark] .colab-df-convert {\n",
              "      background-color: #3B4455;\n",
              "      fill: #D2E3FC;\n",
              "    }\n",
              "\n",
              "    [theme=dark] .colab-df-convert:hover {\n",
              "      background-color: #434B5C;\n",
              "      box-shadow: 0px 1px 3px 1px rgba(0, 0, 0, 0.15);\n",
              "      filter: drop-shadow(0px 1px 2px rgba(0, 0, 0, 0.3));\n",
              "      fill: #FFFFFF;\n",
              "    }\n",
              "  </style>\n",
              "\n",
              "    <script>\n",
              "      const buttonEl =\n",
              "        document.querySelector('#df-46931d78-6d6d-43c9-9c4d-dbaff12407ce button.colab-df-convert');\n",
              "      buttonEl.style.display =\n",
              "        google.colab.kernel.accessAllowed ? 'block' : 'none';\n",
              "\n",
              "      async function convertToInteractive(key) {\n",
              "        const element = document.querySelector('#df-46931d78-6d6d-43c9-9c4d-dbaff12407ce');\n",
              "        const dataTable =\n",
              "          await google.colab.kernel.invokeFunction('convertToInteractive',\n",
              "                                                    [key], {});\n",
              "        if (!dataTable) return;\n",
              "\n",
              "        const docLinkHtml = 'Like what you see? Visit the ' +\n",
              "          '<a target=\"_blank\" href=https://colab.research.google.com/notebooks/data_table.ipynb>data table notebook</a>'\n",
              "          + ' to learn more about interactive tables.';\n",
              "        element.innerHTML = '';\n",
              "        dataTable['output_type'] = 'display_data';\n",
              "        await google.colab.output.renderOutput(dataTable, element);\n",
              "        const docLink = document.createElement('div');\n",
              "        docLink.innerHTML = docLinkHtml;\n",
              "        element.appendChild(docLink);\n",
              "      }\n",
              "    </script>\n",
              "  </div>\n",
              "\n",
              "\n",
              "<div id=\"df-0d1dd734-4879-4dff-8110-3d0e90a20a5f\">\n",
              "  <button class=\"colab-df-quickchart\" onclick=\"quickchart('df-0d1dd734-4879-4dff-8110-3d0e90a20a5f')\"\n",
              "            title=\"Suggest charts\"\n",
              "            style=\"display:none;\">\n",
              "\n",
              "<svg xmlns=\"http://www.w3.org/2000/svg\" height=\"24px\"viewBox=\"0 0 24 24\"\n",
              "     width=\"24px\">\n",
              "    <g>\n",
              "        <path d=\"M19 3H5c-1.1 0-2 .9-2 2v14c0 1.1.9 2 2 2h14c1.1 0 2-.9 2-2V5c0-1.1-.9-2-2-2zM9 17H7v-7h2v7zm4 0h-2V7h2v10zm4 0h-2v-4h2v4z\"/>\n",
              "    </g>\n",
              "</svg>\n",
              "  </button>\n",
              "\n",
              "<style>\n",
              "  .colab-df-quickchart {\n",
              "      --bg-color: #E8F0FE;\n",
              "      --fill-color: #1967D2;\n",
              "      --hover-bg-color: #E2EBFA;\n",
              "      --hover-fill-color: #174EA6;\n",
              "      --disabled-fill-color: #AAA;\n",
              "      --disabled-bg-color: #DDD;\n",
              "  }\n",
              "\n",
              "  [theme=dark] .colab-df-quickchart {\n",
              "      --bg-color: #3B4455;\n",
              "      --fill-color: #D2E3FC;\n",
              "      --hover-bg-color: #434B5C;\n",
              "      --hover-fill-color: #FFFFFF;\n",
              "      --disabled-bg-color: #3B4455;\n",
              "      --disabled-fill-color: #666;\n",
              "  }\n",
              "\n",
              "  .colab-df-quickchart {\n",
              "    background-color: var(--bg-color);\n",
              "    border: none;\n",
              "    border-radius: 50%;\n",
              "    cursor: pointer;\n",
              "    display: none;\n",
              "    fill: var(--fill-color);\n",
              "    height: 32px;\n",
              "    padding: 0;\n",
              "    width: 32px;\n",
              "  }\n",
              "\n",
              "  .colab-df-quickchart:hover {\n",
              "    background-color: var(--hover-bg-color);\n",
              "    box-shadow: 0 1px 2px rgba(60, 64, 67, 0.3), 0 1px 3px 1px rgba(60, 64, 67, 0.15);\n",
              "    fill: var(--button-hover-fill-color);\n",
              "  }\n",
              "\n",
              "  .colab-df-quickchart-complete:disabled,\n",
              "  .colab-df-quickchart-complete:disabled:hover {\n",
              "    background-color: var(--disabled-bg-color);\n",
              "    fill: var(--disabled-fill-color);\n",
              "    box-shadow: none;\n",
              "  }\n",
              "\n",
              "  .colab-df-spinner {\n",
              "    border: 2px solid var(--fill-color);\n",
              "    border-color: transparent;\n",
              "    border-bottom-color: var(--fill-color);\n",
              "    animation:\n",
              "      spin 1s steps(1) infinite;\n",
              "  }\n",
              "\n",
              "  @keyframes spin {\n",
              "    0% {\n",
              "      border-color: transparent;\n",
              "      border-bottom-color: var(--fill-color);\n",
              "      border-left-color: var(--fill-color);\n",
              "    }\n",
              "    20% {\n",
              "      border-color: transparent;\n",
              "      border-left-color: var(--fill-color);\n",
              "      border-top-color: var(--fill-color);\n",
              "    }\n",
              "    30% {\n",
              "      border-color: transparent;\n",
              "      border-left-color: var(--fill-color);\n",
              "      border-top-color: var(--fill-color);\n",
              "      border-right-color: var(--fill-color);\n",
              "    }\n",
              "    40% {\n",
              "      border-color: transparent;\n",
              "      border-right-color: var(--fill-color);\n",
              "      border-top-color: var(--fill-color);\n",
              "    }\n",
              "    60% {\n",
              "      border-color: transparent;\n",
              "      border-right-color: var(--fill-color);\n",
              "    }\n",
              "    80% {\n",
              "      border-color: transparent;\n",
              "      border-right-color: var(--fill-color);\n",
              "      border-bottom-color: var(--fill-color);\n",
              "    }\n",
              "    90% {\n",
              "      border-color: transparent;\n",
              "      border-bottom-color: var(--fill-color);\n",
              "    }\n",
              "  }\n",
              "</style>\n",
              "\n",
              "  <script>\n",
              "    async function quickchart(key) {\n",
              "      const quickchartButtonEl =\n",
              "        document.querySelector('#' + key + ' button');\n",
              "      quickchartButtonEl.disabled = true;  // To prevent multiple clicks.\n",
              "      quickchartButtonEl.classList.add('colab-df-spinner');\n",
              "      try {\n",
              "        const charts = await google.colab.kernel.invokeFunction(\n",
              "            'suggestCharts', [key], {});\n",
              "      } catch (error) {\n",
              "        console.error('Error during call to suggestCharts:', error);\n",
              "      }\n",
              "      quickchartButtonEl.classList.remove('colab-df-spinner');\n",
              "      quickchartButtonEl.classList.add('colab-df-quickchart-complete');\n",
              "    }\n",
              "    (() => {\n",
              "      let quickchartButtonEl =\n",
              "        document.querySelector('#df-0d1dd734-4879-4dff-8110-3d0e90a20a5f button');\n",
              "      quickchartButtonEl.style.display =\n",
              "        google.colab.kernel.accessAllowed ? 'block' : 'none';\n",
              "    })();\n",
              "  </script>\n",
              "</div>\n",
              "\n",
              "    </div>\n",
              "  </div>\n"
            ],
            "application/vnd.google.colaboratory.intrinsic+json": {
              "type": "dataframe",
              "summary": "{\n  \"name\": \"df\",\n  \"rows\": 8,\n  \"fields\": [\n    {\n      \"column\": \"Terakhir\",\n      \"properties\": {\n        \"dtype\": \"number\",\n        \"std\": 158.35061768279365,\n        \"min\": 0.6297733830907327,\n        \"max\": 456.0,\n        \"num_unique_values\": 8,\n        \"samples\": [\n          9.43843201754386,\n          9.287500000000001,\n          456.0\n        ],\n        \"semantic_type\": \"\",\n        \"description\": \"\"\n      }\n    },\n    {\n      \"column\": \"Pembukaan\",\n      \"properties\": {\n        \"dtype\": \"number\",\n        \"std\": 158.35865244305555,\n        \"min\": 0.6278984819530181,\n        \"max\": 456.0,\n        \"num_unique_values\": 8,\n        \"samples\": [\n          9.441063596491228,\n          9.275,\n          456.0\n        ],\n        \"semantic_type\": \"\",\n        \"description\": \"\"\n      }\n    },\n    {\n      \"column\": \"Tertinggi\",\n      \"properties\": {\n        \"dtype\": \"number\",\n        \"std\": 158.3337353559317,\n        \"min\": 0.6338831698728126,\n        \"max\": 456.0,\n        \"num_unique_values\": 8,\n        \"samples\": [\n          9.510197368421052,\n          9.325,\n          456.0\n        ],\n        \"semantic_type\": \"\",\n        \"description\": \"\"\n      }\n    },\n    {\n      \"column\": \"Terendah\",\n      \"properties\": {\n        \"dtype\": \"number\",\n        \"std\": 158.37924115895547,\n        \"min\": 0.6182080322001084,\n        \"max\": 456.0,\n        \"num_unique_values\": 8,\n        \"samples\": [\n          9.369133771929826,\n          9.212499999999999,\n          456.0\n        ],\n        \"semantic_type\": \"\",\n        \"description\": \"\"\n      }\n    },\n    {\n      \"column\": \"Vol.\",\n      \"properties\": {\n        \"dtype\": \"number\",\n        \"std\": 267.1549845686509,\n        \"min\": 11.41,\n        \"max\": 756.43,\n        \"num_unique_values\": 8,\n        \"samples\": [\n          77.6939692982456,\n          67.03999999999999,\n          456.0\n        ],\n        \"semantic_type\": \"\",\n        \"description\": \"\"\n      }\n    }\n  ]\n}"
            }
          },
          "metadata": {},
          "execution_count": 4
        }
      ]
    },
    {
      "cell_type": "markdown",
      "source": [
        "#Data prepocessing"
      ],
      "metadata": {
        "id": "EJ4Beby9_GYN"
      }
    },
    {
      "cell_type": "markdown",
      "source": [
        "##fitur selection menurut korelasi antar fitur"
      ],
      "metadata": {
        "id": "khu8iV2z4GyQ"
      }
    },
    {
      "cell_type": "code",
      "source": [
        "import pandas as pd\n",
        "from sklearn.preprocessing import LabelEncoder\n",
        "\n",
        "file_path = '/content/sample_data/Data Historis BBCA.xlsx'  # Ganti dengan path file Excel Anda\n",
        "df = pd.read_excel(file_path)\n",
        "\n",
        "df = df.drop(['Tanggal','Perubahan%'], axis=1)\n",
        "# Langkah 3: Tentukan kolom target\n",
        "target_column = 'Terakhir'  # Ganti dengan nama kolom target Anda\n",
        "\n",
        "\n",
        "# Buat objek LabelEncoder\n",
        "label_encoder = LabelEncoder()\n",
        "\n",
        "# Mengonversi kolom target\n",
        "df[target_column] = label_encoder.fit_transform(df[target_column])\n",
        "\n",
        "# Langkah 5: Hitung korelasi Pearson antara seluruh fitur dengan target\n",
        "correlation_with_target = df.corr(method='pearson')[target_column]\n",
        "\n",
        "# Menampilkan hasil korelasi\n",
        "print(\"Korelasi Pearson antara seluruh fitur dengan target:\")\n",
        "print(correlation_with_target)"
      ],
      "metadata": {
        "colab": {
          "base_uri": "https://localhost:8080/"
        },
        "id": "o2wO3wXg23j0",
        "outputId": "155e8f3a-526f-4176-e9d7-b2f60b899bb1"
      },
      "execution_count": 45,
      "outputs": [
        {
          "output_type": "stream",
          "name": "stdout",
          "text": [
            "Korelasi Pearson antara seluruh fitur dengan target:\n",
            "Terakhir     1.000000\n",
            "Pembukaan    0.985663\n",
            "Tertinggi    0.993986\n",
            "Terendah     0.993419\n",
            "Vol.        -0.010644\n",
            "Name: Terakhir, dtype: float64\n"
          ]
        }
      ]
    },
    {
      "cell_type": "markdown",
      "source": [
        "menurut hasil korelasi pearson hasil yang paling rendah hanyalah kolom volume maka kami akan menghapus kolom volume dan memakai kolom yang memiliki nilai korelasi tinggi"
      ],
      "metadata": {
        "id": "8UzgM5bD6gsV"
      }
    },
    {
      "cell_type": "markdown",
      "source": [
        "##normalisasi"
      ],
      "metadata": {
        "id": "xdZwLq1p_Co5"
      }
    },
    {
      "cell_type": "code",
      "source": [
        "import pandas as pd\n",
        "from sklearn.preprocessing import MinMaxScaler\n",
        "import joblib\n",
        "\n",
        "# Membaca file Excel\n",
        "file_path = '/content/sample_data/Data Historis BBCA.xlsx'  # Ganti dengan path file Excel Anda\n",
        "df = pd.read_excel(file_path)\n",
        "\n",
        "df = df.drop(['Vol.','Perubahan%'], axis=1)\n",
        "# Inisialisasi MinMaxScaler\n",
        "scaler = MinMaxScaler()\n",
        "\n",
        "# Menampilkan nilai minimum dan maksimum sebelum normalisasi\n",
        "min_values_before = df.min()\n",
        "max_values_before = df.max()\n",
        "\n",
        "print(\"Nilai minimum sebelum normalisasi:\")\n",
        "print(min_values_before)\n",
        "\n",
        "print(\"\\nNilai maksimum sebelum normalisasi:\")\n",
        "print(max_values_before)\n",
        "# Melakukan normalisasi pada kolom numerik\n",
        "kolom_numerik = df.select_dtypes(include=['float64', 'int64']).columns\n",
        "df[kolom_numerik] = scaler.fit_transform(df[kolom_numerik])\n",
        "\n",
        "scaler_file_path = '/content/sample_data/scaler.pkl'\n",
        "joblib.dump(scaler, scaler_file_path)\n",
        "# Menyimpan data yang sudah dinormalisasi ke file Excel baru\n",
        "combined_file_path = '/content/sample_data/normalisasi.xlsx'\n",
        "df.to_excel(combined_file_path, index=False)"
      ],
      "metadata": {
        "colab": {
          "base_uri": "https://localhost:8080/"
        },
        "id": "YUWd_jAc4WI4",
        "outputId": "53861d83-c55c-4c8a-a58e-7389f535c71c"
      },
      "execution_count": 5,
      "outputs": [
        {
          "output_type": "stream",
          "name": "stdout",
          "text": [
            "Nilai minimum sebelum normalisasi:\n",
            "Tanggal      01/02/2023\n",
            "Terakhir          8.175\n",
            "Pembukaan           8.1\n",
            "Tertinggi           8.3\n",
            "Terendah            8.1\n",
            "dtype: object\n",
            "\n",
            "Nilai maksimum sebelum normalisasi:\n",
            "Tanggal      31/10/2024\n",
            "Terakhir          10.95\n",
            "Pembukaan          10.9\n",
            "Tertinggi         10.95\n",
            "Terendah         10.775\n",
            "dtype: object\n"
          ]
        }
      ]
    },
    {
      "cell_type": "markdown",
      "source": [
        "Disini kami menormalisasi data dulu agar nanti presentase errornya kecil dan kami menggunakan metode minmaxscaler untuk normalisasinya dimana data ini memiliki nilai minimum dan maksimum yang sudah tertera diatas"
      ],
      "metadata": {
        "id": "dvPmrqb762Lp"
      }
    },
    {
      "cell_type": "markdown",
      "source": [
        "##mencari outlier"
      ],
      "metadata": {
        "id": "1pVbO2KW-7vD"
      }
    },
    {
      "cell_type": "code",
      "source": [
        "import pandas as pd\n",
        "import numpy as np\n",
        "from scipy import stats\n",
        "\n",
        "# Langkah 1: Baca data dari Excel atau dataset\n",
        "file_path = '/content/sample_data/normalisasi.xlsx'  # Ganti dengan path file Excel Anda\n",
        "df = pd.read_excel(file_path)\n",
        "# Langkah 2: Pilih kolom numerik yang ingin diuji outlier-nya\n",
        "numerical_columns = ['Terakhir','Pembukaan','Tertinggi','Terendah']  # Ganti dengan kolom yang relevan\n",
        "\n",
        "# Langkah 3: Hitung Z-Score untuk setiap fitur numerik\n",
        "z_scores = np.abs(stats.zscore(df[numerical_columns]))\n",
        "\n",
        "# Menentukan threshold, misalnya 3\n",
        "threshold = 3\n",
        "\n",
        "# Identifikasi outlier\n",
        "outliers_zscore = np.where(z_scores > threshold)\n",
        "\n",
        "# Menampilkan indeks dan kolom outlier\n",
        "print(\"Indeks dan kolom yang mengandung outlier (Z-Score):\")\n",
        "print(outliers_zscore)\n",
        "\n",
        "# Menampilkan data outlier\n",
        "print(\"Data outlier berdasarkan Z-Score:\")\n",
        "print(df.iloc[outliers_zscore[0]])\n"
      ],
      "metadata": {
        "colab": {
          "base_uri": "https://localhost:8080/"
        },
        "id": "L9rOk_VO8MfG",
        "outputId": "1b6fca0c-256b-49c2-e697-e0f7d9d571d3"
      },
      "execution_count": 4,
      "outputs": [
        {
          "output_type": "stream",
          "name": "stdout",
          "text": [
            "Indeks dan kolom yang mengandung outlier (Z-Score):\n",
            "(array([], dtype=int64), array([], dtype=int64))\n",
            "Data outlier berdasarkan Z-Score:\n",
            "Empty DataFrame\n",
            "Columns: [Tanggal, Terakhir, Pembukaan, Tertinggi, Terendah]\n",
            "Index: []\n"
          ]
        }
      ]
    },
    {
      "cell_type": "markdown",
      "source": [
        "memperlihatkan bahwa data tidak memiliki outlier"
      ],
      "metadata": {
        "id": "iHWlai5G7bUF"
      }
    },
    {
      "cell_type": "markdown",
      "source": [
        "##Pembagian Data"
      ],
      "metadata": {
        "id": "3A9v13De-4xj"
      }
    },
    {
      "cell_type": "code",
      "source": [
        "import pandas as pd\n",
        "from sklearn.model_selection import train_test_split\n",
        "\n",
        "# Load the uploaded file\n",
        "file_path = '/content/sample_data/normalisasi.xlsx'\n",
        "data = pd.read_excel(file_path)\n",
        "\n",
        "# Menyiapkan data (X, y)\n",
        "X = data.drop(columns=['Terakhir', 'Tanggal'])\n",
        "y = data['Terakhir']\n",
        "\n",
        "# Menyimpan kolom tanggal untuk perbandingan nanti\n",
        "dates = data['Tanggal']\n",
        "\n",
        "# Split data into training and testing sets\n",
        "X_train, X_test, y_train, y_test, train_dates, test_dates = train_test_split(\n",
        "    X, y, dates, test_size=0.2, random_state=42)\n",
        "\n",
        "print(f\"Training set size: {X_train.shape[0]}\")\n",
        "print(f\"Testing set size: {X_test.shape[0]}\")\n",
        "# Simpan data yang dipisah ke dalam satu file Excel dengan sheet berbeda\n",
        "output_file = '/content/sample_data/bagi.xlsx'\n",
        "with pd.ExcelWriter(output_file) as writer:\n",
        "    train_dates,X_train.to_excel(writer, sheet_name='X_train', index=False)\n",
        "    test_dates,X_test.to_excel(writer, sheet_name='X_test', index=False)\n",
        "    train_dates,y_train.to_excel(writer, sheet_name='y_train', index=False)\n",
        "    test_dates,y_test.to_excel(writer, sheet_name='y_test', index=False)\n",
        "\n",
        "\n",
        "output_file\n"
      ],
      "metadata": {
        "colab": {
          "base_uri": "https://localhost:8080/",
          "height": 72
        },
        "id": "NTY_PuZ38sR6",
        "outputId": "77bcd3a0-1c69-45de-d7f7-6be4ab862562"
      },
      "execution_count": 2,
      "outputs": [
        {
          "output_type": "stream",
          "name": "stdout",
          "text": [
            "Training set size: 364\n",
            "Testing set size: 92\n"
          ]
        },
        {
          "output_type": "execute_result",
          "data": {
            "text/plain": [
              "'/content/sample_data/bagi.xlsx'"
            ],
            "application/vnd.google.colaboratory.intrinsic+json": {
              "type": "string"
            }
          },
          "metadata": {},
          "execution_count": 2
        }
      ]
    },
    {
      "cell_type": "markdown",
      "source": [
        "membagi data train sebanyak 364 dan tes 92"
      ],
      "metadata": {
        "id": "rXA_cooE7fzU"
      }
    },
    {
      "cell_type": "markdown",
      "source": [
        "#Data modeling"
      ],
      "metadata": {
        "id": "izcjA6Tl_Kzf"
      }
    },
    {
      "cell_type": "markdown",
      "source": [
        "##Ensamble Bagging"
      ],
      "metadata": {
        "id": "sbvCUCYh-Wvj"
      }
    },
    {
      "cell_type": "code",
      "source": [
        "import numpy as np\n",
        "import pandas as pd\n",
        "from sklearn.linear_model import LinearRegression\n",
        "from sklearn.ensemble import BaggingRegressor\n",
        "from sklearn.metrics import mean_squared_error, mean_absolute_error, mean_absolute_percentage_error\n",
        "from sklearn.model_selection import train_test_split\n",
        "from sklearn.preprocessing import MinMaxScaler\n",
        "import joblib\n",
        "\n",
        "scaler_file_path = '/content/sample_data/scaler.pkl'\n",
        "scaler = joblib.load(scaler_file_path)\n",
        "# Load the uploaded file\n",
        "file_path = '/content/sample_data/bagis.xlsx'\n",
        "data = pd.read_excel(file_path)\n",
        "\n",
        "# Model dasar menggunakan Linear Regression\n",
        "base_model = LinearRegression()\n",
        "\n",
        "# Membuat model Bagging dengan estimator dasar Linear Regression\n",
        "bagging_model = BaggingRegressor(estimator=base_model, n_estimators=10, random_state=42)\n",
        "\n",
        "# Melatih model\n",
        "bagging_model.fit(X_train, y_train)\n",
        "\n",
        "# Melakukan prediksi pada data uji\n",
        "predictions = bagging_model.predict(X_test)\n",
        "\n",
        "# Menghitung metrik evaluasi\n",
        "mae = mean_absolute_error(y_test, predictions)\n",
        "rmse = np.sqrt(mean_squared_error(y_test, predictions))\n",
        "mape = mean_absolute_percentage_error(y_test, predictions)\n",
        "\n",
        "# Menampilkan hasil evaluasi\n",
        "print(f\"MAE: {mae}\")\n",
        "print(f\"RMSE: {rmse}\")\n",
        "print(f\"MAPE: {mape * 100:.2f}%\")\n",
        "\n",
        "# Input data baru untuk prediksi\n",
        "new_data = np.array([[10.5, 10, 10.1]])  # Input baru: Open, High, Low\n",
        "\n",
        "# Konversi input baru menjadi DataFrame dengan nama fitur yang sama seperti X_train\n",
        "new_data_df = pd.DataFrame(new_data)\n",
        "\n",
        "normalisasi = pd.DataFrame(\n",
        "    scaler.transform(new_data_df),  # Menggunakan scaler yang dimuat\n",
        "    columns=new_data_df.columns\n",
        ")  # Menggunakan scaler yang dimuat\n",
        "# Prediksi multi-step untuk 7 hari ke depan\n",
        "n_steps = 7\n",
        "multi_step_predictions = []\n",
        "\n",
        "# Melakukan prediksi secara berurutan untuk setiap langkah\n",
        "current_input = normalisasi\n",
        "for step in range(n_steps):\n",
        "    # Melakukan prediksi untuk langkah berikutnya\n",
        "    prediction = bagging_model.predict(current_input)\n",
        "    multi_step_predictions.append(prediction[0])\n",
        "\n",
        "    # Update current_input dengan hasil prediksi untuk langkah berikutnya\n",
        "    # Formatkan ulang input agar tetap DataFrame dengan nama kolom yang sama\n",
        "    current_input = pd.DataFrame(\n",
        "        np.hstack((np.array([[prediction[0]]]), current_input.values[:, :-1])),\n",
        "        columns=X_train.columns\n",
        "    )\n",
        "\n",
        "# Tampilkan hasil prediksi\n",
        "for i, pred in enumerate(multi_step_predictions, 1):\n",
        "    print(f\"Prediksi hari ke-{i}: {pred}\")\n",
        "\n",
        "# Denormalisasi hasil prediksi harga untuk semua data dalam array\n",
        "min_harga = 8.175  # Nilai minimum harga dalam dataset asli\n",
        "max_harga = 10.95  # Nilai maksimum harga dalam dataset asli\n",
        "\n",
        "# Denormalisasi nilai prediksi setiap hari\n",
        "denormalized_predictions = [\n",
        "    pred * (max_harga - min_harga) + min_harga for pred in multi_step_predictions\n",
        "]\n",
        "\n",
        "# Tampilkan hasil prediksi denormalisasi untuk setiap hari ke depan\n",
        "for i, denormalized_price in enumerate(denormalized_predictions, 1):\n",
        "    print(f\"Prediksi denormalisasi hari ke-{i}: {denormalized_price:,.2f}\")\n",
        "\n"
      ],
      "metadata": {
        "colab": {
          "base_uri": "https://localhost:8080/"
        },
        "id": "m185oxncECbd",
        "outputId": "67402f5e-6d73-4373-c309-9932fb2ff1d3"
      },
      "execution_count": 5,
      "outputs": [
        {
          "output_type": "stream",
          "name": "stdout",
          "text": [
            "MAE: 0.013538276232711286\n",
            "RMSE: 0.01740884595168998\n",
            "MAPE: 5.15%\n",
            "Prediksi hari ke-1: 0.5649650169104838\n",
            "Prediksi hari ke-2: 0.857227419724229\n",
            "Prediksi hari ke-3: 0.5930196688729086\n",
            "Prediksi hari ke-4: 0.7746014300754163\n",
            "Prediksi hari ke-5: 0.6737776010339479\n",
            "Prediksi hari ke-6: 0.6741067499313635\n",
            "Prediksi hari ke-7: 0.741677479826693\n",
            "Prediksi denormalisasi hari ke-1: 9.74\n",
            "Prediksi denormalisasi hari ke-2: 10.55\n",
            "Prediksi denormalisasi hari ke-3: 9.82\n",
            "Prediksi denormalisasi hari ke-4: 10.32\n",
            "Prediksi denormalisasi hari ke-5: 10.04\n",
            "Prediksi denormalisasi hari ke-6: 10.05\n",
            "Prediksi denormalisasi hari ke-7: 10.23\n"
          ]
        },
        {
          "output_type": "stream",
          "name": "stderr",
          "text": [
            "/usr/local/lib/python3.10/dist-packages/sklearn/base.py:493: UserWarning: X does not have valid feature names, but MinMaxScaler was fitted with feature names\n",
            "  warnings.warn(\n",
            "/usr/local/lib/python3.10/dist-packages/sklearn/base.py:493: UserWarning: X does not have valid feature names, but BaggingRegressor was fitted with feature names\n",
            "  warnings.warn(\n"
          ]
        }
      ]
    },
    {
      "cell_type": "markdown",
      "source": [
        "pada data ini model yang paling bagus presentase errornya adalah dengan menggunakan metode ensamble bagging"
      ],
      "metadata": {
        "id": "GYtB2DWg-cJh"
      }
    },
    {
      "cell_type": "markdown",
      "source": [
        "##Decision Tree Regressor"
      ],
      "metadata": {
        "id": "kZzn98eP-p6V"
      }
    },
    {
      "cell_type": "code",
      "source": [
        "import pandas as pd\n",
        "import numpy as np\n",
        "from sklearn.tree import DecisionTreeRegressor\n",
        "from sklearn.model_selection import train_test_split\n",
        "from sklearn.metrics import mean_absolute_error, mean_squared_error, mean_absolute_percentage_error\n",
        "\n",
        "# Path file (ganti dengan path file Anda sendiri)\n",
        "file_path = '/content/sample_data/bagi.xlsx'\n",
        "\n",
        "# Memuat data\n",
        "data = pd.read_excel(file_path)\n",
        "\n",
        "# Mendefinisikan dan melatih model Decision Tree\n",
        "dt_model = DecisionTreeRegressor(random_state=42, max_depth=5)  # Parameter dapat disesuaikan\n",
        "dt_model.fit(X_train, y_train)\n",
        "\n",
        "# Memprediksi pada set pengujian\n",
        "y_pred = dt_model.predict(X_test)\n",
        "\n",
        "# Menghitung dan mencetak metrik evaluasi\n",
        "mae = mean_absolute_error(y_test, y_pred)\n",
        "rmse = np.sqrt(mean_squared_error(y_test, y_pred))\n",
        "mape = mean_absolute_percentage_error(y_test, y_pred)\n",
        "\n",
        "# Menampilkan hasil evaluasi\n",
        "print(f\"MAE: {mae}\")\n",
        "print(f\"RMSE: {rmse}\")\n",
        "print(f\"MAPE: {mape * 100:.2f}%\")\n",
        "\n",
        "\n",
        "# --- Membandingkan prediksi dengan data aktual ---\n",
        "# Membuat DataFrame untuk nilai aktual vs prediksi\n",
        "comparison_df = pd.DataFrame({\n",
        "    \"tanggal\": X_test.index,\n",
        "    \"Actual\": y_test,\n",
        "    \"Predicted\": y_pred\n",
        "})\n",
        "\n",
        "# Mengurutkan DataFrame berdasarkan tanggal\n",
        "comparison_df = comparison_df.sort_values(by=\"tanggal\").reset_index(drop=True)\n",
        "\n",
        "print(\"\\nHarga Aktual vs Prediksi:\")\n",
        "print(comparison_df)\n"
      ],
      "metadata": {
        "colab": {
          "base_uri": "https://localhost:8080/"
        },
        "id": "5_nCqshDYsaA",
        "outputId": "9f25d0a5-08b6-4c36-9f2e-1c69a93ae2b7"
      },
      "execution_count": 61,
      "outputs": [
        {
          "output_type": "stream",
          "name": "stdout",
          "text": [
            "MAE: 0.019136356958381954\n",
            "RMSE: 0.022951259922704297\n",
            "MAPE: 10.68%\n",
            "\n",
            "Harga Aktual vs Prediksi:\n",
            "    tanggal    Actual  Predicted\n",
            "0         0  0.189189   0.210210\n",
            "1         1  0.810811   0.827542\n",
            "2         2  0.315315   0.307748\n",
            "3         3  0.468468   0.423423\n",
            "4         4  0.468468   0.457658\n",
            "..      ...       ...        ...\n",
            "80       80  0.351351   0.351624\n",
            "81       81  0.324324   0.307748\n",
            "82       82  0.306306   0.351624\n",
            "83       83  0.810811   0.795796\n",
            "84       84  0.774775   0.827542\n",
            "\n",
            "[85 rows x 3 columns]\n"
          ]
        }
      ]
    },
    {
      "cell_type": "markdown",
      "source": [
        "##Random Forest Regressor"
      ],
      "metadata": {
        "id": "gpp4wz7i-t9P"
      }
    },
    {
      "cell_type": "code",
      "source": [
        "import pandas as pd\n",
        "import numpy as np\n",
        "from sklearn.ensemble import RandomForestRegressor\n",
        "from sklearn.model_selection import train_test_split\n",
        "from sklearn.metrics import mean_absolute_error, mean_squared_error, mean_absolute_percentage_error\n",
        "\n",
        "# Path file (ganti dengan path file Anda sendiri)\n",
        "file_path = '/content/sample_data/bagi.xlsx'\n",
        "\n",
        "# Memuat data\n",
        "data = pd.read_excel(file_path)\n",
        "\n",
        "# Mendefinisikan dan melatih model Decision Tree\n",
        "model = RandomForestRegressor(n_estimators=100, random_state=42)\n",
        "model.fit(X_train, y_train)\n",
        "y_pred = model.predict(X_test)\n",
        "\n",
        "# Menghitung dan mencetak metrik evaluasi\n",
        "mae = mean_absolute_error(y_test, y_pred)\n",
        "rmse = np.sqrt(mean_squared_error(y_test, y_pred))\n",
        "mape = mean_absolute_percentage_error(y_test, y_pred)\n",
        "\n",
        "print(f\"MAE: {mae}\")\n",
        "print(f\"RMSE: {rmse}\")\n",
        "print(f\"MAPE: {mape * 100:.2f}%\")\n",
        "\n",
        "\n",
        "\n",
        "# --- Membandingkan prediksi dengan data aktual ---\n",
        "# Membuat DataFrame untuk nilai aktual vs prediksi\n",
        "comparison_df = pd.DataFrame({\n",
        "    \"tanggal\": X_test.index,\n",
        "    \"Actual\": y_test,\n",
        "    \"Predicted\": y_pred\n",
        "})\n",
        "\n",
        "# Mengurutkan DataFrame berdasarkan tanggal\n",
        "comparison_df = comparison_df.sort_values(by=\"tanggal\").reset_index(drop=True)\n",
        "\n",
        "print(\"\\nHarga Aktual vs Prediksi:\")\n",
        "print(comparison_df)\n"
      ],
      "metadata": {
        "colab": {
          "base_uri": "https://localhost:8080/"
        },
        "id": "tEMSGa5qZPuF",
        "outputId": "005c5d51-e9e1-440d-f6d9-88d5990b2491"
      },
      "execution_count": 62,
      "outputs": [
        {
          "output_type": "stream",
          "name": "stdout",
          "text": [
            "MAE: 0.017492732228026324\n",
            "RMSE: 0.020987690316540495\n",
            "MAPE: 11.08%\n",
            "\n",
            "Harga Aktual vs Prediksi:\n",
            "    tanggal    Actual  Predicted\n",
            "0         0  0.189189   0.203610\n",
            "1         1  0.810811   0.838649\n",
            "2         2  0.315315   0.309755\n",
            "3         3  0.468468   0.452703\n",
            "4         4  0.468468   0.478018\n",
            "..      ...       ...        ...\n",
            "80       80  0.351351   0.359865\n",
            "81       81  0.324324   0.306471\n",
            "82       82  0.306306   0.336261\n",
            "83       83  0.810811   0.791712\n",
            "84       84  0.774775   0.827387\n",
            "\n",
            "[85 rows x 3 columns]\n"
          ]
        }
      ]
    },
    {
      "cell_type": "markdown",
      "source": [
        "##XGBRegressor"
      ],
      "metadata": {
        "id": "zUxyDjGx-xHz"
      }
    },
    {
      "cell_type": "code",
      "source": [
        "import pandas as pd\n",
        "import numpy as np\n",
        "from xgboost import XGBRegressor\n",
        "from sklearn.model_selection import train_test_split\n",
        "from sklearn.metrics import mean_absolute_error, mean_squared_error, mean_absolute_percentage_error\n",
        "\n",
        "# Path file (ganti dengan path file Anda sendiri)\n",
        "file_path = '/content/sample_data/bagi.xlsx'\n",
        "\n",
        "# Memuat data\n",
        "data = pd.read_excel(file_path)\n",
        "\n",
        "# Mendefinisikan dan melatih model Decision Tree\n",
        "model = XGBRegressor(n_estimators=100, learning_rate=0.1, random_state=42)\n",
        "model.fit(X_train, y_train)\n",
        "y_pred = model.predict(X_test)\n",
        "\n",
        "# Menghitung dan mencetak metrik evaluasi\n",
        "mae = mean_absolute_error(y_test, y_pred)\n",
        "rmse = np.sqrt(mean_squared_error(y_test, y_pred))\n",
        "mape = mean_absolute_percentage_error(y_test, y_pred)\n",
        "\n",
        "print(f\"MAE: {mae}\")\n",
        "print(f\"RMSE: {rmse}\")\n",
        "print(f\"MAPE: {mape * 100:.2f}%\")\n",
        "\n",
        "\n",
        "\n",
        "# --- Membandingkan prediksi dengan data aktual ---\n",
        "# Membuat DataFrame untuk nilai aktual vs prediksi\n",
        "comparison_df = pd.DataFrame({\n",
        "    \"tanggal\": X_test.index,\n",
        "    \"Actual\": y_test,\n",
        "    \"Predicted\": y_pred\n",
        "})\n",
        "\n",
        "# Mengurutkan DataFrame berdasarkan tanggal\n",
        "comparison_df = comparison_df.sort_values(by=\"tanggal\").reset_index(drop=True)\n",
        "\n",
        "print(\"\\nHarga Aktual vs Prediksi:\")\n",
        "print(comparison_df)\n"
      ],
      "metadata": {
        "colab": {
          "base_uri": "https://localhost:8080/"
        },
        "id": "ruCQUCvfZfeS",
        "outputId": "9fb97eac-8ef0-4a07-f94d-cb3fa0286362"
      },
      "execution_count": 63,
      "outputs": [
        {
          "output_type": "stream",
          "name": "stdout",
          "text": [
            "MAE: 0.016705553014883624\n",
            "RMSE: 0.01986092097159439\n",
            "MAPE: 9.67%\n",
            "\n",
            "Harga Aktual vs Prediksi:\n",
            "    tanggal    Actual  Predicted\n",
            "0         0  0.189189   0.204524\n",
            "1         1  0.810811   0.843569\n",
            "2         2  0.315315   0.311324\n",
            "3         3  0.468468   0.455628\n",
            "4         4  0.468468   0.461630\n",
            "..      ...       ...        ...\n",
            "80       80  0.351351   0.367882\n",
            "81       81  0.324324   0.307608\n",
            "82       82  0.306306   0.324903\n",
            "83       83  0.810811   0.781235\n",
            "84       84  0.774775   0.812512\n",
            "\n",
            "[85 rows x 3 columns]\n"
          ]
        }
      ]
    }
  ]
}