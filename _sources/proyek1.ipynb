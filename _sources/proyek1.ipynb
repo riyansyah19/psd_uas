{
  "nbformat": 4,
  "nbformat_minor": 0,
  "metadata": {
    "colab": {
      "provenance": []
    },
    "kernelspec": {
      "name": "python3",
      "display_name": "Python 3"
    },
    "language_info": {
      "name": "python"
    }
  },
  "cells": [
    {
      "cell_type": "markdown",
      "source": [
        "#Prediksi Harga Daging Sapi"
      ],
      "metadata": {
        "id": "stc4-_PgeT2h"
      }
    },
    {
      "cell_type": "markdown",
      "source": [
        "#Business Understanding"
      ],
      "metadata": {
        "id": "2q7B7LQcCU4w"
      }
    },
    {
      "cell_type": "markdown",
      "source": [
        "Proyek ini bertujuan untuk menyediakan prediksi harga daging sapi di Provinsi Jawa Timur untuk periode tertentu (misalnya, hari berikutnya) secara akurat. Informasi ini diharapkan memberikan manfaat signifikan bagi konsumen, peternak, pedagang, dan pemerintah daerah sebagai berikut:\n",
        "\n",
        "Konsumen dapat menggunakan prediksi harga untuk merencanakan belanja dengan lebih efektif, khususnya bagi rumah tangga yang ingin mengatur anggaran belanja daging sapi, terutama saat mendekati hari besar. Mereka juga bisa membeli daging sebelum harga diprediksi naik, sehingga menghemat pengeluaran.\n",
        "\n",
        "Peternak dapat memanfaatkan prediksi untuk menentukan waktu yang tepat dalam memotong sapi dan mendistribusikan daging ke pasar, memastikan mereka mendapatkan harga yang optimal. Dengan prediksi ini, risiko kerugian akibat penurunan harga atau stok berlebih dapat diminimalkan, sehingga meningkatkan efisiensi produksi dan distribusi.\n",
        "\n",
        "Pedagang akan terbantu dalam mengelola stok dan menetapkan harga jual yang kompetitif berdasarkan prediksi harga. Informasi ini memungkinkan pedagang untuk mengatur persediaan secara optimal dan merencanakan strategi promosi atau diskon pada waktu yang tepat, sehingga mereka tetap dapat memenuhi kebutuhan pasar tanpa mengurangi margin keuntungan.\n"
      ],
      "metadata": {
        "id": "zhWU1FcdCWUs"
      }
    },
    {
      "cell_type": "markdown",
      "source": [
        "#Data Understanding"
      ],
      "metadata": {
        "id": "uXIFMYSbcd98"
      }
    },
    {
      "cell_type": "markdown",
      "source": [
        "data yang saya ambil merupakan data time series univariates yaitu data harga Daging Sapi perhari yang diambil dari tanggal 10 oktober 2022 sampai 29 November 2024 pada provinsi jawa timur dengan jumlah data 548 dan memiliki 2 fitur:tanggal,Daging Sapi tipe data tanggal adalah time temporal dan Daging Sapi adalah numeric"
      ],
      "metadata": {
        "id": "wdtJS2CfciLO"
      }
    },
    {
      "cell_type": "code",
      "execution_count": null,
      "metadata": {
        "id": "avHH88RTFWoT",
        "colab": {
          "base_uri": "https://localhost:8080/",
          "height": 206
        },
        "outputId": "01c04d21-a751-4d89-a518-00161575c2f9"
      },
      "outputs": [
        {
          "output_type": "execute_result",
          "data": {
            "text/plain": [
              "           Date  Daging Sapi\n",
              "0  10/ 10/ 2022       116650\n",
              "1  11/ 10/ 2022       116900\n",
              "2  12/ 10/ 2022       116900\n",
              "3  13/ 10/ 2022       116800\n",
              "4  14/ 10/ 2022       116900"
            ],
            "text/html": [
              "\n",
              "  <div id=\"df-d0f0ad28-1639-4def-a32d-8d22473c329a\" class=\"colab-df-container\">\n",
              "    <div>\n",
              "<style scoped>\n",
              "    .dataframe tbody tr th:only-of-type {\n",
              "        vertical-align: middle;\n",
              "    }\n",
              "\n",
              "    .dataframe tbody tr th {\n",
              "        vertical-align: top;\n",
              "    }\n",
              "\n",
              "    .dataframe thead th {\n",
              "        text-align: right;\n",
              "    }\n",
              "</style>\n",
              "<table border=\"1\" class=\"dataframe\">\n",
              "  <thead>\n",
              "    <tr style=\"text-align: right;\">\n",
              "      <th></th>\n",
              "      <th>Date</th>\n",
              "      <th>Daging Sapi</th>\n",
              "    </tr>\n",
              "  </thead>\n",
              "  <tbody>\n",
              "    <tr>\n",
              "      <th>0</th>\n",
              "      <td>10/ 10/ 2022</td>\n",
              "      <td>116650</td>\n",
              "    </tr>\n",
              "    <tr>\n",
              "      <th>1</th>\n",
              "      <td>11/ 10/ 2022</td>\n",
              "      <td>116900</td>\n",
              "    </tr>\n",
              "    <tr>\n",
              "      <th>2</th>\n",
              "      <td>12/ 10/ 2022</td>\n",
              "      <td>116900</td>\n",
              "    </tr>\n",
              "    <tr>\n",
              "      <th>3</th>\n",
              "      <td>13/ 10/ 2022</td>\n",
              "      <td>116800</td>\n",
              "    </tr>\n",
              "    <tr>\n",
              "      <th>4</th>\n",
              "      <td>14/ 10/ 2022</td>\n",
              "      <td>116900</td>\n",
              "    </tr>\n",
              "  </tbody>\n",
              "</table>\n",
              "</div>\n",
              "    <div class=\"colab-df-buttons\">\n",
              "\n",
              "  <div class=\"colab-df-container\">\n",
              "    <button class=\"colab-df-convert\" onclick=\"convertToInteractive('df-d0f0ad28-1639-4def-a32d-8d22473c329a')\"\n",
              "            title=\"Convert this dataframe to an interactive table.\"\n",
              "            style=\"display:none;\">\n",
              "\n",
              "  <svg xmlns=\"http://www.w3.org/2000/svg\" height=\"24px\" viewBox=\"0 -960 960 960\">\n",
              "    <path d=\"M120-120v-720h720v720H120Zm60-500h600v-160H180v160Zm220 220h160v-160H400v160Zm0 220h160v-160H400v160ZM180-400h160v-160H180v160Zm440 0h160v-160H620v160ZM180-180h160v-160H180v160Zm440 0h160v-160H620v160Z\"/>\n",
              "  </svg>\n",
              "    </button>\n",
              "\n",
              "  <style>\n",
              "    .colab-df-container {\n",
              "      display:flex;\n",
              "      gap: 12px;\n",
              "    }\n",
              "\n",
              "    .colab-df-convert {\n",
              "      background-color: #E8F0FE;\n",
              "      border: none;\n",
              "      border-radius: 50%;\n",
              "      cursor: pointer;\n",
              "      display: none;\n",
              "      fill: #1967D2;\n",
              "      height: 32px;\n",
              "      padding: 0 0 0 0;\n",
              "      width: 32px;\n",
              "    }\n",
              "\n",
              "    .colab-df-convert:hover {\n",
              "      background-color: #E2EBFA;\n",
              "      box-shadow: 0px 1px 2px rgba(60, 64, 67, 0.3), 0px 1px 3px 1px rgba(60, 64, 67, 0.15);\n",
              "      fill: #174EA6;\n",
              "    }\n",
              "\n",
              "    .colab-df-buttons div {\n",
              "      margin-bottom: 4px;\n",
              "    }\n",
              "\n",
              "    [theme=dark] .colab-df-convert {\n",
              "      background-color: #3B4455;\n",
              "      fill: #D2E3FC;\n",
              "    }\n",
              "\n",
              "    [theme=dark] .colab-df-convert:hover {\n",
              "      background-color: #434B5C;\n",
              "      box-shadow: 0px 1px 3px 1px rgba(0, 0, 0, 0.15);\n",
              "      filter: drop-shadow(0px 1px 2px rgba(0, 0, 0, 0.3));\n",
              "      fill: #FFFFFF;\n",
              "    }\n",
              "  </style>\n",
              "\n",
              "    <script>\n",
              "      const buttonEl =\n",
              "        document.querySelector('#df-d0f0ad28-1639-4def-a32d-8d22473c329a button.colab-df-convert');\n",
              "      buttonEl.style.display =\n",
              "        google.colab.kernel.accessAllowed ? 'block' : 'none';\n",
              "\n",
              "      async function convertToInteractive(key) {\n",
              "        const element = document.querySelector('#df-d0f0ad28-1639-4def-a32d-8d22473c329a');\n",
              "        const dataTable =\n",
              "          await google.colab.kernel.invokeFunction('convertToInteractive',\n",
              "                                                    [key], {});\n",
              "        if (!dataTable) return;\n",
              "\n",
              "        const docLinkHtml = 'Like what you see? Visit the ' +\n",
              "          '<a target=\"_blank\" href=https://colab.research.google.com/notebooks/data_table.ipynb>data table notebook</a>'\n",
              "          + ' to learn more about interactive tables.';\n",
              "        element.innerHTML = '';\n",
              "        dataTable['output_type'] = 'display_data';\n",
              "        await google.colab.output.renderOutput(dataTable, element);\n",
              "        const docLink = document.createElement('div');\n",
              "        docLink.innerHTML = docLinkHtml;\n",
              "        element.appendChild(docLink);\n",
              "      }\n",
              "    </script>\n",
              "  </div>\n",
              "\n",
              "\n",
              "<div id=\"df-394419a1-1c26-4586-b86a-36373df90629\">\n",
              "  <button class=\"colab-df-quickchart\" onclick=\"quickchart('df-394419a1-1c26-4586-b86a-36373df90629')\"\n",
              "            title=\"Suggest charts\"\n",
              "            style=\"display:none;\">\n",
              "\n",
              "<svg xmlns=\"http://www.w3.org/2000/svg\" height=\"24px\"viewBox=\"0 0 24 24\"\n",
              "     width=\"24px\">\n",
              "    <g>\n",
              "        <path d=\"M19 3H5c-1.1 0-2 .9-2 2v14c0 1.1.9 2 2 2h14c1.1 0 2-.9 2-2V5c0-1.1-.9-2-2-2zM9 17H7v-7h2v7zm4 0h-2V7h2v10zm4 0h-2v-4h2v4z\"/>\n",
              "    </g>\n",
              "</svg>\n",
              "  </button>\n",
              "\n",
              "<style>\n",
              "  .colab-df-quickchart {\n",
              "      --bg-color: #E8F0FE;\n",
              "      --fill-color: #1967D2;\n",
              "      --hover-bg-color: #E2EBFA;\n",
              "      --hover-fill-color: #174EA6;\n",
              "      --disabled-fill-color: #AAA;\n",
              "      --disabled-bg-color: #DDD;\n",
              "  }\n",
              "\n",
              "  [theme=dark] .colab-df-quickchart {\n",
              "      --bg-color: #3B4455;\n",
              "      --fill-color: #D2E3FC;\n",
              "      --hover-bg-color: #434B5C;\n",
              "      --hover-fill-color: #FFFFFF;\n",
              "      --disabled-bg-color: #3B4455;\n",
              "      --disabled-fill-color: #666;\n",
              "  }\n",
              "\n",
              "  .colab-df-quickchart {\n",
              "    background-color: var(--bg-color);\n",
              "    border: none;\n",
              "    border-radius: 50%;\n",
              "    cursor: pointer;\n",
              "    display: none;\n",
              "    fill: var(--fill-color);\n",
              "    height: 32px;\n",
              "    padding: 0;\n",
              "    width: 32px;\n",
              "  }\n",
              "\n",
              "  .colab-df-quickchart:hover {\n",
              "    background-color: var(--hover-bg-color);\n",
              "    box-shadow: 0 1px 2px rgba(60, 64, 67, 0.3), 0 1px 3px 1px rgba(60, 64, 67, 0.15);\n",
              "    fill: var(--button-hover-fill-color);\n",
              "  }\n",
              "\n",
              "  .colab-df-quickchart-complete:disabled,\n",
              "  .colab-df-quickchart-complete:disabled:hover {\n",
              "    background-color: var(--disabled-bg-color);\n",
              "    fill: var(--disabled-fill-color);\n",
              "    box-shadow: none;\n",
              "  }\n",
              "\n",
              "  .colab-df-spinner {\n",
              "    border: 2px solid var(--fill-color);\n",
              "    border-color: transparent;\n",
              "    border-bottom-color: var(--fill-color);\n",
              "    animation:\n",
              "      spin 1s steps(1) infinite;\n",
              "  }\n",
              "\n",
              "  @keyframes spin {\n",
              "    0% {\n",
              "      border-color: transparent;\n",
              "      border-bottom-color: var(--fill-color);\n",
              "      border-left-color: var(--fill-color);\n",
              "    }\n",
              "    20% {\n",
              "      border-color: transparent;\n",
              "      border-left-color: var(--fill-color);\n",
              "      border-top-color: var(--fill-color);\n",
              "    }\n",
              "    30% {\n",
              "      border-color: transparent;\n",
              "      border-left-color: var(--fill-color);\n",
              "      border-top-color: var(--fill-color);\n",
              "      border-right-color: var(--fill-color);\n",
              "    }\n",
              "    40% {\n",
              "      border-color: transparent;\n",
              "      border-right-color: var(--fill-color);\n",
              "      border-top-color: var(--fill-color);\n",
              "    }\n",
              "    60% {\n",
              "      border-color: transparent;\n",
              "      border-right-color: var(--fill-color);\n",
              "    }\n",
              "    80% {\n",
              "      border-color: transparent;\n",
              "      border-right-color: var(--fill-color);\n",
              "      border-bottom-color: var(--fill-color);\n",
              "    }\n",
              "    90% {\n",
              "      border-color: transparent;\n",
              "      border-bottom-color: var(--fill-color);\n",
              "    }\n",
              "  }\n",
              "</style>\n",
              "\n",
              "  <script>\n",
              "    async function quickchart(key) {\n",
              "      const quickchartButtonEl =\n",
              "        document.querySelector('#' + key + ' button');\n",
              "      quickchartButtonEl.disabled = true;  // To prevent multiple clicks.\n",
              "      quickchartButtonEl.classList.add('colab-df-spinner');\n",
              "      try {\n",
              "        const charts = await google.colab.kernel.invokeFunction(\n",
              "            'suggestCharts', [key], {});\n",
              "      } catch (error) {\n",
              "        console.error('Error during call to suggestCharts:', error);\n",
              "      }\n",
              "      quickchartButtonEl.classList.remove('colab-df-spinner');\n",
              "      quickchartButtonEl.classList.add('colab-df-quickchart-complete');\n",
              "    }\n",
              "    (() => {\n",
              "      let quickchartButtonEl =\n",
              "        document.querySelector('#df-394419a1-1c26-4586-b86a-36373df90629 button');\n",
              "      quickchartButtonEl.style.display =\n",
              "        google.colab.kernel.accessAllowed ? 'block' : 'none';\n",
              "    })();\n",
              "  </script>\n",
              "</div>\n",
              "\n",
              "    </div>\n",
              "  </div>\n"
            ],
            "application/vnd.google.colaboratory.intrinsic+json": {
              "type": "dataframe",
              "variable_name": "df",
              "summary": "{\n  \"name\": \"df\",\n  \"rows\": 548,\n  \"fields\": [\n    {\n      \"column\": \"Date\",\n      \"properties\": {\n        \"dtype\": \"string\",\n        \"num_unique_values\": 548,\n        \"samples\": [\n          \"27/ 09/ 2023\",\n          \"26/ 01/ 2023\",\n          \"25/ 09/ 2023\"\n        ],\n        \"semantic_type\": \"\",\n        \"description\": \"\"\n      }\n    },\n    {\n      \"column\": \"Daging Sapi\",\n      \"properties\": {\n        \"dtype\": \"number\",\n        \"std\": 1710,\n        \"min\": 116350,\n        \"max\": 123750,\n        \"num_unique_values\": 70,\n        \"samples\": [\n          118900,\n          116650,\n          120800\n        ],\n        \"semantic_type\": \"\",\n        \"description\": \"\"\n      }\n    }\n  ]\n}"
            }
          },
          "metadata": {},
          "execution_count": 1
        }
      ],
      "source": [
        "import pandas as pd\n",
        "\n",
        "# Membaca file Excel\n",
        "file_path = '/content/sample_data/Tabel Harga Berdasarkan Daerah (3).xlsx'  # Ganti dengan path file Excel Anda\n",
        "df = pd.read_excel(file_path)\n",
        "\n",
        "df.head()"
      ]
    },
    {
      "cell_type": "code",
      "source": [
        "df.info()"
      ],
      "metadata": {
        "colab": {
          "base_uri": "https://localhost:8080/"
        },
        "id": "Yx2gXSiPcsmI",
        "outputId": "b1835447-8ab3-4016-a9cf-2e9069a9a768"
      },
      "execution_count": null,
      "outputs": [
        {
          "output_type": "stream",
          "name": "stdout",
          "text": [
            "<class 'pandas.core.frame.DataFrame'>\n",
            "RangeIndex: 548 entries, 0 to 547\n",
            "Data columns (total 2 columns):\n",
            " #   Column       Non-Null Count  Dtype \n",
            "---  ------       --------------  ----- \n",
            " 0   Date         548 non-null    object\n",
            " 1   Daging Sapi  548 non-null    int64 \n",
            "dtypes: int64(1), object(1)\n",
            "memory usage: 8.7+ KB\n"
          ]
        }
      ]
    },
    {
      "cell_type": "markdown",
      "source": [
        "**Deskripsi Data:**\n",
        "\n",
        "Date = merupakan tanggal pada harga Daging sapi\n",
        "\n",
        "Daging sapi = merupakan nilai harga dari Daging sapi"
      ],
      "metadata": {
        "id": "JMOldNNYc4Ry"
      }
    },
    {
      "cell_type": "code",
      "source": [
        "df.shape"
      ],
      "metadata": {
        "colab": {
          "base_uri": "https://localhost:8080/"
        },
        "id": "8JnK_Mm4dHit",
        "outputId": "0818afc0-9858-4f20-8a77-144daf3a61e7"
      },
      "execution_count": null,
      "outputs": [
        {
          "output_type": "execute_result",
          "data": {
            "text/plain": [
              "(548, 2)"
            ]
          },
          "metadata": {},
          "execution_count": 3
        }
      ]
    },
    {
      "cell_type": "markdown",
      "source": [
        "Data terdiri dari 548 baris dan 2 kolom"
      ],
      "metadata": {
        "id": "0OTNyJcUdGvY"
      }
    },
    {
      "cell_type": "code",
      "source": [
        "df.describe()"
      ],
      "metadata": {
        "colab": {
          "base_uri": "https://localhost:8080/",
          "height": 300
        },
        "id": "exedH6CsdO0-",
        "outputId": "a94710f0-cda4-44ea-c2d6-0b3a083a3b67"
      },
      "execution_count": null,
      "outputs": [
        {
          "output_type": "execute_result",
          "data": {
            "text/plain": [
              "         Daging Sapi\n",
              "count     548.000000\n",
              "mean   118654.562044\n",
              "std      1710.954380\n",
              "min    116350.000000\n",
              "25%    117437.500000\n",
              "50%    118300.000000\n",
              "75%    120200.000000\n",
              "max    123750.000000"
            ],
            "text/html": [
              "\n",
              "  <div id=\"df-d34c0973-b412-4d8e-8869-4ae6560163eb\" class=\"colab-df-container\">\n",
              "    <div>\n",
              "<style scoped>\n",
              "    .dataframe tbody tr th:only-of-type {\n",
              "        vertical-align: middle;\n",
              "    }\n",
              "\n",
              "    .dataframe tbody tr th {\n",
              "        vertical-align: top;\n",
              "    }\n",
              "\n",
              "    .dataframe thead th {\n",
              "        text-align: right;\n",
              "    }\n",
              "</style>\n",
              "<table border=\"1\" class=\"dataframe\">\n",
              "  <thead>\n",
              "    <tr style=\"text-align: right;\">\n",
              "      <th></th>\n",
              "      <th>Daging Sapi</th>\n",
              "    </tr>\n",
              "  </thead>\n",
              "  <tbody>\n",
              "    <tr>\n",
              "      <th>count</th>\n",
              "      <td>548.000000</td>\n",
              "    </tr>\n",
              "    <tr>\n",
              "      <th>mean</th>\n",
              "      <td>118654.562044</td>\n",
              "    </tr>\n",
              "    <tr>\n",
              "      <th>std</th>\n",
              "      <td>1710.954380</td>\n",
              "    </tr>\n",
              "    <tr>\n",
              "      <th>min</th>\n",
              "      <td>116350.000000</td>\n",
              "    </tr>\n",
              "    <tr>\n",
              "      <th>25%</th>\n",
              "      <td>117437.500000</td>\n",
              "    </tr>\n",
              "    <tr>\n",
              "      <th>50%</th>\n",
              "      <td>118300.000000</td>\n",
              "    </tr>\n",
              "    <tr>\n",
              "      <th>75%</th>\n",
              "      <td>120200.000000</td>\n",
              "    </tr>\n",
              "    <tr>\n",
              "      <th>max</th>\n",
              "      <td>123750.000000</td>\n",
              "    </tr>\n",
              "  </tbody>\n",
              "</table>\n",
              "</div>\n",
              "    <div class=\"colab-df-buttons\">\n",
              "\n",
              "  <div class=\"colab-df-container\">\n",
              "    <button class=\"colab-df-convert\" onclick=\"convertToInteractive('df-d34c0973-b412-4d8e-8869-4ae6560163eb')\"\n",
              "            title=\"Convert this dataframe to an interactive table.\"\n",
              "            style=\"display:none;\">\n",
              "\n",
              "  <svg xmlns=\"http://www.w3.org/2000/svg\" height=\"24px\" viewBox=\"0 -960 960 960\">\n",
              "    <path d=\"M120-120v-720h720v720H120Zm60-500h600v-160H180v160Zm220 220h160v-160H400v160Zm0 220h160v-160H400v160ZM180-400h160v-160H180v160Zm440 0h160v-160H620v160ZM180-180h160v-160H180v160Zm440 0h160v-160H620v160Z\"/>\n",
              "  </svg>\n",
              "    </button>\n",
              "\n",
              "  <style>\n",
              "    .colab-df-container {\n",
              "      display:flex;\n",
              "      gap: 12px;\n",
              "    }\n",
              "\n",
              "    .colab-df-convert {\n",
              "      background-color: #E8F0FE;\n",
              "      border: none;\n",
              "      border-radius: 50%;\n",
              "      cursor: pointer;\n",
              "      display: none;\n",
              "      fill: #1967D2;\n",
              "      height: 32px;\n",
              "      padding: 0 0 0 0;\n",
              "      width: 32px;\n",
              "    }\n",
              "\n",
              "    .colab-df-convert:hover {\n",
              "      background-color: #E2EBFA;\n",
              "      box-shadow: 0px 1px 2px rgba(60, 64, 67, 0.3), 0px 1px 3px 1px rgba(60, 64, 67, 0.15);\n",
              "      fill: #174EA6;\n",
              "    }\n",
              "\n",
              "    .colab-df-buttons div {\n",
              "      margin-bottom: 4px;\n",
              "    }\n",
              "\n",
              "    [theme=dark] .colab-df-convert {\n",
              "      background-color: #3B4455;\n",
              "      fill: #D2E3FC;\n",
              "    }\n",
              "\n",
              "    [theme=dark] .colab-df-convert:hover {\n",
              "      background-color: #434B5C;\n",
              "      box-shadow: 0px 1px 3px 1px rgba(0, 0, 0, 0.15);\n",
              "      filter: drop-shadow(0px 1px 2px rgba(0, 0, 0, 0.3));\n",
              "      fill: #FFFFFF;\n",
              "    }\n",
              "  </style>\n",
              "\n",
              "    <script>\n",
              "      const buttonEl =\n",
              "        document.querySelector('#df-d34c0973-b412-4d8e-8869-4ae6560163eb button.colab-df-convert');\n",
              "      buttonEl.style.display =\n",
              "        google.colab.kernel.accessAllowed ? 'block' : 'none';\n",
              "\n",
              "      async function convertToInteractive(key) {\n",
              "        const element = document.querySelector('#df-d34c0973-b412-4d8e-8869-4ae6560163eb');\n",
              "        const dataTable =\n",
              "          await google.colab.kernel.invokeFunction('convertToInteractive',\n",
              "                                                    [key], {});\n",
              "        if (!dataTable) return;\n",
              "\n",
              "        const docLinkHtml = 'Like what you see? Visit the ' +\n",
              "          '<a target=\"_blank\" href=https://colab.research.google.com/notebooks/data_table.ipynb>data table notebook</a>'\n",
              "          + ' to learn more about interactive tables.';\n",
              "        element.innerHTML = '';\n",
              "        dataTable['output_type'] = 'display_data';\n",
              "        await google.colab.output.renderOutput(dataTable, element);\n",
              "        const docLink = document.createElement('div');\n",
              "        docLink.innerHTML = docLinkHtml;\n",
              "        element.appendChild(docLink);\n",
              "      }\n",
              "    </script>\n",
              "  </div>\n",
              "\n",
              "\n",
              "<div id=\"df-728e53aa-d7d8-49db-87e1-62e5efdf6cb1\">\n",
              "  <button class=\"colab-df-quickchart\" onclick=\"quickchart('df-728e53aa-d7d8-49db-87e1-62e5efdf6cb1')\"\n",
              "            title=\"Suggest charts\"\n",
              "            style=\"display:none;\">\n",
              "\n",
              "<svg xmlns=\"http://www.w3.org/2000/svg\" height=\"24px\"viewBox=\"0 0 24 24\"\n",
              "     width=\"24px\">\n",
              "    <g>\n",
              "        <path d=\"M19 3H5c-1.1 0-2 .9-2 2v14c0 1.1.9 2 2 2h14c1.1 0 2-.9 2-2V5c0-1.1-.9-2-2-2zM9 17H7v-7h2v7zm4 0h-2V7h2v10zm4 0h-2v-4h2v4z\"/>\n",
              "    </g>\n",
              "</svg>\n",
              "  </button>\n",
              "\n",
              "<style>\n",
              "  .colab-df-quickchart {\n",
              "      --bg-color: #E8F0FE;\n",
              "      --fill-color: #1967D2;\n",
              "      --hover-bg-color: #E2EBFA;\n",
              "      --hover-fill-color: #174EA6;\n",
              "      --disabled-fill-color: #AAA;\n",
              "      --disabled-bg-color: #DDD;\n",
              "  }\n",
              "\n",
              "  [theme=dark] .colab-df-quickchart {\n",
              "      --bg-color: #3B4455;\n",
              "      --fill-color: #D2E3FC;\n",
              "      --hover-bg-color: #434B5C;\n",
              "      --hover-fill-color: #FFFFFF;\n",
              "      --disabled-bg-color: #3B4455;\n",
              "      --disabled-fill-color: #666;\n",
              "  }\n",
              "\n",
              "  .colab-df-quickchart {\n",
              "    background-color: var(--bg-color);\n",
              "    border: none;\n",
              "    border-radius: 50%;\n",
              "    cursor: pointer;\n",
              "    display: none;\n",
              "    fill: var(--fill-color);\n",
              "    height: 32px;\n",
              "    padding: 0;\n",
              "    width: 32px;\n",
              "  }\n",
              "\n",
              "  .colab-df-quickchart:hover {\n",
              "    background-color: var(--hover-bg-color);\n",
              "    box-shadow: 0 1px 2px rgba(60, 64, 67, 0.3), 0 1px 3px 1px rgba(60, 64, 67, 0.15);\n",
              "    fill: var(--button-hover-fill-color);\n",
              "  }\n",
              "\n",
              "  .colab-df-quickchart-complete:disabled,\n",
              "  .colab-df-quickchart-complete:disabled:hover {\n",
              "    background-color: var(--disabled-bg-color);\n",
              "    fill: var(--disabled-fill-color);\n",
              "    box-shadow: none;\n",
              "  }\n",
              "\n",
              "  .colab-df-spinner {\n",
              "    border: 2px solid var(--fill-color);\n",
              "    border-color: transparent;\n",
              "    border-bottom-color: var(--fill-color);\n",
              "    animation:\n",
              "      spin 1s steps(1) infinite;\n",
              "  }\n",
              "\n",
              "  @keyframes spin {\n",
              "    0% {\n",
              "      border-color: transparent;\n",
              "      border-bottom-color: var(--fill-color);\n",
              "      border-left-color: var(--fill-color);\n",
              "    }\n",
              "    20% {\n",
              "      border-color: transparent;\n",
              "      border-left-color: var(--fill-color);\n",
              "      border-top-color: var(--fill-color);\n",
              "    }\n",
              "    30% {\n",
              "      border-color: transparent;\n",
              "      border-left-color: var(--fill-color);\n",
              "      border-top-color: var(--fill-color);\n",
              "      border-right-color: var(--fill-color);\n",
              "    }\n",
              "    40% {\n",
              "      border-color: transparent;\n",
              "      border-right-color: var(--fill-color);\n",
              "      border-top-color: var(--fill-color);\n",
              "    }\n",
              "    60% {\n",
              "      border-color: transparent;\n",
              "      border-right-color: var(--fill-color);\n",
              "    }\n",
              "    80% {\n",
              "      border-color: transparent;\n",
              "      border-right-color: var(--fill-color);\n",
              "      border-bottom-color: var(--fill-color);\n",
              "    }\n",
              "    90% {\n",
              "      border-color: transparent;\n",
              "      border-bottom-color: var(--fill-color);\n",
              "    }\n",
              "  }\n",
              "</style>\n",
              "\n",
              "  <script>\n",
              "    async function quickchart(key) {\n",
              "      const quickchartButtonEl =\n",
              "        document.querySelector('#' + key + ' button');\n",
              "      quickchartButtonEl.disabled = true;  // To prevent multiple clicks.\n",
              "      quickchartButtonEl.classList.add('colab-df-spinner');\n",
              "      try {\n",
              "        const charts = await google.colab.kernel.invokeFunction(\n",
              "            'suggestCharts', [key], {});\n",
              "      } catch (error) {\n",
              "        console.error('Error during call to suggestCharts:', error);\n",
              "      }\n",
              "      quickchartButtonEl.classList.remove('colab-df-spinner');\n",
              "      quickchartButtonEl.classList.add('colab-df-quickchart-complete');\n",
              "    }\n",
              "    (() => {\n",
              "      let quickchartButtonEl =\n",
              "        document.querySelector('#df-728e53aa-d7d8-49db-87e1-62e5efdf6cb1 button');\n",
              "      quickchartButtonEl.style.display =\n",
              "        google.colab.kernel.accessAllowed ? 'block' : 'none';\n",
              "    })();\n",
              "  </script>\n",
              "</div>\n",
              "\n",
              "    </div>\n",
              "  </div>\n"
            ],
            "application/vnd.google.colaboratory.intrinsic+json": {
              "type": "dataframe",
              "summary": "{\n  \"name\": \"df\",\n  \"rows\": 8,\n  \"fields\": [\n    {\n      \"column\": \"Daging Sapi\",\n      \"properties\": {\n        \"dtype\": \"number\",\n        \"std\": 54662.16917847449,\n        \"min\": 548.0,\n        \"max\": 123750.0,\n        \"num_unique_values\": 8,\n        \"samples\": [\n          118654.56204379562,\n          118300.0,\n          548.0\n        ],\n        \"semantic_type\": \"\",\n        \"description\": \"\"\n      }\n    }\n  ]\n}"
            }
          },
          "metadata": {},
          "execution_count": 4
        }
      ]
    },
    {
      "cell_type": "markdown",
      "source": [
        "#Data Preprocessing"
      ],
      "metadata": {
        "id": "bkYCwtDndSEi"
      }
    },
    {
      "cell_type": "markdown",
      "source": [
        "##Normalisasi Data"
      ],
      "metadata": {
        "id": "FzgPWorZdVbv"
      }
    },
    {
      "cell_type": "code",
      "source": [
        "import pandas as pd\n",
        "from sklearn.preprocessing import MinMaxScaler\n",
        "import joblib\n",
        "\n",
        "# Membaca file Excel\n",
        "file_path = '/content/sample_data/Tabel Harga Berdasarkan Daerah (3).xlsx'  # Ganti dengan path file Excel Anda\n",
        "df = pd.read_excel(file_path)\n",
        "\n",
        "# Inisialisasi MinMaxScaler\n",
        "scaler = MinMaxScaler()\n",
        "\n",
        "# Menampilkan nilai minimum dan maksimum sebelum normalisasi\n",
        "min_values_before = df.min()\n",
        "max_values_before = df.max()\n",
        "\n",
        "print(\"Nilai minimum sebelum normalisasi:\")\n",
        "print(min_values_before)\n",
        "\n",
        "print(\"\\nNilai maksimum sebelum normalisasi:\")\n",
        "print(max_values_before)\n",
        "# Melakukan normalisasi pada kolom numerik\n",
        "kolom_numerik = df.select_dtypes(include=['float64', 'int64']).columns\n",
        "df[kolom_numerik] = scaler.fit_transform(df[kolom_numerik])\n",
        "\n",
        "scaler_file_path = '/content/sample_data/scalerp1.pkl'\n",
        "joblib.dump(scaler, scaler_file_path)\n",
        "# Menyimpan data yang sudah dinormalisasi ke file Excel baru\n",
        "combined_file_path = '/content/sample_data/normalisasi.xlsx'\n",
        "df.to_excel(combined_file_path, index=False)"
      ],
      "metadata": {
        "colab": {
          "base_uri": "https://localhost:8080/"
        },
        "id": "NQ9zF9YdzGEo",
        "outputId": "85911d5f-eb2f-4b36-be02-7c6d4d90d4bf"
      },
      "execution_count": null,
      "outputs": [
        {
          "output_type": "stream",
          "name": "stdout",
          "text": [
            "Nilai minimum sebelum normalisasi:\n",
            "Date           01/ 01/ 2024\n",
            "Daging Sapi          116350\n",
            "dtype: object\n",
            "\n",
            "Nilai maksimum sebelum normalisasi:\n",
            "Date           31/ 10/ 2024\n",
            "Daging Sapi          123750\n",
            "dtype: object\n"
          ]
        }
      ]
    },
    {
      "cell_type": "markdown",
      "source": [
        "Disini kami menormalisasi data dulu agar nanti presentase errornya kecil dan kami menggunakan metode minmaxscaler untuk normalisasinya dimana data ini memiliki nilai minimum adalah  116350 dan nilai maksimumnya adalah 123750"
      ],
      "metadata": {
        "id": "r_DUjKDcda3B"
      }
    },
    {
      "cell_type": "markdown",
      "source": [
        "##Mencari Outlier"
      ],
      "metadata": {
        "id": "g0GW045Bds4n"
      }
    },
    {
      "cell_type": "code",
      "source": [
        "import pandas as pd\n",
        "import numpy as np\n",
        "from scipy import stats\n",
        "\n",
        "# Langkah 1: Baca data dari Excel atau dataset\n",
        "file_path = '/content/sample_data/normalisasi.xlsx'  # Ganti dengan path file Excel Anda\n",
        "df = pd.read_excel(file_path)\n",
        "# Langkah 2: Pilih kolom numerik yang ingin diuji outlier-nya\n",
        "numerical_columns = ['Daging Sapi']  # Ganti dengan kolom yang relevan\n",
        "\n",
        "# Langkah 3: Hitung Z-Score untuk setiap fitur numerik\n",
        "z_scores = np.abs(stats.zscore(df[numerical_columns]))\n",
        "\n",
        "# Menentukan threshold, misalnya 3\n",
        "threshold = 3\n",
        "\n",
        "# Identifikasi outlier\n",
        "outliers_zscore = np.where(z_scores > threshold)\n",
        "\n",
        "# Menampilkan indeks dan kolom outlier\n",
        "print(\"Indeks dan kolom yang mengandung outlier (Z-Score):\")\n",
        "print(outliers_zscore)\n",
        "\n",
        "# Menampilkan data outlier\n",
        "print(\"Data outlier berdasarkan Z-Score:\")\n",
        "print(df.iloc[outliers_zscore[0]])\n"
      ],
      "metadata": {
        "colab": {
          "base_uri": "https://localhost:8080/"
        },
        "id": "-9wxGiHvzKOW",
        "outputId": "41f55ba4-c174-481b-a25b-b3f64203819a"
      },
      "execution_count": null,
      "outputs": [
        {
          "output_type": "stream",
          "name": "stdout",
          "text": [
            "Indeks dan kolom yang mengandung outlier (Z-Score):\n",
            "(array([], dtype=int64), array([], dtype=int64))\n",
            "Data outlier berdasarkan Z-Score:\n",
            "Empty DataFrame\n",
            "Columns: [Date, Daging Sapi]\n",
            "Index: []\n"
          ]
        }
      ]
    },
    {
      "cell_type": "markdown",
      "source": [
        "jadi output diatas memberitahukan bahwa data ini tidak memiliki outlier"
      ],
      "metadata": {
        "id": "JdbRwvgPdr7M"
      }
    },
    {
      "cell_type": "markdown",
      "source": [
        "##Sliding window"
      ],
      "metadata": {
        "id": "C5Btk6_Pd567"
      }
    },
    {
      "cell_type": "code",
      "source": [
        "# Creating lag features for multivariate time series data (PM10 and PM2.5)\n",
        "# Adding lag of 1 and lag of 2 for both PM10 and PM2.5\n",
        "file_path = '/content/sample_data/normalisasi.xlsx'  # Ganti dengan path file Excel Anda\n",
        "data = pd.read_excel(file_path)\n",
        "\n",
        "\n",
        "data['Daging Sapi_1'] = data['Daging Sapi'].shift(1)\n",
        "data['Daging Sapi_2'] = data['Daging Sapi'].shift(2)\n",
        "data['Daging Sapi_3'] = data['Daging Sapi'].shift(3)\n",
        "data['Daging Sapi_4'] = data['Daging Sapi'].shift(4)\n",
        "\n",
        "data_with_lag = data.dropna()\n",
        "\n",
        "output_file_path = '/content/sample_data/hasil_sliding_window1.xlsx'  # Ganti dengan path output file Excel\n",
        "data_with_lag.to_excel(output_file_path, index=False)\n"
      ],
      "metadata": {
        "id": "C4_5vZ-QzN14"
      },
      "execution_count": null,
      "outputs": []
    },
    {
      "cell_type": "markdown",
      "source": [
        "karena ini adalah data time series univariate maka kita akan melakukan sliding windows dulu, nah disini kami membagi fiturnya menjadi 4 sehingga data ini memiliki fitur 4 dan targetnya 1"
      ],
      "metadata": {
        "id": "P9131G7Jd-Sd"
      }
    },
    {
      "cell_type": "markdown",
      "source": [
        "##Pembagian Data Test dan Data Train"
      ],
      "metadata": {
        "id": "NWRIgswOFZsn"
      }
    },
    {
      "cell_type": "code",
      "source": [
        "import pandas as pd\n",
        "from sklearn.model_selection import train_test_split\n",
        "\n",
        "# Load the uploaded file\n",
        "file_path = '/content/sample_data/hasil_sliding_window1.xlsx'\n",
        "data = pd.read_excel(file_path)\n",
        "\n",
        "# Menyiapkan data (X, y)\n",
        "X = data.drop(columns=['Daging Sapi', 'Date'])\n",
        "y = data['Daging Sapi']\n",
        "\n",
        "# Menyimpan kolom tanggal untuk perbandingan nanti\n",
        "dates = data['Date']\n",
        "\n",
        "# Split data into training and testing sets\n",
        "X_train, X_test, y_train, y_test, train_dates, test_dates = train_test_split(\n",
        "    X, y, dates, test_size=0.2, random_state=42)\n",
        "\n",
        "print(f\"Training set size: {X_train.shape[0]}\")\n",
        "print(f\"Testing set size: {X_test.shape[0]}\")\n",
        "# Simpan data yang dipisah ke dalam satu file Excel dengan sheet berbeda\n",
        "output_file = '/content/sample_data/bagi.xlsx'\n",
        "with pd.ExcelWriter(output_file) as writer:\n",
        "    train_dates,X_train.to_excel(writer, sheet_name='X_train', index=False)\n",
        "    test_dates,X_test.to_excel(writer, sheet_name='X_test', index=False)\n",
        "    train_dates,y_train.to_excel(writer, sheet_name='y_train', index=False)\n",
        "    test_dates,y_test.to_excel(writer, sheet_name='y_test', index=False)\n",
        "\n",
        "\n",
        "output_file\n"
      ],
      "metadata": {
        "colab": {
          "base_uri": "https://localhost:8080/",
          "height": 72
        },
        "id": "GvINOSqUzTWC",
        "outputId": "3c5b64a0-00d3-4164-c0d5-b8252df8eac3"
      },
      "execution_count": null,
      "outputs": [
        {
          "output_type": "stream",
          "name": "stdout",
          "text": [
            "Training set size: 435\n",
            "Testing set size: 109\n"
          ]
        },
        {
          "output_type": "execute_result",
          "data": {
            "text/plain": [
              "'/content/sample_data/bagi.xlsx'"
            ],
            "application/vnd.google.colaboratory.intrinsic+json": {
              "type": "string"
            }
          },
          "metadata": {},
          "execution_count": 3
        }
      ]
    },
    {
      "cell_type": "markdown",
      "source": [
        "sebelum melakukan modelling disini kami membagi datanya menjadi data train dan data test yaitu X_train X_test dan y_train y_test, pada data train berjumlah 435 dan data test 109"
      ],
      "metadata": {
        "id": "vkDt4VX2eDZH"
      }
    },
    {
      "cell_type": "markdown",
      "source": [
        "#Data Modelling"
      ],
      "metadata": {
        "id": "ybs5rzpCeJvf"
      }
    },
    {
      "cell_type": "markdown",
      "source": [
        "##SVR"
      ],
      "metadata": {
        "id": "ulrrz6EHEwhY"
      }
    },
    {
      "cell_type": "code",
      "source": [
        "import pandas as pd\n",
        "import numpy as np\n",
        "from sklearn.svm import SVR\n",
        "from sklearn.model_selection import train_test_split\n",
        "from sklearn.metrics import mean_absolute_error, mean_squared_error, mean_absolute_percentage_error\n",
        "\n",
        "scaler_file_path = '/content/sample_data/scalerp1.pkl'\n",
        "scaler = joblib.load(scaler_file_path)\n",
        "# Path file (ganti dengan path file Anda sendiri)\n",
        "file_path = '/content/sample_data/bagi.xlsx'\n",
        "\n",
        "# Memuat data\n",
        "data = pd.read_excel(file_path)\n",
        "\n",
        "# Mendefinisikan dan melatih model SVR\n",
        "svr_model = SVR(kernel='rbf', C=1.0, epsilon=0.1)  # Parameter dapat disesuaikan sesuai kebutuhan\n",
        "svr_model.fit(X_train, y_train)\n",
        "\n",
        "# Memprediksi pada set pengujian\n",
        "y_pred = svr_model.predict(X_test)\n",
        "\n",
        "# Menghitung dan mencetak metrik evaluasi\n",
        "mae = mean_absolute_error(y_test, y_pred)\n",
        "rmse = np.sqrt(mean_squared_error(y_test, y_pred))\n",
        "mape = mean_absolute_percentage_error(y_test, y_pred)\n",
        "\n",
        "print(f\"MAE: {mae}, RMSE: {rmse}, MAPE: {mape}\")\n",
        "\n",
        "# --- Prediksi untuk hari berikutnya (11-10-2024) menggunakan 30 data terakhir ---\n",
        "# Mengambil 30 data terakhir untuk prediksi\n",
        "user_input = {\n",
        "    \"Daging Sapi_1\": 18500,  # Ganti dengan nilai aktual fitur Anda\n",
        "    \"Daging Sapi_2\": 27111,\n",
        "    \"Daging Sapi_3\": 34000,\n",
        "    \"Daging Sapi_4\": 23000  # Sesuaikan jumlah fitur dengan dataset Anda\n",
        "}\n",
        "\n",
        "# Konversi input user ke DataFrame\n",
        "user_input_df = pd.DataFrame([user_input])\n",
        "\n",
        "user_input_normalized = pd.DataFrame(\n",
        "    scaler.transform(user_input_df),  # Menggunakan scaler yang dimuat\n",
        "    columns=user_input_df.columns\n",
        ")\n",
        "# Lakukan prediksi\n",
        "predicted_price = svr_model.predict(user_input_normalized)\n",
        "print(f\"\\nPrediksi harga berdasarkan input user: {predicted_price[0]}\")\n",
        "\n",
        "min_harga = 116350 # Nilai minimum harga dalam dataset asli\n",
        "max_harga = 123750  # Nilai maksimum harga dalam dataset asli\n",
        "\n",
        "# Denormalisasi hasil prediksi harga untuk semua data dalam array\n",
        "predicted_next_day_prices_original = predicted_price * (max_harga - min_harga) + min_harga\n",
        "\n",
        "\n",
        "# Menghitung rata-rata harga prediksi (denormalisasi)\n",
        "predicted_next_day_price_average = np.mean(predicted_next_day_prices_original)\n",
        "print(f\"\\nPrediksi rata-rata harga (denormalisasi) untuk 11-10-2024: Rp {predicted_next_day_price_average:,.2f}\")\n",
        "# --- Membandingkan prediksi dengan data aktual ---\n",
        "# Membuat DataFrame untuk nilai aktual vs prediksi\n",
        "comparison_df = pd.DataFrame({\n",
        "    \"tanggal\": X_test.index,\n",
        "    \"Actual\": y_test,\n",
        "    \"Predicted\": y_pred\n",
        "})\n",
        "\n",
        "# Mengurutkan DataFrame berdasarkan tanggal\n",
        "comparison_df = comparison_df.sort_values(by=\"tanggal\").reset_index(drop=True)\n",
        "\n",
        "print(\"\\nHarga Aktual vs Prediksi:\")\n",
        "print(comparison_df)\n"
      ],
      "metadata": {
        "colab": {
          "base_uri": "https://localhost:8080/"
        },
        "id": "P55K9d4CGSxH",
        "outputId": "a13a9c3a-9a07-44d5-e0a0-c6c9e7f5b140"
      },
      "execution_count": null,
      "outputs": [
        {
          "output_type": "stream",
          "name": "stdout",
          "text": [
            "MAE: 0.05824881376062393, RMSE: 0.07642164938499454, MAPE: 0.9032953748793611\n",
            "\n",
            "Prediksi harga berdasarkan input user: 0.5768509324088328\n",
            "\n",
            "Prediksi rata-rata harga (denormalisasi) untuk 11-10-2024: Rp 120,618.70\n",
            "\n",
            "Harga Aktual vs Prediksi:\n",
            "     tanggal    Actual  Predicted\n",
            "0          0  0.074324   0.119287\n",
            "1          2  0.040541   0.103919\n",
            "2          6  0.040541   0.103752\n",
            "3          9  0.040541   0.103752\n",
            "4         10  0.040541   0.103752\n",
            "..       ...       ...        ...\n",
            "104      528  0.743243   0.705076\n",
            "105      530  0.621622   0.752988\n",
            "106      532  0.743243   0.614173\n",
            "107      539  0.743243   0.748763\n",
            "108      542  0.743243   0.731312\n",
            "\n",
            "[109 rows x 3 columns]\n"
          ]
        }
      ]
    },
    {
      "cell_type": "markdown",
      "source": [
        "##Decision Tree Regressor"
      ],
      "metadata": {
        "id": "hNqDKmHKE6fO"
      }
    },
    {
      "cell_type": "code",
      "source": [
        "import pandas as pd\n",
        "import numpy as np\n",
        "from sklearn.tree import DecisionTreeRegressor\n",
        "from sklearn.model_selection import train_test_split\n",
        "from sklearn.metrics import mean_absolute_error, mean_squared_error, mean_absolute_percentage_error\n",
        "\n",
        "# Path file (ganti dengan path file Anda sendiri)\n",
        "file_path = '/content/sample_data/bagi.xlsx'\n",
        "\n",
        "# Memuat data\n",
        "data = pd.read_excel(file_path)\n",
        "\n",
        "# Mendefinisikan dan melatih model Decision Tree\n",
        "dt_model = DecisionTreeRegressor(random_state=42, max_depth=5)  # Parameter dapat disesuaikan\n",
        "dt_model.fit(X_train, y_train)\n",
        "\n",
        "# Memprediksi pada set pengujian\n",
        "y_pred = dt_model.predict(X_test)\n",
        "\n",
        "# Menghitung dan mencetak metrik evaluasi\n",
        "mae = mean_absolute_error(y_test, y_pred)\n",
        "rmse = np.sqrt(mean_squared_error(y_test, y_pred))\n",
        "mape = mean_absolute_percentage_error(y_test, y_pred)\n",
        "\n",
        "print(f\"MAE: {mae}, RMSE: {rmse}, MAPE: {mape}\")\n",
        "\n",
        "# --- Prediksi untuk hari berikutnya (11-10-2024) menggunakan 30 data terakhir ---\n",
        "# Mengambil 30 data terakhir untuk prediksi\n",
        "last_30_data = X.iloc[-30:]\n",
        "\n",
        "# Memprediksi harga hari berikutnya dengan merata-rata prediksi dari 30 data terakhir\n",
        "predicted_next_day_prices = dt_model.predict(last_30_data)\n",
        "predicted_next_day_price = np.mean(predicted_next_day_prices)\n",
        "print(f\"\\nPrediksi harga untuk 11-10-2024: {predicted_next_day_price}\")\n",
        "\n",
        "min_harga = 116350 # Nilai minimum harga dalam dataset asli\n",
        "max_harga = 123750  # Nilai maksimum harga dalam dataset asli\n",
        "\n",
        "# Denormalisasi hasil prediksi harga untuk semua data dalam array\n",
        "predicted_next_day_prices_original = predicted_next_day_prices * (max_harga - min_harga) + min_harga\n",
        "\n",
        "\n",
        "# Menghitung rata-rata harga prediksi (denormalisasi)\n",
        "predicted_next_day_price_average = np.mean(predicted_next_day_prices_original)\n",
        "print(f\"\\nPrediksi rata-rata harga (denormalisasi) untuk 11-10-2024: Rp {predicted_next_day_price_average:,.2f}\")\n",
        "# --- Membandingkan prediksi dengan data aktual ---\n",
        "# Membuat DataFrame untuk nilai aktual vs prediksi\n",
        "comparison_df = pd.DataFrame({\n",
        "    \"tanggal\": X_test.index,\n",
        "    \"Actual\": y_test,\n",
        "    \"Predicted\": y_pred\n",
        "})\n",
        "\n",
        "# Mengurutkan DataFrame berdasarkan tanggal\n",
        "comparison_df = comparison_df.sort_values(by=\"tanggal\").reset_index(drop=True)\n",
        "\n",
        "print(\"\\nHarga Aktual vs Prediksi:\")\n",
        "print(comparison_df)\n"
      ],
      "metadata": {
        "colab": {
          "base_uri": "https://localhost:8080/"
        },
        "id": "wFzgkvNDMKeb",
        "outputId": "1bef737e-7024-4468-bacd-aebae132efca"
      },
      "execution_count": null,
      "outputs": [
        {
          "output_type": "stream",
          "name": "stdout",
          "text": [
            "MAE: 0.0279241223183897, RMSE: 0.06140912530660946, MAPE: 0.16234274377770241\n",
            "\n",
            "Prediksi harga untuk 11-10-2024: 0.7175454866631341\n",
            "\n",
            "Prediksi rata-rata harga (denormalisasi) untuk 11-10-2024: Rp 121,659.84\n",
            "\n",
            "Harga Aktual vs Prediksi:\n",
            "     tanggal    Actual  Predicted\n",
            "0          0  0.074324   0.042885\n",
            "1          2  0.040541   0.042885\n",
            "2          6  0.040541   0.042885\n",
            "3          9  0.040541   0.042885\n",
            "4         10  0.040541   0.042885\n",
            "..       ...       ...        ...\n",
            "104      528  0.743243   0.666534\n",
            "105      530  0.621622   0.738739\n",
            "106      532  0.743243   0.666534\n",
            "107      539  0.743243   0.738739\n",
            "108      542  0.743243   0.738739\n",
            "\n",
            "[109 rows x 3 columns]\n"
          ]
        }
      ]
    },
    {
      "cell_type": "markdown",
      "source": [
        "##Random Forest Regressor"
      ],
      "metadata": {
        "id": "Ja11C_LMFDwn"
      }
    },
    {
      "cell_type": "code",
      "source": [
        "import pandas as pd\n",
        "import numpy as np\n",
        "from sklearn.ensemble import RandomForestRegressor\n",
        "from sklearn.model_selection import train_test_split\n",
        "from sklearn.metrics import mean_absolute_error, mean_squared_error, mean_absolute_percentage_error\n",
        "\n",
        "# Path file (ganti dengan path file Anda sendiri)\n",
        "file_path = '/content/sample_data/bagi.xlsx'\n",
        "\n",
        "# Memuat data\n",
        "data = pd.read_excel(file_path)\n",
        "\n",
        "# Mendefinisikan dan melatih model Decision Tree\n",
        "model = RandomForestRegressor(n_estimators=100, random_state=42)\n",
        "model.fit(X_train, y_train)\n",
        "y_pred = model.predict(X_test)\n",
        "\n",
        "# Menghitung dan mencetak metrik evaluasi\n",
        "mae = mean_absolute_error(y_test, y_pred)\n",
        "rmse = np.sqrt(mean_squared_error(y_test, y_pred))\n",
        "mape = mean_absolute_percentage_error(y_test, y_pred)\n",
        "\n",
        "print(f\"MAE: {mae}, RMSE: {rmse}, MAPE: {mape}\")\n",
        "\n",
        "# --- Prediksi untuk hari berikutnya (11-10-2024) menggunakan 30 data terakhir ---\n",
        "# Mengambil 30 data terakhir untuk prediksi\n",
        "last_30_data = X.iloc[-30:]\n",
        "\n",
        "# Memprediksi harga hari berikutnya dengan merata-rata prediksi dari 30 data terakhir\n",
        "predicted_next_day_prices = dt_model.predict(last_30_data)\n",
        "predicted_next_day_price = np.mean(predicted_next_day_prices)\n",
        "print(f\"\\nPrediksi harga untuk 11-10-2024: {predicted_next_day_price}\")\n",
        "\n",
        "min_harga = 116350 # Nilai minimum harga dalam dataset asli\n",
        "max_harga = 123750  # Nilai maksimum harga dalam dataset asli\n",
        "\n",
        "# Denormalisasi hasil prediksi harga untuk semua data dalam array\n",
        "predicted_next_day_prices_original = predicted_next_day_prices * (max_harga - min_harga) + min_harga\n",
        "\n",
        "\n",
        "# Menghitung rata-rata harga prediksi (denormalisasi)\n",
        "predicted_next_day_price_average = np.mean(predicted_next_day_prices_original)\n",
        "print(f\"\\nPrediksi rata-rata harga (denormalisasi) untuk 11-10-2024: Rp {predicted_next_day_price_average:,.2f}\")\n",
        "# --- Membandingkan prediksi dengan data aktual ---\n",
        "# Membuat DataFrame untuk nilai aktual vs prediksi\n",
        "comparison_df = pd.DataFrame({\n",
        "    \"tanggal\": X_test.index,\n",
        "    \"Actual\": y_test,\n",
        "    \"Predicted\": y_pred\n",
        "})\n",
        "\n",
        "# Mengurutkan DataFrame berdasarkan tanggal\n",
        "comparison_df = comparison_df.sort_values(by=\"tanggal\").reset_index(drop=True)\n",
        "\n",
        "print(\"\\nHarga Aktual vs Prediksi:\")\n",
        "print(comparison_df)\n"
      ],
      "metadata": {
        "colab": {
          "base_uri": "https://localhost:8080/"
        },
        "id": "VS4RcW6rNhZI",
        "outputId": "a48efd41-8473-43a7-dcc1-065125752914"
      },
      "execution_count": null,
      "outputs": [
        {
          "output_type": "stream",
          "name": "stdout",
          "text": [
            "MAE: 0.02601543665074973, RMSE: 0.06192344767713792, MAPE: 0.14423941669821153\n",
            "\n",
            "Prediksi harga untuk 11-10-2024: 0.7175454866631341\n",
            "\n",
            "Prediksi rata-rata harga (denormalisasi) untuk 11-10-2024: Rp 121,659.84\n",
            "\n",
            "Harga Aktual vs Prediksi:\n",
            "     tanggal    Actual  Predicted\n",
            "0          0  0.074324   0.041757\n",
            "1          2  0.040541   0.038851\n",
            "2          6  0.040541   0.040203\n",
            "3          9  0.040541   0.040203\n",
            "4         10  0.040541   0.040203\n",
            "..       ...       ...        ...\n",
            "104      528  0.743243   0.672896\n",
            "105      530  0.621622   0.733216\n",
            "106      532  0.743243   0.651327\n",
            "107      539  0.743243   0.732743\n",
            "108      542  0.743243   0.743243\n",
            "\n",
            "[109 rows x 3 columns]\n"
          ]
        }
      ]
    },
    {
      "cell_type": "markdown",
      "source": [
        "##XGBRegressor"
      ],
      "metadata": {
        "id": "ub7HzF3iFNMV"
      }
    },
    {
      "cell_type": "code",
      "source": [
        "import pandas as pd\n",
        "import numpy as np\n",
        "from xgboost import XGBRegressor\n",
        "from sklearn.model_selection import train_test_split\n",
        "from sklearn.metrics import mean_absolute_error, mean_squared_error, mean_absolute_percentage_error\n",
        "\n",
        "scaler_file_path = '/content/sample_data/scalerp1.pkl'\n",
        "scaler = joblib.load(scaler_file_path)\n",
        "# Path file (ganti dengan path file Anda sendiri)\n",
        "file_path = '/content/sample_data/bagi.xlsx'\n",
        "\n",
        "# Memuat data\n",
        "data = pd.read_excel(file_path)\n",
        "\n",
        "# Mendefinisikan dan melatih model Decision Tree\n",
        "model = XGBRegressor(n_estimators=100, learning_rate=0.1, random_state=42)\n",
        "model.fit(X_train, y_train)\n",
        "y_pred = model.predict(X_test)\n",
        "\n",
        "# Menghitung dan mencetak metrik evaluasi\n",
        "mae = mean_absolute_error(y_test, y_pred)\n",
        "rmse = np.sqrt(mean_squared_error(y_test, y_pred))\n",
        "mape = mean_absolute_percentage_error(y_test, y_pred)\n",
        "\n",
        "print(f\"MAE: {mae}, RMSE: {rmse}, MAPE: {mape}\")\n",
        "\n",
        "user_input = {\n",
        "    \"Daging Sapi_1\": 122200,  # Ganti dengan nilai aktual fitur Anda\n",
        "    \"Daging Sapi_2\": 121111,\n",
        "    \"Daging Sapi_3\": 124000,\n",
        "    \"Daging Sapi_4\": 120000  # Sesuaikan jumlah fitur dengan dataset Anda\n",
        "}\n",
        "\n",
        "# Konversi input user ke DataFrame\n",
        "user_input_df = pd.DataFrame([user_input])\n",
        "\n",
        "user_input_normalized = pd.DataFrame(\n",
        "    scaler.transform(user_input_df),  # Menggunakan scaler yang dimuat\n",
        "    columns=user_input_df.columns\n",
        ")\n",
        "# Lakukan prediksi\n",
        "predicted_price = model.predict(user_input_normalized)\n",
        "print(f\"\\nPrediksi harga berdasarkan input user: {predicted_price[0]}\")\n",
        "\n",
        "# Contoh: Asumsikan normalisasi menggunakan Min-Max Scaling\n",
        "min_harga = 116350 # Nilai minimum harga dalam dataset asli\n",
        "max_harga = 123750  # Nilai maksimum harga dalam dataset asli\n",
        "\n",
        "# Denormalisasi hasil prediksi harga untuk semua data dalam array\n",
        "predicted_next_day_prices_original = predicted_price * (max_harga - min_harga) + min_harga\n",
        "\n",
        "\n",
        "# Menghitung rata-rata harga prediksi (denormalisasi)\n",
        "predicted_next_day_price_average = np.mean(predicted_next_day_prices_original)\n",
        "print(f\"\\nPrediksi rata-rata harga (denormalisasi) untuk 11-10-2024: Rp {predicted_next_day_price_average:,.2f}\")\n",
        "# --- Membandingkan prediksi dengan data aktual ---\n",
        "# Membuat DataFrame untuk nilai aktual vs prediksi\n",
        "comparison_df = pd.DataFrame({\n",
        "    \"tanggal\": X_test.index,\n",
        "    \"Actual\": y_test,\n",
        "    \"Predicted\": y_pred\n",
        "})\n",
        "\n",
        "# Mengurutkan DataFrame berdasarkan tanggal\n",
        "comparison_df = comparison_df.sort_values(by=\"tanggal\").reset_index(drop=True)\n",
        "\n",
        "print(\"\\nHarga Aktual vs Prediksi:\")\n",
        "print(comparison_df)\n"
      ],
      "metadata": {
        "colab": {
          "base_uri": "https://localhost:8080/"
        },
        "id": "k2tCINazNvqm",
        "outputId": "30b67c9a-3951-4db5-ea07-15c4a43216f0"
      },
      "execution_count": null,
      "outputs": [
        {
          "output_type": "stream",
          "name": "stdout",
          "text": [
            "MAE: 0.025995623318262554, RMSE: 0.05880313698421077, MAPE: 0.14195117560899198\n",
            "\n",
            "Prediksi harga berdasarkan input user: 0.6760862469673157\n",
            "\n",
            "Prediksi rata-rata harga (denormalisasi) untuk 11-10-2024: Rp 121,353.04\n",
            "\n",
            "Harga Aktual vs Prediksi:\n",
            "     tanggal    Actual  Predicted\n",
            "0          0  0.074324   0.044226\n",
            "1          2  0.040541   0.039052\n",
            "2          6  0.040541   0.040894\n",
            "3          9  0.040541   0.040894\n",
            "4         10  0.040541   0.040894\n",
            "..       ...       ...        ...\n",
            "104      528  0.743243   0.668162\n",
            "105      530  0.621622   0.740362\n",
            "106      532  0.743243   0.611872\n",
            "107      539  0.743243   0.705294\n",
            "108      542  0.743243   0.741926\n",
            "\n",
            "[109 rows x 3 columns]\n"
          ]
        }
      ]
    },
    {
      "cell_type": "markdown",
      "source": [
        "pada model XGBRegressor ini memperlihatkan bahwa model ini memiliki nilai error yang kecil dibandingkan beberapa model yang kami coba yaitu memiliki MAE:0,0259 RMSE:0,0588 MAPE:0,1419"
      ],
      "metadata": {
        "id": "XKxo6ntkFzGK"
      }
    }
  ]
}