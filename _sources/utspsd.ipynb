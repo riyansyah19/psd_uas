{
  "cells": [
    {
      "cell_type": "markdown",
      "source": [
        "#Prediksi Harga Cabai Merah Keriting Pada Provinsi Jawa Timur"
      ],
      "metadata": {
        "id": "s9SbxTPRTHcj"
      }
    },
    {
      "cell_type": "markdown",
      "source": [
        "# Business Understanding"
      ],
      "metadata": {
        "id": "h5sPCD-5LkvI"
      }
    },
    {
      "cell_type": "markdown",
      "source": [
        "Proyek ini bertujuan untuk menyediakan prediksi harga cabai merah keriting untuk hari berikutnya secara akurat, sehingga memberikan manfaat signifikan bagi konsumen, petani, dan pedagang.\n",
        "\n",
        "Konsumen dapat memanfaatkan prediksi ini untuk merencanakan belanja secara lebih efektif, khususnya dalam mengatur anggaran kebutuhan rumah tangga. Dengan mengetahui potensi kenaikan harga, konsumen dapat membeli cabai lebih awal sehingga menghindari pengeluaran yang lebih tinggi dan mengelola keuangan dengan lebih baik.\n",
        "\n",
        "Petani bisa menggunakan prediksi harga untuk menentukan waktu panen dan distribusi yang optimal agar hasil panen dapat dijual dengan harga terbaik. Informasi ini juga membantu petani meminimalkan kerugian akibat menjual pada saat harga rendah dan meningkatkan efisiensi dalam penyimpanan serta distribusi hasil panen.\n",
        "\n",
        "Pedagang mendapatkan keuntungan dalam pengelolaan stok dan strategi penetapan harga. Dengan prediksi harga, pedagang dapat menyesuaikan jumlah stok untuk menghindari surplus atau kekurangan cabai, menentukan harga jual yang kompetitif, serta merencanakan promosi yang tepat waktu, seperti memberikan diskon sebelum harga diprediksi naik."
      ],
      "metadata": {
        "id": "imyz5UdILo7M"
      }
    },
    {
      "cell_type": "markdown",
      "source": [
        "#Data Understanding"
      ],
      "metadata": {
        "id": "DB8slRXGPRQI"
      }
    },
    {
      "cell_type": "markdown",
      "metadata": {
        "id": "qitU-WDdmlIR"
      },
      "source": [
        "data yang saya ambil merupakan data time series univariates yaitu data hagar cabai merah keriting perhari yang diambil dari tanggal 1 januari 2024 sampai 10 oktober 2024 pada provinsi jawa timur dengan jumlah data 464 dan memiliki 2 fitur:tanggal,harga cabai mk\n",
        "tipe data tanggal adalah time temporal dan harga cabai mk adalah numeric"
      ]
    },
    {
      "cell_type": "markdown",
      "metadata": {
        "id": "1tnArNoXmcHW"
      },
      "source": [
        "##menampilkan data"
      ]
    },
    {
      "cell_type": "code",
      "execution_count": null,
      "metadata": {
        "colab": {
          "base_uri": "https://localhost:8080/",
          "height": 206
        },
        "id": "nvlGTCnYmZtt",
        "outputId": "0cfe64aa-61df-440d-e5b0-f01bce1e844d"
      },
      "outputs": [
        {
          "output_type": "execute_result",
          "data": {
            "text/plain": [
              "        tanggal  Cabai Merah Keriting\n",
              "0  02/ 01/ 2023                 37350\n",
              "1  03/ 01/ 2023                 38850\n",
              "2  04/ 01/ 2023                 37950\n",
              "3  05/ 01/ 2023                 38150\n",
              "4  06/ 01/ 2023                 39250"
            ],
            "text/html": [
              "\n",
              "  <div id=\"df-d4b945e8-df05-4f95-ae7b-82e50c84aa9f\" class=\"colab-df-container\">\n",
              "    <div>\n",
              "<style scoped>\n",
              "    .dataframe tbody tr th:only-of-type {\n",
              "        vertical-align: middle;\n",
              "    }\n",
              "\n",
              "    .dataframe tbody tr th {\n",
              "        vertical-align: top;\n",
              "    }\n",
              "\n",
              "    .dataframe thead th {\n",
              "        text-align: right;\n",
              "    }\n",
              "</style>\n",
              "<table border=\"1\" class=\"dataframe\">\n",
              "  <thead>\n",
              "    <tr style=\"text-align: right;\">\n",
              "      <th></th>\n",
              "      <th>tanggal</th>\n",
              "      <th>Cabai Merah Keriting</th>\n",
              "    </tr>\n",
              "  </thead>\n",
              "  <tbody>\n",
              "    <tr>\n",
              "      <th>0</th>\n",
              "      <td>02/ 01/ 2023</td>\n",
              "      <td>37350</td>\n",
              "    </tr>\n",
              "    <tr>\n",
              "      <th>1</th>\n",
              "      <td>03/ 01/ 2023</td>\n",
              "      <td>38850</td>\n",
              "    </tr>\n",
              "    <tr>\n",
              "      <th>2</th>\n",
              "      <td>04/ 01/ 2023</td>\n",
              "      <td>37950</td>\n",
              "    </tr>\n",
              "    <tr>\n",
              "      <th>3</th>\n",
              "      <td>05/ 01/ 2023</td>\n",
              "      <td>38150</td>\n",
              "    </tr>\n",
              "    <tr>\n",
              "      <th>4</th>\n",
              "      <td>06/ 01/ 2023</td>\n",
              "      <td>39250</td>\n",
              "    </tr>\n",
              "  </tbody>\n",
              "</table>\n",
              "</div>\n",
              "    <div class=\"colab-df-buttons\">\n",
              "\n",
              "  <div class=\"colab-df-container\">\n",
              "    <button class=\"colab-df-convert\" onclick=\"convertToInteractive('df-d4b945e8-df05-4f95-ae7b-82e50c84aa9f')\"\n",
              "            title=\"Convert this dataframe to an interactive table.\"\n",
              "            style=\"display:none;\">\n",
              "\n",
              "  <svg xmlns=\"http://www.w3.org/2000/svg\" height=\"24px\" viewBox=\"0 -960 960 960\">\n",
              "    <path d=\"M120-120v-720h720v720H120Zm60-500h600v-160H180v160Zm220 220h160v-160H400v160Zm0 220h160v-160H400v160ZM180-400h160v-160H180v160Zm440 0h160v-160H620v160ZM180-180h160v-160H180v160Zm440 0h160v-160H620v160Z\"/>\n",
              "  </svg>\n",
              "    </button>\n",
              "\n",
              "  <style>\n",
              "    .colab-df-container {\n",
              "      display:flex;\n",
              "      gap: 12px;\n",
              "    }\n",
              "\n",
              "    .colab-df-convert {\n",
              "      background-color: #E8F0FE;\n",
              "      border: none;\n",
              "      border-radius: 50%;\n",
              "      cursor: pointer;\n",
              "      display: none;\n",
              "      fill: #1967D2;\n",
              "      height: 32px;\n",
              "      padding: 0 0 0 0;\n",
              "      width: 32px;\n",
              "    }\n",
              "\n",
              "    .colab-df-convert:hover {\n",
              "      background-color: #E2EBFA;\n",
              "      box-shadow: 0px 1px 2px rgba(60, 64, 67, 0.3), 0px 1px 3px 1px rgba(60, 64, 67, 0.15);\n",
              "      fill: #174EA6;\n",
              "    }\n",
              "\n",
              "    .colab-df-buttons div {\n",
              "      margin-bottom: 4px;\n",
              "    }\n",
              "\n",
              "    [theme=dark] .colab-df-convert {\n",
              "      background-color: #3B4455;\n",
              "      fill: #D2E3FC;\n",
              "    }\n",
              "\n",
              "    [theme=dark] .colab-df-convert:hover {\n",
              "      background-color: #434B5C;\n",
              "      box-shadow: 0px 1px 3px 1px rgba(0, 0, 0, 0.15);\n",
              "      filter: drop-shadow(0px 1px 2px rgba(0, 0, 0, 0.3));\n",
              "      fill: #FFFFFF;\n",
              "    }\n",
              "  </style>\n",
              "\n",
              "    <script>\n",
              "      const buttonEl =\n",
              "        document.querySelector('#df-d4b945e8-df05-4f95-ae7b-82e50c84aa9f button.colab-df-convert');\n",
              "      buttonEl.style.display =\n",
              "        google.colab.kernel.accessAllowed ? 'block' : 'none';\n",
              "\n",
              "      async function convertToInteractive(key) {\n",
              "        const element = document.querySelector('#df-d4b945e8-df05-4f95-ae7b-82e50c84aa9f');\n",
              "        const dataTable =\n",
              "          await google.colab.kernel.invokeFunction('convertToInteractive',\n",
              "                                                    [key], {});\n",
              "        if (!dataTable) return;\n",
              "\n",
              "        const docLinkHtml = 'Like what you see? Visit the ' +\n",
              "          '<a target=\"_blank\" href=https://colab.research.google.com/notebooks/data_table.ipynb>data table notebook</a>'\n",
              "          + ' to learn more about interactive tables.';\n",
              "        element.innerHTML = '';\n",
              "        dataTable['output_type'] = 'display_data';\n",
              "        await google.colab.output.renderOutput(dataTable, element);\n",
              "        const docLink = document.createElement('div');\n",
              "        docLink.innerHTML = docLinkHtml;\n",
              "        element.appendChild(docLink);\n",
              "      }\n",
              "    </script>\n",
              "  </div>\n",
              "\n",
              "\n",
              "<div id=\"df-3e0b57a0-c351-4f48-8a89-97b021816263\">\n",
              "  <button class=\"colab-df-quickchart\" onclick=\"quickchart('df-3e0b57a0-c351-4f48-8a89-97b021816263')\"\n",
              "            title=\"Suggest charts\"\n",
              "            style=\"display:none;\">\n",
              "\n",
              "<svg xmlns=\"http://www.w3.org/2000/svg\" height=\"24px\"viewBox=\"0 0 24 24\"\n",
              "     width=\"24px\">\n",
              "    <g>\n",
              "        <path d=\"M19 3H5c-1.1 0-2 .9-2 2v14c0 1.1.9 2 2 2h14c1.1 0 2-.9 2-2V5c0-1.1-.9-2-2-2zM9 17H7v-7h2v7zm4 0h-2V7h2v10zm4 0h-2v-4h2v4z\"/>\n",
              "    </g>\n",
              "</svg>\n",
              "  </button>\n",
              "\n",
              "<style>\n",
              "  .colab-df-quickchart {\n",
              "      --bg-color: #E8F0FE;\n",
              "      --fill-color: #1967D2;\n",
              "      --hover-bg-color: #E2EBFA;\n",
              "      --hover-fill-color: #174EA6;\n",
              "      --disabled-fill-color: #AAA;\n",
              "      --disabled-bg-color: #DDD;\n",
              "  }\n",
              "\n",
              "  [theme=dark] .colab-df-quickchart {\n",
              "      --bg-color: #3B4455;\n",
              "      --fill-color: #D2E3FC;\n",
              "      --hover-bg-color: #434B5C;\n",
              "      --hover-fill-color: #FFFFFF;\n",
              "      --disabled-bg-color: #3B4455;\n",
              "      --disabled-fill-color: #666;\n",
              "  }\n",
              "\n",
              "  .colab-df-quickchart {\n",
              "    background-color: var(--bg-color);\n",
              "    border: none;\n",
              "    border-radius: 50%;\n",
              "    cursor: pointer;\n",
              "    display: none;\n",
              "    fill: var(--fill-color);\n",
              "    height: 32px;\n",
              "    padding: 0;\n",
              "    width: 32px;\n",
              "  }\n",
              "\n",
              "  .colab-df-quickchart:hover {\n",
              "    background-color: var(--hover-bg-color);\n",
              "    box-shadow: 0 1px 2px rgba(60, 64, 67, 0.3), 0 1px 3px 1px rgba(60, 64, 67, 0.15);\n",
              "    fill: var(--button-hover-fill-color);\n",
              "  }\n",
              "\n",
              "  .colab-df-quickchart-complete:disabled,\n",
              "  .colab-df-quickchart-complete:disabled:hover {\n",
              "    background-color: var(--disabled-bg-color);\n",
              "    fill: var(--disabled-fill-color);\n",
              "    box-shadow: none;\n",
              "  }\n",
              "\n",
              "  .colab-df-spinner {\n",
              "    border: 2px solid var(--fill-color);\n",
              "    border-color: transparent;\n",
              "    border-bottom-color: var(--fill-color);\n",
              "    animation:\n",
              "      spin 1s steps(1) infinite;\n",
              "  }\n",
              "\n",
              "  @keyframes spin {\n",
              "    0% {\n",
              "      border-color: transparent;\n",
              "      border-bottom-color: var(--fill-color);\n",
              "      border-left-color: var(--fill-color);\n",
              "    }\n",
              "    20% {\n",
              "      border-color: transparent;\n",
              "      border-left-color: var(--fill-color);\n",
              "      border-top-color: var(--fill-color);\n",
              "    }\n",
              "    30% {\n",
              "      border-color: transparent;\n",
              "      border-left-color: var(--fill-color);\n",
              "      border-top-color: var(--fill-color);\n",
              "      border-right-color: var(--fill-color);\n",
              "    }\n",
              "    40% {\n",
              "      border-color: transparent;\n",
              "      border-right-color: var(--fill-color);\n",
              "      border-top-color: var(--fill-color);\n",
              "    }\n",
              "    60% {\n",
              "      border-color: transparent;\n",
              "      border-right-color: var(--fill-color);\n",
              "    }\n",
              "    80% {\n",
              "      border-color: transparent;\n",
              "      border-right-color: var(--fill-color);\n",
              "      border-bottom-color: var(--fill-color);\n",
              "    }\n",
              "    90% {\n",
              "      border-color: transparent;\n",
              "      border-bottom-color: var(--fill-color);\n",
              "    }\n",
              "  }\n",
              "</style>\n",
              "\n",
              "  <script>\n",
              "    async function quickchart(key) {\n",
              "      const quickchartButtonEl =\n",
              "        document.querySelector('#' + key + ' button');\n",
              "      quickchartButtonEl.disabled = true;  // To prevent multiple clicks.\n",
              "      quickchartButtonEl.classList.add('colab-df-spinner');\n",
              "      try {\n",
              "        const charts = await google.colab.kernel.invokeFunction(\n",
              "            'suggestCharts', [key], {});\n",
              "      } catch (error) {\n",
              "        console.error('Error during call to suggestCharts:', error);\n",
              "      }\n",
              "      quickchartButtonEl.classList.remove('colab-df-spinner');\n",
              "      quickchartButtonEl.classList.add('colab-df-quickchart-complete');\n",
              "    }\n",
              "    (() => {\n",
              "      let quickchartButtonEl =\n",
              "        document.querySelector('#df-3e0b57a0-c351-4f48-8a89-97b021816263 button');\n",
              "      quickchartButtonEl.style.display =\n",
              "        google.colab.kernel.accessAllowed ? 'block' : 'none';\n",
              "    })();\n",
              "  </script>\n",
              "</div>\n",
              "\n",
              "    </div>\n",
              "  </div>\n"
            ],
            "application/vnd.google.colaboratory.intrinsic+json": {
              "type": "dataframe",
              "variable_name": "df",
              "summary": "{\n  \"name\": \"df\",\n  \"rows\": 464,\n  \"fields\": [\n    {\n      \"column\": \"tanggal\",\n      \"properties\": {\n        \"dtype\": \"string\",\n        \"num_unique_values\": 464,\n        \"samples\": [\n          \"13/ 01/ 2023\",\n          \"13/ 02/ 2023\",\n          \"24/ 02/ 2023\"\n        ],\n        \"semantic_type\": \"\",\n        \"description\": \"\"\n      }\n    },\n    {\n      \"column\": \"Cabai Merah Keriting\",\n      \"properties\": {\n        \"dtype\": \"number\",\n        \"std\": 13894,\n        \"min\": 18500,\n        \"max\": 81100,\n        \"num_unique_values\": 319,\n        \"samples\": [\n          26900,\n          80250,\n          41700\n        ],\n        \"semantic_type\": \"\",\n        \"description\": \"\"\n      }\n    }\n  ]\n}"
            }
          },
          "metadata": {},
          "execution_count": 1
        }
      ],
      "source": [
        "import pandas as pd\n",
        "\n",
        "# Membaca file Excel\n",
        "file_path = '/content/sample_data/Tabel Harga Berdasarkan Daerah (1).xlsx'  # Ganti dengan path file Excel Anda\n",
        "df = pd.read_excel(file_path)\n",
        "\n",
        "df.head()"
      ]
    },
    {
      "cell_type": "code",
      "source": [
        "df.info()"
      ],
      "metadata": {
        "colab": {
          "base_uri": "https://localhost:8080/"
        },
        "id": "5JVJ-k_OR9kV",
        "outputId": "c685366f-aeb5-41ff-fb62-da86029facf6"
      },
      "execution_count": null,
      "outputs": [
        {
          "output_type": "stream",
          "name": "stdout",
          "text": [
            "<class 'pandas.core.frame.DataFrame'>\n",
            "RangeIndex: 464 entries, 0 to 463\n",
            "Data columns (total 2 columns):\n",
            " #   Column                Non-Null Count  Dtype \n",
            "---  ------                --------------  ----- \n",
            " 0   tanggal               464 non-null    object\n",
            " 1   Cabai Merah Keriting  464 non-null    int64 \n",
            "dtypes: int64(1), object(1)\n",
            "memory usage: 7.4+ KB\n"
          ]
        }
      ]
    },
    {
      "cell_type": "markdown",
      "source": [
        "**Deskripsi Data:**\n",
        "\n",
        "tanggal = merupakan tanggal pada harga cabai merah keriting\n",
        "\n",
        "Cabai Merah Keriting = merupakan nilai harga dari cabai merah keriting"
      ],
      "metadata": {
        "id": "ru5qehKHSBzc"
      }
    },
    {
      "cell_type": "code",
      "source": [
        "df.shape"
      ],
      "metadata": {
        "colab": {
          "base_uri": "https://localhost:8080/"
        },
        "id": "4zOPkjHYSuLY",
        "outputId": "1c746838-14d4-49fb-904c-aca94b47551b"
      },
      "execution_count": null,
      "outputs": [
        {
          "output_type": "execute_result",
          "data": {
            "text/plain": [
              "(464, 2)"
            ]
          },
          "metadata": {},
          "execution_count": 3
        }
      ]
    },
    {
      "cell_type": "markdown",
      "source": [
        "Data terdiri dari 464 baris dan 2 kolom"
      ],
      "metadata": {
        "id": "ChxVPk70S7xW"
      }
    },
    {
      "cell_type": "code",
      "source": [
        "df.describe()"
      ],
      "metadata": {
        "colab": {
          "base_uri": "https://localhost:8080/",
          "height": 300
        },
        "id": "n5ak8btATCXb",
        "outputId": "18276665-63f1-4892-afcd-24d5e2333709"
      },
      "execution_count": null,
      "outputs": [
        {
          "output_type": "execute_result",
          "data": {
            "text/plain": [
              "       Cabai Merah Keriting\n",
              "count            464.000000\n",
              "mean           39811.530172\n",
              "std            13894.865641\n",
              "min            18500.000000\n",
              "25%            30275.000000\n",
              "50%            36350.000000\n",
              "75%            46050.000000\n",
              "max            81100.000000"
            ],
            "text/html": [
              "\n",
              "  <div id=\"df-e070fcbd-83eb-48c8-8301-12935694bd0e\" class=\"colab-df-container\">\n",
              "    <div>\n",
              "<style scoped>\n",
              "    .dataframe tbody tr th:only-of-type {\n",
              "        vertical-align: middle;\n",
              "    }\n",
              "\n",
              "    .dataframe tbody tr th {\n",
              "        vertical-align: top;\n",
              "    }\n",
              "\n",
              "    .dataframe thead th {\n",
              "        text-align: right;\n",
              "    }\n",
              "</style>\n",
              "<table border=\"1\" class=\"dataframe\">\n",
              "  <thead>\n",
              "    <tr style=\"text-align: right;\">\n",
              "      <th></th>\n",
              "      <th>Cabai Merah Keriting</th>\n",
              "    </tr>\n",
              "  </thead>\n",
              "  <tbody>\n",
              "    <tr>\n",
              "      <th>count</th>\n",
              "      <td>464.000000</td>\n",
              "    </tr>\n",
              "    <tr>\n",
              "      <th>mean</th>\n",
              "      <td>39811.530172</td>\n",
              "    </tr>\n",
              "    <tr>\n",
              "      <th>std</th>\n",
              "      <td>13894.865641</td>\n",
              "    </tr>\n",
              "    <tr>\n",
              "      <th>min</th>\n",
              "      <td>18500.000000</td>\n",
              "    </tr>\n",
              "    <tr>\n",
              "      <th>25%</th>\n",
              "      <td>30275.000000</td>\n",
              "    </tr>\n",
              "    <tr>\n",
              "      <th>50%</th>\n",
              "      <td>36350.000000</td>\n",
              "    </tr>\n",
              "    <tr>\n",
              "      <th>75%</th>\n",
              "      <td>46050.000000</td>\n",
              "    </tr>\n",
              "    <tr>\n",
              "      <th>max</th>\n",
              "      <td>81100.000000</td>\n",
              "    </tr>\n",
              "  </tbody>\n",
              "</table>\n",
              "</div>\n",
              "    <div class=\"colab-df-buttons\">\n",
              "\n",
              "  <div class=\"colab-df-container\">\n",
              "    <button class=\"colab-df-convert\" onclick=\"convertToInteractive('df-e070fcbd-83eb-48c8-8301-12935694bd0e')\"\n",
              "            title=\"Convert this dataframe to an interactive table.\"\n",
              "            style=\"display:none;\">\n",
              "\n",
              "  <svg xmlns=\"http://www.w3.org/2000/svg\" height=\"24px\" viewBox=\"0 -960 960 960\">\n",
              "    <path d=\"M120-120v-720h720v720H120Zm60-500h600v-160H180v160Zm220 220h160v-160H400v160Zm0 220h160v-160H400v160ZM180-400h160v-160H180v160Zm440 0h160v-160H620v160ZM180-180h160v-160H180v160Zm440 0h160v-160H620v160Z\"/>\n",
              "  </svg>\n",
              "    </button>\n",
              "\n",
              "  <style>\n",
              "    .colab-df-container {\n",
              "      display:flex;\n",
              "      gap: 12px;\n",
              "    }\n",
              "\n",
              "    .colab-df-convert {\n",
              "      background-color: #E8F0FE;\n",
              "      border: none;\n",
              "      border-radius: 50%;\n",
              "      cursor: pointer;\n",
              "      display: none;\n",
              "      fill: #1967D2;\n",
              "      height: 32px;\n",
              "      padding: 0 0 0 0;\n",
              "      width: 32px;\n",
              "    }\n",
              "\n",
              "    .colab-df-convert:hover {\n",
              "      background-color: #E2EBFA;\n",
              "      box-shadow: 0px 1px 2px rgba(60, 64, 67, 0.3), 0px 1px 3px 1px rgba(60, 64, 67, 0.15);\n",
              "      fill: #174EA6;\n",
              "    }\n",
              "\n",
              "    .colab-df-buttons div {\n",
              "      margin-bottom: 4px;\n",
              "    }\n",
              "\n",
              "    [theme=dark] .colab-df-convert {\n",
              "      background-color: #3B4455;\n",
              "      fill: #D2E3FC;\n",
              "    }\n",
              "\n",
              "    [theme=dark] .colab-df-convert:hover {\n",
              "      background-color: #434B5C;\n",
              "      box-shadow: 0px 1px 3px 1px rgba(0, 0, 0, 0.15);\n",
              "      filter: drop-shadow(0px 1px 2px rgba(0, 0, 0, 0.3));\n",
              "      fill: #FFFFFF;\n",
              "    }\n",
              "  </style>\n",
              "\n",
              "    <script>\n",
              "      const buttonEl =\n",
              "        document.querySelector('#df-e070fcbd-83eb-48c8-8301-12935694bd0e button.colab-df-convert');\n",
              "      buttonEl.style.display =\n",
              "        google.colab.kernel.accessAllowed ? 'block' : 'none';\n",
              "\n",
              "      async function convertToInteractive(key) {\n",
              "        const element = document.querySelector('#df-e070fcbd-83eb-48c8-8301-12935694bd0e');\n",
              "        const dataTable =\n",
              "          await google.colab.kernel.invokeFunction('convertToInteractive',\n",
              "                                                    [key], {});\n",
              "        if (!dataTable) return;\n",
              "\n",
              "        const docLinkHtml = 'Like what you see? Visit the ' +\n",
              "          '<a target=\"_blank\" href=https://colab.research.google.com/notebooks/data_table.ipynb>data table notebook</a>'\n",
              "          + ' to learn more about interactive tables.';\n",
              "        element.innerHTML = '';\n",
              "        dataTable['output_type'] = 'display_data';\n",
              "        await google.colab.output.renderOutput(dataTable, element);\n",
              "        const docLink = document.createElement('div');\n",
              "        docLink.innerHTML = docLinkHtml;\n",
              "        element.appendChild(docLink);\n",
              "      }\n",
              "    </script>\n",
              "  </div>\n",
              "\n",
              "\n",
              "<div id=\"df-7fb73f18-e62f-4ed5-8c39-73a5c25889eb\">\n",
              "  <button class=\"colab-df-quickchart\" onclick=\"quickchart('df-7fb73f18-e62f-4ed5-8c39-73a5c25889eb')\"\n",
              "            title=\"Suggest charts\"\n",
              "            style=\"display:none;\">\n",
              "\n",
              "<svg xmlns=\"http://www.w3.org/2000/svg\" height=\"24px\"viewBox=\"0 0 24 24\"\n",
              "     width=\"24px\">\n",
              "    <g>\n",
              "        <path d=\"M19 3H5c-1.1 0-2 .9-2 2v14c0 1.1.9 2 2 2h14c1.1 0 2-.9 2-2V5c0-1.1-.9-2-2-2zM9 17H7v-7h2v7zm4 0h-2V7h2v10zm4 0h-2v-4h2v4z\"/>\n",
              "    </g>\n",
              "</svg>\n",
              "  </button>\n",
              "\n",
              "<style>\n",
              "  .colab-df-quickchart {\n",
              "      --bg-color: #E8F0FE;\n",
              "      --fill-color: #1967D2;\n",
              "      --hover-bg-color: #E2EBFA;\n",
              "      --hover-fill-color: #174EA6;\n",
              "      --disabled-fill-color: #AAA;\n",
              "      --disabled-bg-color: #DDD;\n",
              "  }\n",
              "\n",
              "  [theme=dark] .colab-df-quickchart {\n",
              "      --bg-color: #3B4455;\n",
              "      --fill-color: #D2E3FC;\n",
              "      --hover-bg-color: #434B5C;\n",
              "      --hover-fill-color: #FFFFFF;\n",
              "      --disabled-bg-color: #3B4455;\n",
              "      --disabled-fill-color: #666;\n",
              "  }\n",
              "\n",
              "  .colab-df-quickchart {\n",
              "    background-color: var(--bg-color);\n",
              "    border: none;\n",
              "    border-radius: 50%;\n",
              "    cursor: pointer;\n",
              "    display: none;\n",
              "    fill: var(--fill-color);\n",
              "    height: 32px;\n",
              "    padding: 0;\n",
              "    width: 32px;\n",
              "  }\n",
              "\n",
              "  .colab-df-quickchart:hover {\n",
              "    background-color: var(--hover-bg-color);\n",
              "    box-shadow: 0 1px 2px rgba(60, 64, 67, 0.3), 0 1px 3px 1px rgba(60, 64, 67, 0.15);\n",
              "    fill: var(--button-hover-fill-color);\n",
              "  }\n",
              "\n",
              "  .colab-df-quickchart-complete:disabled,\n",
              "  .colab-df-quickchart-complete:disabled:hover {\n",
              "    background-color: var(--disabled-bg-color);\n",
              "    fill: var(--disabled-fill-color);\n",
              "    box-shadow: none;\n",
              "  }\n",
              "\n",
              "  .colab-df-spinner {\n",
              "    border: 2px solid var(--fill-color);\n",
              "    border-color: transparent;\n",
              "    border-bottom-color: var(--fill-color);\n",
              "    animation:\n",
              "      spin 1s steps(1) infinite;\n",
              "  }\n",
              "\n",
              "  @keyframes spin {\n",
              "    0% {\n",
              "      border-color: transparent;\n",
              "      border-bottom-color: var(--fill-color);\n",
              "      border-left-color: var(--fill-color);\n",
              "    }\n",
              "    20% {\n",
              "      border-color: transparent;\n",
              "      border-left-color: var(--fill-color);\n",
              "      border-top-color: var(--fill-color);\n",
              "    }\n",
              "    30% {\n",
              "      border-color: transparent;\n",
              "      border-left-color: var(--fill-color);\n",
              "      border-top-color: var(--fill-color);\n",
              "      border-right-color: var(--fill-color);\n",
              "    }\n",
              "    40% {\n",
              "      border-color: transparent;\n",
              "      border-right-color: var(--fill-color);\n",
              "      border-top-color: var(--fill-color);\n",
              "    }\n",
              "    60% {\n",
              "      border-color: transparent;\n",
              "      border-right-color: var(--fill-color);\n",
              "    }\n",
              "    80% {\n",
              "      border-color: transparent;\n",
              "      border-right-color: var(--fill-color);\n",
              "      border-bottom-color: var(--fill-color);\n",
              "    }\n",
              "    90% {\n",
              "      border-color: transparent;\n",
              "      border-bottom-color: var(--fill-color);\n",
              "    }\n",
              "  }\n",
              "</style>\n",
              "\n",
              "  <script>\n",
              "    async function quickchart(key) {\n",
              "      const quickchartButtonEl =\n",
              "        document.querySelector('#' + key + ' button');\n",
              "      quickchartButtonEl.disabled = true;  // To prevent multiple clicks.\n",
              "      quickchartButtonEl.classList.add('colab-df-spinner');\n",
              "      try {\n",
              "        const charts = await google.colab.kernel.invokeFunction(\n",
              "            'suggestCharts', [key], {});\n",
              "      } catch (error) {\n",
              "        console.error('Error during call to suggestCharts:', error);\n",
              "      }\n",
              "      quickchartButtonEl.classList.remove('colab-df-spinner');\n",
              "      quickchartButtonEl.classList.add('colab-df-quickchart-complete');\n",
              "    }\n",
              "    (() => {\n",
              "      let quickchartButtonEl =\n",
              "        document.querySelector('#df-7fb73f18-e62f-4ed5-8c39-73a5c25889eb button');\n",
              "      quickchartButtonEl.style.display =\n",
              "        google.colab.kernel.accessAllowed ? 'block' : 'none';\n",
              "    })();\n",
              "  </script>\n",
              "</div>\n",
              "\n",
              "    </div>\n",
              "  </div>\n"
            ],
            "application/vnd.google.colaboratory.intrinsic+json": {
              "type": "dataframe",
              "summary": "{\n  \"name\": \"df\",\n  \"rows\": 8,\n  \"fields\": [\n    {\n      \"column\": \"Cabai Merah Keriting\",\n      \"properties\": {\n        \"dtype\": \"number\",\n        \"std\": 24442.520118169843,\n        \"min\": 464.0,\n        \"max\": 81100.0,\n        \"num_unique_values\": 8,\n        \"samples\": [\n          39811.53017241379,\n          36350.0,\n          464.0\n        ],\n        \"semantic_type\": \"\",\n        \"description\": \"\"\n      }\n    }\n  ]\n}"
            }
          },
          "metadata": {},
          "execution_count": 4
        }
      ]
    },
    {
      "cell_type": "markdown",
      "source": [
        "#Data Preprocessing"
      ],
      "metadata": {
        "id": "r9sxWDFvPLby"
      }
    },
    {
      "cell_type": "markdown",
      "metadata": {
        "id": "7a7eg7NylXRx"
      },
      "source": [
        "##Normalisasi Data"
      ]
    },
    {
      "cell_type": "code",
      "execution_count": null,
      "metadata": {
        "id": "rlFJRl47hkvm",
        "colab": {
          "base_uri": "https://localhost:8080/"
        },
        "outputId": "9cea3c58-0503-47a7-ab3b-b694640c332f"
      },
      "outputs": [
        {
          "output_type": "stream",
          "name": "stdout",
          "text": [
            "Nilai minimum sebelum normalisasi:\n",
            "tanggal                 01/ 01/ 2024\n",
            "Cabai Merah Keriting           18500\n",
            "dtype: object\n",
            "\n",
            "Nilai maksimum sebelum normalisasi:\n",
            "tanggal                 31/ 10/ 2023\n",
            "Cabai Merah Keriting           81100\n",
            "dtype: object\n"
          ]
        }
      ],
      "source": [
        "import pandas as pd\n",
        "from sklearn.preprocessing import MinMaxScaler\n",
        "import joblib\n",
        "\n",
        "# Membaca file Excel\n",
        "file_path = '/content/sample_data/Tabel Harga Berdasarkan Daerah (1).xlsx'  # Ganti dengan path file Excel Anda\n",
        "df = pd.read_excel(file_path)\n",
        "\n",
        "# Inisialisasi MinMaxScaler\n",
        "scaler = MinMaxScaler()\n",
        "\n",
        "# Menampilkan nilai minimum dan maksimum sebelum normalisasi\n",
        "min_values_before = df.min()\n",
        "max_values_before = df.max()\n",
        "\n",
        "print(\"Nilai minimum sebelum normalisasi:\")\n",
        "print(min_values_before)\n",
        "\n",
        "print(\"\\nNilai maksimum sebelum normalisasi:\")\n",
        "print(max_values_before)\n",
        "# Melakukan normalisasi pada kolom numerik\n",
        "kolom_numerik = df.select_dtypes(include=['float64', 'int64']).columns\n",
        "df[kolom_numerik] = scaler.fit_transform(df[kolom_numerik])\n",
        "\n",
        "scaler_file_path = '/content/sample_data/scaler.pkl'\n",
        "joblib.dump(scaler, scaler_file_path)\n",
        "# Menyimpan data yang sudah dinormalisasi ke file Excel baru\n",
        "combined_file_path = '/content/sample_data/normalisasi.xlsx'\n",
        "df.to_excel(combined_file_path, index=False)"
      ]
    },
    {
      "cell_type": "markdown",
      "source": [
        "Disini kami menormalisasi data dulu agar nanti presentase errornya kecil dan kami menggunakan metode minmaxscaler untuk normalisasinya dimana data ini memiliki nilai minimum adalah 18500 dan nilai maksimumnya adalah 81100"
      ],
      "metadata": {
        "id": "YM6Tvqx5Pi08"
      }
    },
    {
      "cell_type": "markdown",
      "source": [
        "##Mencari Outlier"
      ],
      "metadata": {
        "id": "Grni0Kci1ft3"
      }
    },
    {
      "cell_type": "code",
      "source": [
        "import pandas as pd\n",
        "import numpy as np\n",
        "from scipy import stats\n",
        "\n",
        "# Langkah 1: Baca data dari Excel atau dataset\n",
        "file_path = '/content/sample_data/normalisasi.xlsx'  # Ganti dengan path file Excel Anda\n",
        "df = pd.read_excel(file_path)\n",
        "# Langkah 2: Pilih kolom numerik yang ingin diuji outlier-nya\n",
        "numerical_columns = ['Cabai Merah Keriting']  # Ganti dengan kolom yang relevan\n",
        "\n",
        "# Langkah 3: Hitung Z-Score untuk setiap fitur numerik\n",
        "z_scores = np.abs(stats.zscore(df[numerical_columns]))\n",
        "\n",
        "# Menentukan threshold, misalnya 3\n",
        "threshold = 3\n",
        "\n",
        "# Identifikasi outlier\n",
        "outliers_zscore = np.where(z_scores > threshold)\n",
        "\n",
        "# Menampilkan indeks dan kolom outlier\n",
        "print(\"Indeks dan kolom yang mengandung outlier (Z-Score):\")\n",
        "print(outliers_zscore)\n",
        "\n",
        "# Menampilkan data outlier\n",
        "print(\"Data outlier berdasarkan Z-Score:\")\n",
        "print(df.iloc[outliers_zscore[0]])\n"
      ],
      "metadata": {
        "colab": {
          "base_uri": "https://localhost:8080/"
        },
        "id": "PUImrPK3TLu8",
        "outputId": "c9cb8bd5-490d-46a8-a3d0-10cc65fabe89"
      },
      "execution_count": null,
      "outputs": [
        {
          "output_type": "stream",
          "name": "stdout",
          "text": [
            "Indeks dan kolom yang mengandung outlier (Z-Score):\n",
            "(array([], dtype=int64), array([], dtype=int64))\n",
            "Data outlier berdasarkan Z-Score:\n",
            "Empty DataFrame\n",
            "Columns: [tanggal, Cabai Merah Keriting]\n",
            "Index: []\n"
          ]
        }
      ]
    },
    {
      "cell_type": "markdown",
      "source": [
        "jadi output diatas memberitahukan bahwa data ini tidak memiliki outlier"
      ],
      "metadata": {
        "id": "gSP0dxbe1l7B"
      }
    },
    {
      "cell_type": "markdown",
      "metadata": {
        "id": "nxRG4iUFlaqr"
      },
      "source": [
        "##Sliding window"
      ]
    },
    {
      "cell_type": "code",
      "source": [
        "# Creating lag features for multivariate time series data (PM10 and PM2.5)\n",
        "# Adding lag of 1 and lag of 2 for both PM10 and PM2.5\n",
        "file_path = '/content/sample_data/normalisasi.xlsx'  # Ganti dengan path file Excel Anda\n",
        "data = pd.read_excel(file_path)\n",
        "\n",
        "\n",
        "data['Cabai Merah Keriting_1'] = data['Cabai Merah Keriting'].shift(1)\n",
        "data['Cabai Merah Keriting_2'] = data['Cabai Merah Keriting'].shift(2)\n",
        "data['Cabai Merah Keriting_3'] = data['Cabai Merah Keriting'].shift(3)\n",
        "data['Cabai Merah Keriting_4'] = data['Cabai Merah Keriting'].shift(4)\n",
        "\n",
        "data_with_lag = data.dropna()\n",
        "\n",
        "output_file_path = '/content/sample_data/hasil_sliding_window1.xlsx'  # Ganti dengan path output file Excel\n",
        "data_with_lag.to_excel(output_file_path, index=False)\n"
      ],
      "metadata": {
        "id": "M3pOPGpq2xZr"
      },
      "execution_count": null,
      "outputs": []
    },
    {
      "cell_type": "markdown",
      "source": [
        "karena ini adalah data time series univariate maka kita akan melakukan sliding windows dulu, nah disini kami membagi fiturnya menjadi 4 sehingga data ini memiliki fitur 4 dan targetnya 1"
      ],
      "metadata": {
        "id": "h_GRquT7QGoQ"
      }
    },
    {
      "cell_type": "markdown",
      "source": [
        "##Pembagian Data Test dan Data Train"
      ],
      "metadata": {
        "id": "391KxRVG1vLd"
      }
    },
    {
      "cell_type": "code",
      "source": [
        "import pandas as pd\n",
        "from sklearn.model_selection import train_test_split\n",
        "\n",
        "# Load the uploaded file\n",
        "file_path = '/content/sample_data/hasil_sliding_window1.xlsx'\n",
        "data = pd.read_excel(file_path)\n",
        "\n",
        "# Menyiapkan data (X, y)\n",
        "X = data.drop(columns=['Cabai Merah Keriting', 'tanggal'])\n",
        "y = data['Cabai Merah Keriting']\n",
        "\n",
        "# Menyimpan kolom tanggal untuk perbandingan nanti\n",
        "dates = data['tanggal']\n",
        "\n",
        "# Split data into training and testing sets\n",
        "X_train, X_test, y_train, y_test, train_dates, test_dates = train_test_split(\n",
        "    X, y, dates, test_size=0.2, random_state=42)\n",
        "\n",
        "print(f\"Training set size: {X_train.shape[0]}\")\n",
        "print(f\"Testing set size: {X_test.shape[0]}\")\n",
        "# Simpan data yang dipisah ke dalam satu file Excel dengan sheet berbeda\n",
        "output_file = '/content/sample_data/bagi.xlsx'\n",
        "with pd.ExcelWriter(output_file) as writer:\n",
        "    train_dates,X_train.to_excel(writer, sheet_name='X_train', index=False)\n",
        "    test_dates,X_test.to_excel(writer, sheet_name='X_test', index=False)\n",
        "    train_dates,y_train.to_excel(writer, sheet_name='y_train', index=False)\n",
        "    test_dates,y_test.to_excel(writer, sheet_name='y_test', index=False)\n",
        "\n",
        "\n",
        "output_file\n"
      ],
      "metadata": {
        "colab": {
          "base_uri": "https://localhost:8080/",
          "height": 72
        },
        "id": "yskLqoJKz3Hu",
        "outputId": "928ba7ef-2565-4739-ecb8-024aa80bb822"
      },
      "execution_count": null,
      "outputs": [
        {
          "output_type": "stream",
          "name": "stdout",
          "text": [
            "Training set size: 368\n",
            "Testing set size: 92\n"
          ]
        },
        {
          "output_type": "execute_result",
          "data": {
            "text/plain": [
              "'/content/sample_data/bagi.xlsx'"
            ],
            "application/vnd.google.colaboratory.intrinsic+json": {
              "type": "string"
            }
          },
          "metadata": {},
          "execution_count": 7
        }
      ]
    },
    {
      "cell_type": "markdown",
      "source": [
        "sebelum melakukan modelling disini kami membagi datanya menjadi data train dan data test yaitu X_train X_test dan y_train y_test, pada data train berjumlah 368 dan data test 92"
      ],
      "metadata": {
        "id": "Aj93ESXQQZ6W"
      }
    },
    {
      "cell_type": "markdown",
      "source": [
        "# Data Modelling"
      ],
      "metadata": {
        "id": "zSg6bW1GO11O"
      }
    },
    {
      "cell_type": "markdown",
      "metadata": {
        "id": "KkwHsaqyld4l"
      },
      "source": [
        "##ensamble bagging"
      ]
    },
    {
      "cell_type": "markdown",
      "metadata": {
        "id": "9GnjPHhAnrSm"
      },
      "source": [
        "Ensemble Bagging adalah teknik pembelajaran mesin yang digunakan untuk meningkatkan kinerja model dengan menggabungkan prediksi dari beberapa model dasar (base estimators). Istilah \"bagging\" berasal dari \"Bootstrap Aggregating\", yang merupakan metode pengambilan sampel untuk menghasilkan variasi dalam model.\n",
        "\n",
        "Pengertian Bagging\n",
        "Bootstrap Sampling: Dalam teknik ini, sejumlah subset acak dari data pelatihan diambil dengan pengembalian (replacement). Ini berarti beberapa contoh dalam data pelatihan dapat muncul lebih dari sekali dalam subset, sementara beberapa contoh lainnya mungkin tidak muncul sama sekali.\n",
        "\n",
        "Model Training: Setiap subset data pelatihan digunakan untuk melatih model dasar yang terpisah. Dalam konteks ini, setiap model dapat berupa algoritma pembelajaran yang berbeda, tetapi sering kali model yang sama digunakan untuk meningkatkan stabilitas.\n",
        "\n",
        "Prediksi: Setelah semua model dilatih, prediksi dari setiap model dikombinasikan untuk menghasilkan prediksi akhir. Untuk regresi, ini biasanya dilakukan dengan menghitung rata-rata dari semua prediksi, sedangkan untuk klasifikasi, sering kali dilakukan dengan cara pemungutan suara (voting).\n",
        "\n",
        "Base Estimator: Random Forest Regressor\n",
        "Random Forest Regressor adalah salah satu jenis model pembelajaran ensemble yang sering digunakan sebagai base estimator dalam teknik bagging. Berikut adalah beberapa fitur utama dari Random Forest Regressor:\n",
        "\n",
        "Kumpulan Pohon Keputusan: Random Forest terdiri dari banyak pohon keputusan. Setiap pohon dibuat dengan menggunakan subset acak dari data pelatihan dan fitur. Hal ini membuat setiap pohon memiliki ketidakpastian yang berbeda, sehingga dapat menangkap berbagai pola dalam data.\n",
        "\n",
        "Mengurangi Overfitting: Dengan menggabungkan banyak pohon keputusan, Random Forest cenderung lebih tahan terhadap overfitting dibandingkan dengan satu pohon keputusan. Ini karena kesalahan individual dari pohon-pohon dapat saling menetralkan satu sama lain.\n",
        "\n",
        "Kekuatan Prediksi: Random Forest Regresor seringkali memberikan hasil yang lebih baik dibandingkan dengan model regresi sederhana karena ia dapat menangkap hubungan yang lebih kompleks dalam data."
      ]
    },
    {
      "cell_type": "code",
      "execution_count": null,
      "metadata": {
        "colab": {
          "base_uri": "https://localhost:8080/"
        },
        "id": "sCUQmxMHkojx",
        "outputId": "39ccf7a9-c952-4aa2-d517-d451a7ddc836"
      },
      "outputs": [
        {
          "output_type": "stream",
          "name": "stdout",
          "text": [
            "MAE: 0.01605198174596433, RMSE: 0.023389096746709224, MAPE: 0.1263255862030535\n",
            "\n",
            "Prediksi harga berdasarkan input user: -0.02648430610425001\n",
            "\n",
            "Prediksi rata-rata harga (denormalisasi) untuk 11-10-2024: Rp 16,842.08\n",
            "\n",
            "Harga Aktual vs Prediksi pada Data Uji:\n",
            "    tanggal    Actual  Predicted\n",
            "0         0  0.331470   0.319589\n",
            "1         9  0.300319   0.304430\n",
            "2        11  0.304313   0.305674\n",
            "3        15  0.257188   0.259205\n",
            "4        19  0.265974   0.270224\n",
            "..      ...       ...        ...\n",
            "87      445  0.042332   0.044246\n",
            "88      447  0.022364   0.025929\n",
            "89      450  0.027955   0.033692\n",
            "90      451  0.013578   0.037051\n",
            "91      454  0.003195   0.014687\n",
            "\n",
            "[92 rows x 3 columns]\n"
          ]
        }
      ],
      "source": [
        "# Mengimpor pustaka yang diperlukan\n",
        "import pandas as pd\n",
        "import numpy as np\n",
        "from sklearn.linear_model import LinearRegression\n",
        "from sklearn.ensemble import BaggingRegressor\n",
        "from sklearn.model_selection import train_test_split\n",
        "from sklearn.metrics import mean_squared_error, mean_absolute_error, mean_absolute_percentage_error\n",
        "from sklearn.preprocessing import MinMaxScaler\n",
        "import joblib\n",
        "\n",
        "scaler_file_path = '/content/sample_data/scaler.pkl'\n",
        "scaler = joblib.load(scaler_file_path)\n",
        "# Path file (ganti dengan path file Anda)\n",
        "file_path = '/content/sample_data/bagi.xlsx'\n",
        "\n",
        "# Memuat data\n",
        "data = pd.read_excel(file_path)\n",
        "\n",
        "\n",
        "# Menginisialisasi model dasar (Regresi Vektor Dukungan)\n",
        "base_model = LinearRegression()\n",
        "\n",
        "# Model ensemble Bagging dengan SVR sebagai estimator dasar\n",
        "bagging_model = BaggingRegressor(estimator=base_model, n_estimators=3, random_state=42)\n",
        "bagging_model.fit(X_train, y_train)\n",
        "# Memprediksi pada set pengujian menggunakan ensemble\n",
        "\n",
        "with pd.ExcelWriter(\"bagging_samples.xlsx\") as writer:\n",
        "    for i, sample_indices in enumerate(bagging_model.estimators_samples_):\n",
        "        # Mendapatkan data yang diambil untuk model ke-i berdasarkan indeks\n",
        "        sampled_data = X_train.iloc[sample_indices].copy()\n",
        "        sampled_data[\"Cabai Merah Keriting\"] = y_train.iloc[sample_indices].values  # Menambahkan kolom target untuk referensi\n",
        "\n",
        "        # Menyimpan data ke sheet di file Excel\n",
        "        sampled_data.to_excel(writer, sheet_name=f\"Sample_Model_{i+1}\", index=False)\n",
        "\n",
        "y_pred = bagging_model.predict(X_test)\n",
        "\n",
        "# Menghitung dan mencetak metrik evaluasi\n",
        "mae = mean_absolute_error(y_test, y_pred)\n",
        "rmse = np.sqrt(mean_squared_error(y_test, y_pred))\n",
        "mape = mean_absolute_percentage_error(y_test, y_pred)\n",
        "\n",
        "print(f\"MAE: {mae}, RMSE: {rmse}, MAPE: {mape}\")\n",
        "\n",
        "# --- Memprediksi harga hari berikutnya (11-10-2024) menggunakan 30 data terakhir ---\n",
        "# Memilih 30 data terakhir untuk prediksi\n",
        "user_input = {\n",
        "    \"Cabai Merah Keriting_1\": 18500,  # Ganti dengan nilai aktual fitur Anda\n",
        "    \"Cabai Merah Keriting_2\": 27111,\n",
        "    \"Cabai Merah Keriting_3\": 34000,\n",
        "    \"Cabai Merah Keriting_4\": 23000  # Sesuaikan jumlah fitur dengan dataset Anda\n",
        "}\n",
        "\n",
        "# Konversi input user ke DataFrame\n",
        "user_input_df = pd.DataFrame([user_input])\n",
        "\n",
        "user_input_normalized = pd.DataFrame(\n",
        "    scaler.transform(user_input_df),  # Menggunakan scaler yang dimuat\n",
        "    columns=user_input_df.columns\n",
        ")\n",
        "# Lakukan prediksi\n",
        "predicted_price = bagging_model.predict(user_input_normalized)\n",
        "print(f\"\\nPrediksi harga berdasarkan input user: {predicted_price[0]}\")\n",
        "\n",
        "\n",
        "\n",
        "# Contoh: Asumsikan normalisasi menggunakan Min-Max Scaling\n",
        "min_harga = 18500  # Nilai minimum harga dalam dataset asli\n",
        "max_harga = 81100  # Nilai maksimum harga dalam dataset asli\n",
        "\n",
        "# Denormalisasi hasil prediksi harga untuk semua data dalam array\n",
        "predicted_next_day_prices_original = predicted_price * (max_harga - min_harga) + min_harga\n",
        "\n",
        "\n",
        "# Menghitung rata-rata harga prediksi (denormalisasi)\n",
        "predicted_next_day_price_average = np.mean(predicted_next_day_prices_original)\n",
        "print(f\"\\nPrediksi rata-rata harga (denormalisasi) untuk 11-10-2024: Rp {predicted_next_day_price_average:,.2f}\")\n",
        "\n",
        "\n",
        "# --- DataFrame Perbandingan untuk nilai Aktual vs. Prediksi ---\n",
        "# Membuat DataFrame untuk nilai aktual vs prediksi pada data uji\n",
        "comparison_df = pd.DataFrame({\n",
        "    \"tanggal\": X_test.index,\n",
        "    \"Actual\": y_test,\n",
        "    \"Predicted\": y_pred\n",
        "}).sort_values(by=\"tanggal\").reset_index(drop=True)\n",
        "\n",
        "print(\"\\nHarga Aktual vs Prediksi pada Data Uji:\")\n",
        "print(comparison_df)\n",
        "\n"
      ]
    },
    {
      "cell_type": "markdown",
      "source": [
        "pada model ensamble bagging dengan menggunakan estimator linier regression ini memperlihatkan bahwa model ini memiliki nilai error yang kecil dibandingkan beberapa model yang kami coba yaitu memiliki MAE:0,016 RMSE:0,0233 MAPE:0,126"
      ],
      "metadata": {
        "id": "34gph0hERE9m"
      }
    },
    {
      "cell_type": "code",
      "source": [
        "# Menyimpan y_pred ke dalam file Excel\n",
        "output_df = pd.DataFrame({\n",
        "    \"tanggal\": X_test.index,\n",
        "    \"Predicted\": y_pred\n",
        "})\n",
        "\n",
        "# Menyimpan DataFrame ke file Excel\n",
        "output_path = '/content/sample_data/y_predicted.xlsx'  # Ganti dengan path yang diinginkan\n",
        "output_df.to_excel(output_path, index=False)\n",
        "\n",
        "print(f\"Hasil prediksi telah disimpan di: {output_path}\")\n"
      ],
      "metadata": {
        "id": "1FRb926cleGm",
        "outputId": "402fae8b-5663-4e41-8c9f-5b80e46f8b7c",
        "colab": {
          "base_uri": "https://localhost:8080/"
        }
      },
      "execution_count": null,
      "outputs": [
        {
          "output_type": "stream",
          "name": "stdout",
          "text": [
            "Hasil prediksi telah disimpan di: /content/sample_data/y_predicted.xlsx\n"
          ]
        }
      ]
    },
    {
      "cell_type": "markdown",
      "metadata": {
        "id": "dniZsRYnljJq"
      },
      "source": [
        "##model LTSM"
      ]
    },
    {
      "cell_type": "code",
      "source": [
        "import pandas as pd\n",
        "import numpy as np\n",
        "from sklearn.model_selection import train_test_split\n",
        "from sklearn.metrics import mean_absolute_error, mean_squared_error, mean_absolute_percentage_error\n",
        "from tensorflow.keras.models import Sequential\n",
        "from tensorflow.keras.layers import LSTM, Dense\n",
        "\n",
        "# Path file (ganti dengan path file Anda sendiri)\n",
        "file_path = '/content/sample_data/pembagian.xlsx'\n",
        "\n",
        "# Memuat data\n",
        "data = pd.read_excel(file_path)\n",
        "\n",
        "# Mengubah bentuk X menjadi 3D untuk LSTM [sampel, langkah waktu, fitur]\n",
        "X_train_reshaped = X_train.values.reshape(X_train.shape[0], 1, X_train.shape[1])\n",
        "X_test_reshaped = X_test.values.reshape(X_test.shape[0], 1, X_test.shape[1])\n",
        "\n",
        "# Mendefinisikan model LSTM\n",
        "model = Sequential()\n",
        "model.add(LSTM(100, activation='relu', input_shape=(X_train_reshaped.shape[1], X_train_reshaped.shape[2])))\n",
        "model.add(Dense(1))\n",
        "model.compile(optimizer='adam', loss='mean_squared_error')\n",
        "\n",
        "# Melatih model\n",
        "model.fit(X_train_reshaped, y_train, epochs=100, batch_size=16, validation_split=0.2, verbose=1)\n",
        "\n",
        "# Membuat prediksi pada set pengujian\n",
        "y_pred = model.predict(X_test_reshaped)\n",
        "\n",
        "# Menghitung dan mencetak metrik evaluasi\n",
        "mae = mean_absolute_error(y_test, y_pred)\n",
        "rmse = np.sqrt(mean_squared_error(y_test, y_pred))\n",
        "mape = mean_absolute_percentage_error(y_test, y_pred)\n",
        "\n",
        "print(f\"MAE: {mae}, RMSE: {rmse}, MAPE: {mape}\")\n",
        "\n",
        "# --- Prediksi untuk hari berikutnya (11-10-2024) menggunakan 30 data terakhir ---\n",
        "# Memilih 30 data terakhir dari X\n",
        "last_30_data = X.iloc[-30:]\n",
        "last_30_data_reshaped = last_30_data.values.reshape(30, 1, last_30_data.shape[1])\n",
        "\n",
        "# Memprediksi harga hari berikutnya menggunakan 30 data terakhir dan merata-ratakan prediksi\n",
        "predicted_next_day_prices = model.predict(last_30_data_reshaped)\n",
        "predicted_next_day_price = np.mean(predicted_next_day_prices)\n",
        "print(f\"\\nPrediksi harga untuk 11-10-2024: {predicted_next_day_price}\")\n",
        "\n",
        "# --- Membandingkan prediksi dengan data aktual ---\n",
        "# Membuat DataFrame untuk nilai aktual vs prediksi pada data uji\n",
        "comparison_df = pd.DataFrame({\n",
        "    \"tanggal\": X_test.index,\n",
        "    \"Actual\": y_test,\n",
        "    \"Predicted\": y_pred.flatten()\n",
        "}).sort_values(by=\"tanggal\").reset_index(drop=True)\n",
        "\n",
        "print(\"\\nHarga Aktual vs Prediksi:\")\n",
        "print(comparison_df)\n"
      ],
      "metadata": {
        "colab": {
          "base_uri": "https://localhost:8080/"
        },
        "id": "MsahjU3OrpiW",
        "outputId": "b077edc4-d88f-4e80-bdcf-8465d6177494"
      },
      "execution_count": null,
      "outputs": [
        {
          "output_type": "stream",
          "name": "stdout",
          "text": [
            "Epoch 1/100\n"
          ]
        },
        {
          "output_type": "stream",
          "name": "stderr",
          "text": [
            "/usr/local/lib/python3.10/dist-packages/keras/src/layers/rnn/rnn.py:204: UserWarning: Do not pass an `input_shape`/`input_dim` argument to a layer. When using Sequential models, prefer using an `Input(shape)` object as the first layer in the model instead.\n",
            "  super().__init__(**kwargs)\n"
          ]
        },
        {
          "output_type": "stream",
          "name": "stdout",
          "text": [
            "\u001b[1m19/19\u001b[0m \u001b[32m━━━━━━━━━━━━━━━━━━━━\u001b[0m\u001b[37m\u001b[0m \u001b[1m3s\u001b[0m 31ms/step - loss: 0.1423 - val_loss: 0.0874\n",
            "Epoch 2/100\n",
            "\u001b[1m19/19\u001b[0m \u001b[32m━━━━━━━━━━━━━━━━━━━━\u001b[0m\u001b[37m\u001b[0m \u001b[1m0s\u001b[0m 8ms/step - loss: 0.0866 - val_loss: 0.0395\n",
            "Epoch 3/100\n",
            "\u001b[1m19/19\u001b[0m \u001b[32m━━━━━━━━━━━━━━━━━━━━\u001b[0m\u001b[37m\u001b[0m \u001b[1m0s\u001b[0m 7ms/step - loss: 0.0327 - val_loss: 0.0118\n",
            "Epoch 4/100\n",
            "\u001b[1m19/19\u001b[0m \u001b[32m━━━━━━━━━━━━━━━━━━━━\u001b[0m\u001b[37m\u001b[0m \u001b[1m0s\u001b[0m 5ms/step - loss: 0.0090 - val_loss: 0.0062\n",
            "Epoch 5/100\n",
            "\u001b[1m19/19\u001b[0m \u001b[32m━━━━━━━━━━━━━━━━━━━━\u001b[0m\u001b[37m\u001b[0m \u001b[1m0s\u001b[0m 5ms/step - loss: 0.0073 - val_loss: 0.0053\n",
            "Epoch 6/100\n",
            "\u001b[1m19/19\u001b[0m \u001b[32m━━━━━━━━━━━━━━━━━━━━\u001b[0m\u001b[37m\u001b[0m \u001b[1m0s\u001b[0m 4ms/step - loss: 0.0061 - val_loss: 0.0045\n",
            "Epoch 7/100\n",
            "\u001b[1m19/19\u001b[0m \u001b[32m━━━━━━━━━━━━━━━━━━━━\u001b[0m\u001b[37m\u001b[0m \u001b[1m0s\u001b[0m 5ms/step - loss: 0.0057 - val_loss: 0.0039\n",
            "Epoch 8/100\n",
            "\u001b[1m19/19\u001b[0m \u001b[32m━━━━━━━━━━━━━━━━━━━━\u001b[0m\u001b[37m\u001b[0m \u001b[1m0s\u001b[0m 5ms/step - loss: 0.0053 - val_loss: 0.0034\n",
            "Epoch 9/100\n",
            "\u001b[1m19/19\u001b[0m \u001b[32m━━━━━━━━━━━━━━━━━━━━\u001b[0m\u001b[37m\u001b[0m \u001b[1m0s\u001b[0m 6ms/step - loss: 0.0047 - val_loss: 0.0030\n",
            "Epoch 10/100\n",
            "\u001b[1m19/19\u001b[0m \u001b[32m━━━━━━━━━━━━━━━━━━━━\u001b[0m\u001b[37m\u001b[0m \u001b[1m0s\u001b[0m 4ms/step - loss: 0.0038 - val_loss: 0.0027\n",
            "Epoch 11/100\n",
            "\u001b[1m19/19\u001b[0m \u001b[32m━━━━━━━━━━━━━━━━━━━━\u001b[0m\u001b[37m\u001b[0m \u001b[1m0s\u001b[0m 4ms/step - loss: 0.0037 - val_loss: 0.0026\n",
            "Epoch 12/100\n",
            "\u001b[1m19/19\u001b[0m \u001b[32m━━━━━━━━━━━━━━━━━━━━\u001b[0m\u001b[37m\u001b[0m \u001b[1m0s\u001b[0m 5ms/step - loss: 0.0035 - val_loss: 0.0024\n",
            "Epoch 13/100\n",
            "\u001b[1m19/19\u001b[0m \u001b[32m━━━━━━━━━━━━━━━━━━━━\u001b[0m\u001b[37m\u001b[0m \u001b[1m0s\u001b[0m 4ms/step - loss: 0.0040 - val_loss: 0.0024\n",
            "Epoch 14/100\n",
            "\u001b[1m19/19\u001b[0m \u001b[32m━━━━━━━━━━━━━━━━━━━━\u001b[0m\u001b[37m\u001b[0m \u001b[1m0s\u001b[0m 5ms/step - loss: 0.0035 - val_loss: 0.0023\n",
            "Epoch 15/100\n",
            "\u001b[1m19/19\u001b[0m \u001b[32m━━━━━━━━━━━━━━━━━━━━\u001b[0m\u001b[37m\u001b[0m \u001b[1m0s\u001b[0m 8ms/step - loss: 0.0034 - val_loss: 0.0023\n",
            "Epoch 16/100\n",
            "\u001b[1m19/19\u001b[0m \u001b[32m━━━━━━━━━━━━━━━━━━━━\u001b[0m\u001b[37m\u001b[0m \u001b[1m0s\u001b[0m 7ms/step - loss: 0.0037 - val_loss: 0.0022\n",
            "Epoch 17/100\n",
            "\u001b[1m19/19\u001b[0m \u001b[32m━━━━━━━━━━━━━━━━━━━━\u001b[0m\u001b[37m\u001b[0m \u001b[1m0s\u001b[0m 6ms/step - loss: 0.0035 - val_loss: 0.0022\n",
            "Epoch 18/100\n",
            "\u001b[1m19/19\u001b[0m \u001b[32m━━━━━━━━━━━━━━━━━━━━\u001b[0m\u001b[37m\u001b[0m \u001b[1m0s\u001b[0m 6ms/step - loss: 0.0022 - val_loss: 0.0022\n",
            "Epoch 19/100\n",
            "\u001b[1m19/19\u001b[0m \u001b[32m━━━━━━━━━━━━━━━━━━━━\u001b[0m\u001b[37m\u001b[0m \u001b[1m0s\u001b[0m 4ms/step - loss: 0.0031 - val_loss: 0.0022\n",
            "Epoch 20/100\n",
            "\u001b[1m19/19\u001b[0m \u001b[32m━━━━━━━━━━━━━━━━━━━━\u001b[0m\u001b[37m\u001b[0m \u001b[1m0s\u001b[0m 4ms/step - loss: 0.0029 - val_loss: 0.0021\n",
            "Epoch 21/100\n",
            "\u001b[1m19/19\u001b[0m \u001b[32m━━━━━━━━━━━━━━━━━━━━\u001b[0m\u001b[37m\u001b[0m \u001b[1m0s\u001b[0m 7ms/step - loss: 0.0026 - val_loss: 0.0022\n",
            "Epoch 22/100\n",
            "\u001b[1m19/19\u001b[0m \u001b[32m━━━━━━━━━━━━━━━━━━━━\u001b[0m\u001b[37m\u001b[0m \u001b[1m0s\u001b[0m 5ms/step - loss: 0.0025 - val_loss: 0.0021\n",
            "Epoch 23/100\n",
            "\u001b[1m19/19\u001b[0m \u001b[32m━━━━━━━━━━━━━━━━━━━━\u001b[0m\u001b[37m\u001b[0m \u001b[1m0s\u001b[0m 5ms/step - loss: 0.0026 - val_loss: 0.0021\n",
            "Epoch 24/100\n",
            "\u001b[1m19/19\u001b[0m \u001b[32m━━━━━━━━━━━━━━━━━━━━\u001b[0m\u001b[37m\u001b[0m \u001b[1m0s\u001b[0m 5ms/step - loss: 0.0028 - val_loss: 0.0020\n",
            "Epoch 25/100\n",
            "\u001b[1m19/19\u001b[0m \u001b[32m━━━━━━━━━━━━━━━━━━━━\u001b[0m\u001b[37m\u001b[0m \u001b[1m0s\u001b[0m 5ms/step - loss: 0.0033 - val_loss: 0.0020\n",
            "Epoch 26/100\n",
            "\u001b[1m19/19\u001b[0m \u001b[32m━━━━━━━━━━━━━━━━━━━━\u001b[0m\u001b[37m\u001b[0m \u001b[1m0s\u001b[0m 6ms/step - loss: 0.0027 - val_loss: 0.0020\n",
            "Epoch 27/100\n",
            "\u001b[1m19/19\u001b[0m \u001b[32m━━━━━━━━━━━━━━━━━━━━\u001b[0m\u001b[37m\u001b[0m \u001b[1m0s\u001b[0m 6ms/step - loss: 0.0030 - val_loss: 0.0020\n",
            "Epoch 28/100\n",
            "\u001b[1m19/19\u001b[0m \u001b[32m━━━━━━━━━━━━━━━━━━━━\u001b[0m\u001b[37m\u001b[0m \u001b[1m0s\u001b[0m 6ms/step - loss: 0.0026 - val_loss: 0.0020\n",
            "Epoch 29/100\n",
            "\u001b[1m19/19\u001b[0m \u001b[32m━━━━━━━━━━━━━━━━━━━━\u001b[0m\u001b[37m\u001b[0m \u001b[1m0s\u001b[0m 5ms/step - loss: 0.0026 - val_loss: 0.0019\n",
            "Epoch 30/100\n",
            "\u001b[1m19/19\u001b[0m \u001b[32m━━━━━━━━━━━━━━━━━━━━\u001b[0m\u001b[37m\u001b[0m \u001b[1m0s\u001b[0m 5ms/step - loss: 0.0024 - val_loss: 0.0020\n",
            "Epoch 31/100\n",
            "\u001b[1m19/19\u001b[0m \u001b[32m━━━━━━━━━━━━━━━━━━━━\u001b[0m\u001b[37m\u001b[0m \u001b[1m0s\u001b[0m 5ms/step - loss: 0.0027 - val_loss: 0.0019\n",
            "Epoch 32/100\n",
            "\u001b[1m19/19\u001b[0m \u001b[32m━━━━━━━━━━━━━━━━━━━━\u001b[0m\u001b[37m\u001b[0m \u001b[1m0s\u001b[0m 5ms/step - loss: 0.0028 - val_loss: 0.0019\n",
            "Epoch 33/100\n",
            "\u001b[1m19/19\u001b[0m \u001b[32m━━━━━━━━━━━━━━━━━━━━\u001b[0m\u001b[37m\u001b[0m \u001b[1m0s\u001b[0m 5ms/step - loss: 0.0029 - val_loss: 0.0018\n",
            "Epoch 34/100\n",
            "\u001b[1m19/19\u001b[0m \u001b[32m━━━━━━━━━━━━━━━━━━━━\u001b[0m\u001b[37m\u001b[0m \u001b[1m0s\u001b[0m 5ms/step - loss: 0.0029 - val_loss: 0.0018\n",
            "Epoch 35/100\n",
            "\u001b[1m19/19\u001b[0m \u001b[32m━━━━━━━━━━━━━━━━━━━━\u001b[0m\u001b[37m\u001b[0m \u001b[1m0s\u001b[0m 8ms/step - loss: 0.0029 - val_loss: 0.0018\n",
            "Epoch 36/100\n",
            "\u001b[1m19/19\u001b[0m \u001b[32m━━━━━━━━━━━━━━━━━━━━\u001b[0m\u001b[37m\u001b[0m \u001b[1m0s\u001b[0m 5ms/step - loss: 0.0032 - val_loss: 0.0017\n",
            "Epoch 37/100\n",
            "\u001b[1m19/19\u001b[0m \u001b[32m━━━━━━━━━━━━━━━━━━━━\u001b[0m\u001b[37m\u001b[0m \u001b[1m0s\u001b[0m 5ms/step - loss: 0.0031 - val_loss: 0.0017\n",
            "Epoch 38/100\n",
            "\u001b[1m19/19\u001b[0m \u001b[32m━━━━━━━━━━━━━━━━━━━━\u001b[0m\u001b[37m\u001b[0m \u001b[1m0s\u001b[0m 5ms/step - loss: 0.0028 - val_loss: 0.0017\n",
            "Epoch 39/100\n",
            "\u001b[1m19/19\u001b[0m \u001b[32m━━━━━━━━━━━━━━━━━━━━\u001b[0m\u001b[37m\u001b[0m \u001b[1m0s\u001b[0m 6ms/step - loss: 0.0024 - val_loss: 0.0017\n",
            "Epoch 40/100\n",
            "\u001b[1m19/19\u001b[0m \u001b[32m━━━━━━━━━━━━━━━━━━━━\u001b[0m\u001b[37m\u001b[0m \u001b[1m0s\u001b[0m 4ms/step - loss: 0.0024 - val_loss: 0.0016\n",
            "Epoch 41/100\n",
            "\u001b[1m19/19\u001b[0m \u001b[32m━━━━━━━━━━━━━━━━━━━━\u001b[0m\u001b[37m\u001b[0m \u001b[1m0s\u001b[0m 10ms/step - loss: 0.0020 - val_loss: 0.0016\n",
            "Epoch 42/100\n",
            "\u001b[1m19/19\u001b[0m \u001b[32m━━━━━━━━━━━━━━━━━━━━\u001b[0m\u001b[37m\u001b[0m \u001b[1m0s\u001b[0m 4ms/step - loss: 0.0016 - val_loss: 0.0016\n",
            "Epoch 43/100\n",
            "\u001b[1m19/19\u001b[0m \u001b[32m━━━━━━━━━━━━━━━━━━━━\u001b[0m\u001b[37m\u001b[0m \u001b[1m0s\u001b[0m 5ms/step - loss: 0.0022 - val_loss: 0.0016\n",
            "Epoch 44/100\n",
            "\u001b[1m19/19\u001b[0m \u001b[32m━━━━━━━━━━━━━━━━━━━━\u001b[0m\u001b[37m\u001b[0m \u001b[1m0s\u001b[0m 6ms/step - loss: 0.0025 - val_loss: 0.0015\n",
            "Epoch 45/100\n",
            "\u001b[1m19/19\u001b[0m \u001b[32m━━━━━━━━━━━━━━━━━━━━\u001b[0m\u001b[37m\u001b[0m \u001b[1m0s\u001b[0m 5ms/step - loss: 0.0024 - val_loss: 0.0015\n",
            "Epoch 46/100\n",
            "\u001b[1m19/19\u001b[0m \u001b[32m━━━━━━━━━━━━━━━━━━━━\u001b[0m\u001b[37m\u001b[0m \u001b[1m0s\u001b[0m 4ms/step - loss: 0.0027 - val_loss: 0.0015\n",
            "Epoch 47/100\n",
            "\u001b[1m19/19\u001b[0m \u001b[32m━━━━━━━━━━━━━━━━━━━━\u001b[0m\u001b[37m\u001b[0m \u001b[1m0s\u001b[0m 4ms/step - loss: 0.0028 - val_loss: 0.0015\n",
            "Epoch 48/100\n",
            "\u001b[1m19/19\u001b[0m \u001b[32m━━━━━━━━━━━━━━━━━━━━\u001b[0m\u001b[37m\u001b[0m \u001b[1m0s\u001b[0m 7ms/step - loss: 0.0022 - val_loss: 0.0015\n",
            "Epoch 49/100\n",
            "\u001b[1m19/19\u001b[0m \u001b[32m━━━━━━━━━━━━━━━━━━━━\u001b[0m\u001b[37m\u001b[0m \u001b[1m0s\u001b[0m 6ms/step - loss: 0.0021 - val_loss: 0.0015\n",
            "Epoch 50/100\n",
            "\u001b[1m19/19\u001b[0m \u001b[32m━━━━━━━━━━━━━━━━━━━━\u001b[0m\u001b[37m\u001b[0m \u001b[1m0s\u001b[0m 4ms/step - loss: 0.0020 - val_loss: 0.0014\n",
            "Epoch 51/100\n",
            "\u001b[1m19/19\u001b[0m \u001b[32m━━━━━━━━━━━━━━━━━━━━\u001b[0m\u001b[37m\u001b[0m \u001b[1m0s\u001b[0m 5ms/step - loss: 0.0026 - val_loss: 0.0014\n",
            "Epoch 52/100\n",
            "\u001b[1m19/19\u001b[0m \u001b[32m━━━━━━━━━━━━━━━━━━━━\u001b[0m\u001b[37m\u001b[0m \u001b[1m0s\u001b[0m 4ms/step - loss: 0.0024 - val_loss: 0.0014\n",
            "Epoch 53/100\n",
            "\u001b[1m19/19\u001b[0m \u001b[32m━━━━━━━━━━━━━━━━━━━━\u001b[0m\u001b[37m\u001b[0m \u001b[1m0s\u001b[0m 5ms/step - loss: 0.0022 - val_loss: 0.0014\n",
            "Epoch 54/100\n",
            "\u001b[1m19/19\u001b[0m \u001b[32m━━━━━━━━━━━━━━━━━━━━\u001b[0m\u001b[37m\u001b[0m \u001b[1m0s\u001b[0m 4ms/step - loss: 0.0024 - val_loss: 0.0013\n",
            "Epoch 55/100\n",
            "\u001b[1m19/19\u001b[0m \u001b[32m━━━━━━━━━━━━━━━━━━━━\u001b[0m\u001b[37m\u001b[0m \u001b[1m0s\u001b[0m 5ms/step - loss: 0.0023 - val_loss: 0.0013\n",
            "Epoch 56/100\n",
            "\u001b[1m19/19\u001b[0m \u001b[32m━━━━━━━━━━━━━━━━━━━━\u001b[0m\u001b[37m\u001b[0m \u001b[1m0s\u001b[0m 5ms/step - loss: 0.0018 - val_loss: 0.0013\n",
            "Epoch 57/100\n",
            "\u001b[1m19/19\u001b[0m \u001b[32m━━━━━━━━━━━━━━━━━━━━\u001b[0m\u001b[37m\u001b[0m \u001b[1m0s\u001b[0m 5ms/step - loss: 0.0020 - val_loss: 0.0013\n",
            "Epoch 58/100\n",
            "\u001b[1m19/19\u001b[0m \u001b[32m━━━━━━━━━━━━━━━━━━━━\u001b[0m\u001b[37m\u001b[0m \u001b[1m0s\u001b[0m 4ms/step - loss: 0.0023 - val_loss: 0.0013\n",
            "Epoch 59/100\n",
            "\u001b[1m19/19\u001b[0m \u001b[32m━━━━━━━━━━━━━━━━━━━━\u001b[0m\u001b[37m\u001b[0m \u001b[1m0s\u001b[0m 4ms/step - loss: 0.0022 - val_loss: 0.0013\n",
            "Epoch 60/100\n",
            "\u001b[1m19/19\u001b[0m \u001b[32m━━━━━━━━━━━━━━━━━━━━\u001b[0m\u001b[37m\u001b[0m \u001b[1m0s\u001b[0m 4ms/step - loss: 0.0020 - val_loss: 0.0012\n",
            "Epoch 61/100\n",
            "\u001b[1m19/19\u001b[0m \u001b[32m━━━━━━━━━━━━━━━━━━━━\u001b[0m\u001b[37m\u001b[0m \u001b[1m0s\u001b[0m 4ms/step - loss: 0.0018 - val_loss: 0.0014\n",
            "Epoch 62/100\n",
            "\u001b[1m19/19\u001b[0m \u001b[32m━━━━━━━━━━━━━━━━━━━━\u001b[0m\u001b[37m\u001b[0m \u001b[1m0s\u001b[0m 7ms/step - loss: 0.0015 - val_loss: 0.0012\n",
            "Epoch 63/100\n",
            "\u001b[1m19/19\u001b[0m \u001b[32m━━━━━━━━━━━━━━━━━━━━\u001b[0m\u001b[37m\u001b[0m \u001b[1m0s\u001b[0m 7ms/step - loss: 0.0016 - val_loss: 0.0012\n",
            "Epoch 64/100\n",
            "\u001b[1m19/19\u001b[0m \u001b[32m━━━━━━━━━━━━━━━━━━━━\u001b[0m\u001b[37m\u001b[0m \u001b[1m0s\u001b[0m 5ms/step - loss: 0.0019 - val_loss: 0.0012\n",
            "Epoch 65/100\n",
            "\u001b[1m19/19\u001b[0m \u001b[32m━━━━━━━━━━━━━━━━━━━━\u001b[0m\u001b[37m\u001b[0m \u001b[1m0s\u001b[0m 4ms/step - loss: 0.0013 - val_loss: 0.0012\n",
            "Epoch 66/100\n",
            "\u001b[1m19/19\u001b[0m \u001b[32m━━━━━━━━━━━━━━━━━━━━\u001b[0m\u001b[37m\u001b[0m \u001b[1m0s\u001b[0m 5ms/step - loss: 0.0016 - val_loss: 0.0012\n",
            "Epoch 67/100\n",
            "\u001b[1m19/19\u001b[0m \u001b[32m━━━━━━━━━━━━━━━━━━━━\u001b[0m\u001b[37m\u001b[0m \u001b[1m0s\u001b[0m 5ms/step - loss: 0.0020 - val_loss: 0.0012\n",
            "Epoch 68/100\n",
            "\u001b[1m19/19\u001b[0m \u001b[32m━━━━━━━━━━━━━━━━━━━━\u001b[0m\u001b[37m\u001b[0m \u001b[1m0s\u001b[0m 6ms/step - loss: 0.0018 - val_loss: 0.0011\n",
            "Epoch 69/100\n",
            "\u001b[1m19/19\u001b[0m \u001b[32m━━━━━━━━━━━━━━━━━━━━\u001b[0m\u001b[37m\u001b[0m \u001b[1m0s\u001b[0m 6ms/step - loss: 0.0015 - val_loss: 0.0011\n",
            "Epoch 70/100\n",
            "\u001b[1m19/19\u001b[0m \u001b[32m━━━━━━━━━━━━━━━━━━━━\u001b[0m\u001b[37m\u001b[0m \u001b[1m0s\u001b[0m 7ms/step - loss: 0.0016 - val_loss: 0.0011\n",
            "Epoch 71/100\n",
            "\u001b[1m19/19\u001b[0m \u001b[32m━━━━━━━━━━━━━━━━━━━━\u001b[0m\u001b[37m\u001b[0m \u001b[1m0s\u001b[0m 7ms/step - loss: 0.0019 - val_loss: 0.0011\n",
            "Epoch 72/100\n",
            "\u001b[1m19/19\u001b[0m \u001b[32m━━━━━━━━━━━━━━━━━━━━\u001b[0m\u001b[37m\u001b[0m \u001b[1m0s\u001b[0m 6ms/step - loss: 0.0013 - val_loss: 0.0010\n",
            "Epoch 73/100\n",
            "\u001b[1m19/19\u001b[0m \u001b[32m━━━━━━━━━━━━━━━━━━━━\u001b[0m\u001b[37m\u001b[0m \u001b[1m0s\u001b[0m 8ms/step - loss: 0.0016 - val_loss: 0.0010\n",
            "Epoch 74/100\n",
            "\u001b[1m19/19\u001b[0m \u001b[32m━━━━━━━━━━━━━━━━━━━━\u001b[0m\u001b[37m\u001b[0m \u001b[1m0s\u001b[0m 7ms/step - loss: 0.0017 - val_loss: 0.0011\n",
            "Epoch 75/100\n",
            "\u001b[1m19/19\u001b[0m \u001b[32m━━━━━━━━━━━━━━━━━━━━\u001b[0m\u001b[37m\u001b[0m \u001b[1m0s\u001b[0m 8ms/step - loss: 0.0014 - val_loss: 0.0010\n",
            "Epoch 76/100\n",
            "\u001b[1m19/19\u001b[0m \u001b[32m━━━━━━━━━━━━━━━━━━━━\u001b[0m\u001b[37m\u001b[0m \u001b[1m0s\u001b[0m 9ms/step - loss: 0.0017 - val_loss: 0.0010\n",
            "Epoch 77/100\n",
            "\u001b[1m19/19\u001b[0m \u001b[32m━━━━━━━━━━━━━━━━━━━━\u001b[0m\u001b[37m\u001b[0m \u001b[1m0s\u001b[0m 9ms/step - loss: 0.0015 - val_loss: 0.0010\n",
            "Epoch 78/100\n",
            "\u001b[1m19/19\u001b[0m \u001b[32m━━━━━━━━━━━━━━━━━━━━\u001b[0m\u001b[37m\u001b[0m \u001b[1m0s\u001b[0m 9ms/step - loss: 0.0013 - val_loss: 9.9366e-04\n",
            "Epoch 79/100\n",
            "\u001b[1m19/19\u001b[0m \u001b[32m━━━━━━━━━━━━━━━━━━━━\u001b[0m\u001b[37m\u001b[0m \u001b[1m0s\u001b[0m 9ms/step - loss: 0.0014 - val_loss: 9.8259e-04\n",
            "Epoch 80/100\n",
            "\u001b[1m19/19\u001b[0m \u001b[32m━━━━━━━━━━━━━━━━━━━━\u001b[0m\u001b[37m\u001b[0m \u001b[1m0s\u001b[0m 5ms/step - loss: 0.0014 - val_loss: 9.7025e-04\n",
            "Epoch 81/100\n",
            "\u001b[1m19/19\u001b[0m \u001b[32m━━━━━━━━━━━━━━━━━━━━\u001b[0m\u001b[37m\u001b[0m \u001b[1m0s\u001b[0m 7ms/step - loss: 0.0011 - val_loss: 0.0011\n",
            "Epoch 82/100\n",
            "\u001b[1m19/19\u001b[0m \u001b[32m━━━━━━━━━━━━━━━━━━━━\u001b[0m\u001b[37m\u001b[0m \u001b[1m0s\u001b[0m 5ms/step - loss: 0.0015 - val_loss: 0.0010\n",
            "Epoch 83/100\n",
            "\u001b[1m19/19\u001b[0m \u001b[32m━━━━━━━━━━━━━━━━━━━━\u001b[0m\u001b[37m\u001b[0m \u001b[1m0s\u001b[0m 6ms/step - loss: 0.0013 - val_loss: 9.5358e-04\n",
            "Epoch 84/100\n",
            "\u001b[1m19/19\u001b[0m \u001b[32m━━━━━━━━━━━━━━━━━━━━\u001b[0m\u001b[37m\u001b[0m \u001b[1m0s\u001b[0m 7ms/step - loss: 0.0014 - val_loss: 9.4800e-04\n",
            "Epoch 85/100\n",
            "\u001b[1m19/19\u001b[0m \u001b[32m━━━━━━━━━━━━━━━━━━━━\u001b[0m\u001b[37m\u001b[0m \u001b[1m0s\u001b[0m 5ms/step - loss: 0.0012 - val_loss: 9.4991e-04\n",
            "Epoch 86/100\n",
            "\u001b[1m19/19\u001b[0m \u001b[32m━━━━━━━━━━━━━━━━━━━━\u001b[0m\u001b[37m\u001b[0m \u001b[1m0s\u001b[0m 5ms/step - loss: 0.0013 - val_loss: 9.4134e-04\n",
            "Epoch 87/100\n",
            "\u001b[1m19/19\u001b[0m \u001b[32m━━━━━━━━━━━━━━━━━━━━\u001b[0m\u001b[37m\u001b[0m \u001b[1m0s\u001b[0m 6ms/step - loss: 0.0012 - val_loss: 9.4155e-04\n",
            "Epoch 88/100\n",
            "\u001b[1m19/19\u001b[0m \u001b[32m━━━━━━━━━━━━━━━━━━━━\u001b[0m\u001b[37m\u001b[0m \u001b[1m0s\u001b[0m 5ms/step - loss: 0.0012 - val_loss: 0.0011\n",
            "Epoch 89/100\n",
            "\u001b[1m19/19\u001b[0m \u001b[32m━━━━━━━━━━━━━━━━━━━━\u001b[0m\u001b[37m\u001b[0m \u001b[1m0s\u001b[0m 5ms/step - loss: 0.0016 - val_loss: 0.0012\n",
            "Epoch 90/100\n",
            "\u001b[1m19/19\u001b[0m \u001b[32m━━━━━━━━━━━━━━━━━━━━\u001b[0m\u001b[37m\u001b[0m \u001b[1m0s\u001b[0m 5ms/step - loss: 0.0013 - val_loss: 9.5473e-04\n",
            "Epoch 91/100\n",
            "\u001b[1m19/19\u001b[0m \u001b[32m━━━━━━━━━━━━━━━━━━━━\u001b[0m\u001b[37m\u001b[0m \u001b[1m0s\u001b[0m 7ms/step - loss: 0.0014 - val_loss: 9.3412e-04\n",
            "Epoch 92/100\n",
            "\u001b[1m19/19\u001b[0m \u001b[32m━━━━━━━━━━━━━━━━━━━━\u001b[0m\u001b[37m\u001b[0m \u001b[1m0s\u001b[0m 5ms/step - loss: 0.0014 - val_loss: 9.2983e-04\n",
            "Epoch 93/100\n",
            "\u001b[1m19/19\u001b[0m \u001b[32m━━━━━━━━━━━━━━━━━━━━\u001b[0m\u001b[37m\u001b[0m \u001b[1m0s\u001b[0m 5ms/step - loss: 0.0011 - val_loss: 9.4020e-04\n",
            "Epoch 94/100\n",
            "\u001b[1m19/19\u001b[0m \u001b[32m━━━━━━━━━━━━━━━━━━━━\u001b[0m\u001b[37m\u001b[0m \u001b[1m0s\u001b[0m 7ms/step - loss: 0.0012 - val_loss: 9.3660e-04\n",
            "Epoch 95/100\n",
            "\u001b[1m19/19\u001b[0m \u001b[32m━━━━━━━━━━━━━━━━━━━━\u001b[0m\u001b[37m\u001b[0m \u001b[1m0s\u001b[0m 5ms/step - loss: 0.0016 - val_loss: 9.6997e-04\n",
            "Epoch 96/100\n",
            "\u001b[1m19/19\u001b[0m \u001b[32m━━━━━━━━━━━━━━━━━━━━\u001b[0m\u001b[37m\u001b[0m \u001b[1m0s\u001b[0m 6ms/step - loss: 0.0012 - val_loss: 9.2634e-04\n",
            "Epoch 97/100\n",
            "\u001b[1m19/19\u001b[0m \u001b[32m━━━━━━━━━━━━━━━━━━━━\u001b[0m\u001b[37m\u001b[0m \u001b[1m0s\u001b[0m 6ms/step - loss: 0.0010 - val_loss: 9.3645e-04\n",
            "Epoch 98/100\n",
            "\u001b[1m19/19\u001b[0m \u001b[32m━━━━━━━━━━━━━━━━━━━━\u001b[0m\u001b[37m\u001b[0m \u001b[1m0s\u001b[0m 7ms/step - loss: 0.0013 - val_loss: 0.0010\n",
            "Epoch 99/100\n",
            "\u001b[1m19/19\u001b[0m \u001b[32m━━━━━━━━━━━━━━━━━━━━\u001b[0m\u001b[37m\u001b[0m \u001b[1m0s\u001b[0m 5ms/step - loss: 0.0011 - val_loss: 9.2597e-04\n",
            "Epoch 100/100\n",
            "\u001b[1m19/19\u001b[0m \u001b[32m━━━━━━━━━━━━━━━━━━━━\u001b[0m\u001b[37m\u001b[0m \u001b[1m0s\u001b[0m 6ms/step - loss: 0.0010 - val_loss: 9.3969e-04\n",
            "\u001b[1m3/3\u001b[0m \u001b[32m━━━━━━━━━━━━━━━━━━━━\u001b[0m\u001b[37m\u001b[0m \u001b[1m0s\u001b[0m 86ms/step\n",
            "MAE: 0.01833413277315044, RMSE: 0.026280299721632473, MAPE: 0.13393525814165574\n",
            "\u001b[1m1/1\u001b[0m \u001b[32m━━━━━━━━━━━━━━━━━━━━\u001b[0m\u001b[37m\u001b[0m \u001b[1m0s\u001b[0m 22ms/step\n",
            "\n",
            "Prediksi harga untuk 11-10-2024: 0.04830057919025421\n",
            "\n",
            "Harga Aktual vs Prediksi:\n",
            "    tanggal    Actual  Predicted\n",
            "0         0  0.331470   0.310028\n",
            "1         9  0.300319   0.303171\n",
            "2        11  0.304313   0.295103\n",
            "3        15  0.257188   0.255609\n",
            "4        19  0.265974   0.260535\n",
            "..      ...       ...        ...\n",
            "87      445  0.042332   0.046703\n",
            "88      447  0.022364   0.035852\n",
            "89      450  0.027955   0.031892\n",
            "90      451  0.013578   0.034473\n",
            "91      454  0.003195   0.015363\n",
            "\n",
            "[92 rows x 3 columns]\n"
          ]
        }
      ]
    },
    {
      "cell_type": "markdown",
      "source": [
        "##Model SVR"
      ],
      "metadata": {
        "id": "kwVY-Na019Zq"
      }
    },
    {
      "cell_type": "code",
      "source": [
        "import pandas as pd\n",
        "import numpy as np\n",
        "from sklearn.svm import SVR\n",
        "from sklearn.model_selection import train_test_split\n",
        "from sklearn.metrics import mean_absolute_error, mean_squared_error, mean_absolute_percentage_error\n",
        "\n",
        "# Path file (ganti dengan path file Anda sendiri)\n",
        "file_path = '/content/sample_data/pembagian.xlsx'\n",
        "\n",
        "# Memuat data\n",
        "data = pd.read_excel(file_path)\n",
        "\n",
        "# Mendefinisikan dan melatih model SVR\n",
        "svr_model = SVR(kernel='rbf', C=1.0, epsilon=0.1)  # Parameter dapat disesuaikan sesuai kebutuhan\n",
        "svr_model.fit(X_train, y_train)\n",
        "\n",
        "# Memprediksi pada set pengujian\n",
        "y_pred = svr_model.predict(X_test)\n",
        "\n",
        "# Menghitung dan mencetak metrik evaluasi\n",
        "mae = mean_absolute_error(y_test, y_pred)\n",
        "rmse = np.sqrt(mean_squared_error(y_test, y_pred))\n",
        "mape = mean_absolute_percentage_error(y_test, y_pred)\n",
        "\n",
        "print(f\"MAE: {mae}, RMSE: {rmse}, MAPE: {mape}\")\n",
        "\n",
        "# --- Prediksi untuk hari berikutnya (11-10-2024) menggunakan 30 data terakhir ---\n",
        "# Mengambil 30 data terakhir untuk prediksi\n",
        "last_30_data = X.iloc[-30:]\n",
        "\n",
        "# Memprediksi harga hari berikutnya dengan merata-rata prediksi dari 30 data terakhir\n",
        "predicted_next_day_prices = svr_model.predict(last_30_data)\n",
        "predicted_next_day_price = np.mean(predicted_next_day_prices)\n",
        "print(f\"\\nPrediksi harga untuk 11-10-2024: {predicted_next_day_price}\")\n",
        "\n",
        "# --- Membandingkan prediksi dengan data aktual ---\n",
        "# Membuat DataFrame untuk nilai aktual vs prediksi\n",
        "comparison_df = pd.DataFrame({\n",
        "    \"tanggal\": X_test.index,\n",
        "    \"Actual\": y_test,\n",
        "    \"Predicted\": y_pred\n",
        "})\n",
        "\n",
        "# Mengurutkan DataFrame berdasarkan tanggal\n",
        "comparison_df = comparison_df.sort_values(by=\"tanggal\").reset_index(drop=True)\n",
        "\n",
        "print(\"\\nHarga Aktual vs Prediksi:\")\n",
        "print(comparison_df)\n"
      ],
      "metadata": {
        "colab": {
          "base_uri": "https://localhost:8080/"
        },
        "id": "Jl2qrrIxxyjR",
        "outputId": "d08295b3-f569-494b-9333-3ac1d6bd42a7"
      },
      "execution_count": null,
      "outputs": [
        {
          "output_type": "stream",
          "name": "stdout",
          "text": [
            "MAE: 0.04317124124443488, RMSE: 0.05122279276766557, MAPE: 0.6769765920647661\n",
            "\n",
            "Prediksi harga untuk 11-10-2024: 0.11367973240462349\n",
            "\n",
            "Harga Aktual vs Prediksi:\n",
            "    tanggal    Actual  Predicted\n",
            "0         0  0.331470   0.335119\n",
            "1         9  0.300319   0.323132\n",
            "2        11  0.304313   0.322132\n",
            "3        15  0.257188   0.291776\n",
            "4        19  0.265974   0.301776\n",
            "..      ...       ...        ...\n",
            "87      445  0.042332   0.101750\n",
            "88      447  0.022364   0.099278\n",
            "89      450  0.027955   0.099163\n",
            "90      451  0.013578   0.099668\n",
            "91      454  0.003195   0.098296\n",
            "\n",
            "[92 rows x 3 columns]\n"
          ]
        }
      ]
    }
  ],
  "metadata": {
    "colab": {
      "provenance": []
    },
    "kernelspec": {
      "display_name": "Python 3",
      "name": "python3"
    },
    "language_info": {
      "name": "python"
    }
  },
  "nbformat": 4,
  "nbformat_minor": 0
}